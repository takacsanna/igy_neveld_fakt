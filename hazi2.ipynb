{
  "nbformat": 4,
  "nbformat_minor": 0,
  "metadata": {
    "colab": {
      "name": "hazi2.ipynb",
      "provenance": [],
      "authorship_tag": "ABX9TyOXnFGB+BMG34GsoiIstmJ6",
      "include_colab_link": true
    },
    "kernelspec": {
      "name": "python3",
      "display_name": "Python 3"
    },
    "language_info": {
      "name": "python"
    }
  },
  "cells": [
    {
      "cell_type": "markdown",
      "metadata": {
        "id": "view-in-github",
        "colab_type": "text"
      },
      "source": [
        "<a href=\"https://colab.research.google.com/github/takacsanna/igy_neveld_fakt/blob/main/hazi2.ipynb\" target=\"_parent\"><img src=\"https://colab.research.google.com/assets/colab-badge.svg\" alt=\"Open In Colab\"/></a>"
      ]
    },
    {
      "cell_type": "markdown",
      "source": [
        "#2. házi feladat"
      ],
      "metadata": {
        "id": "ntJNvlGIrY60"
      }
    },
    {
      "cell_type": "markdown",
      "source": [
        "###Függvények implementálása és kirajzolása"
      ],
      "metadata": {
        "id": "CDxr5Q7WreDV"
      }
    },
    {
      "cell_type": "code",
      "source": [
        "import math\n",
        "import matplotlib.pyplot as plt\n",
        "import numpy as np"
      ],
      "metadata": {
        "id": "ZOFtwjUlrdQy"
      },
      "execution_count": 2,
      "outputs": []
    },
    {
      "cell_type": "code",
      "execution_count": 3,
      "metadata": {
        "id": "H2lNRr9urXRb"
      },
      "outputs": [],
      "source": [
        "def sigmoid(x):\n",
        "    a = []\n",
        "    for pont in x:\n",
        "        a.append(1/(1+math.exp(-pont)))\n",
        "    return a"
      ]
    },
    {
      "cell_type": "code",
      "source": [
        "x = np.arange(-10., 10., 0.2)\n",
        "sig = sigmoid(x)\n",
        "plt.plot(x,sig)\n",
        "plt.show()"
      ],
      "metadata": {
        "colab": {
          "base_uri": "https://localhost:8080/",
          "height": 265
        },
        "id": "IYR_hFPGsjy-",
        "outputId": "ecaf5ee4-b9ef-437f-e781-f7a51d5a695a"
      },
      "execution_count": 4,
      "outputs": [
        {
          "output_type": "display_data",
          "data": {
            "image/png": "[encoded data removed]",
            "text/plain": [
              "<Figure size 432x288 with 1 Axes>"
            ]
          },
          "metadata": {
            "needs_background": "light"
          }
        }
      ]
    },
    {
      "cell_type": "code",
      "source": [
        "def relu(y):\n",
        "    a = []\n",
        "    for pont in y:\n",
        "      if pont > 0:\n",
        "        a.append(pont)\n",
        "      else:\n",
        "        a.append(0)\n",
        "    return a"
      ],
      "metadata": {
        "id": "Lt6Q3IuLszTf"
      },
      "execution_count": 13,
      "outputs": []
    },
    {
      "cell_type": "code",
      "source": [
        "y = np.arange(-10., 10., 0.2)\n",
        "relu_fv = relu(y)\n",
        "plt.plot(y,relu_fv)\n",
        "plt.show()"
      ],
      "metadata": {
        "colab": {
          "base_uri": "https://localhost:8080/",
          "height": 265
        },
        "id": "IQXIPxl8uD8c",
        "outputId": "926a48ec-d2e2-47d1-a559-d40798eaaed5"
      },
      "execution_count": 14,
      "outputs": [
        {
          "output_type": "display_data",
          "data": {
            "image/png": "[encoded data removed]",
            "text/plain": [
              "<Figure size 432x288 with 1 Axes>"
            ]
          },
          "metadata": {
            "needs_background": "light"
          }
        }
      ]
    },
    {
      "cell_type": "markdown",
      "source": [
        "###Regressziós probléma"
      ],
      "metadata": {
        "id": "84bifrS7vIO_"
      }
    },
    {
      "cell_type": "code",
      "source": [
        "import pandas as pd\n",
        "from sklearn.preprocessing import LabelEncoder, StandardScaler\n",
        "from sklearn.model_selection import train_test_split\n",
        "from google.colab import drive"
      ],
      "metadata": {
        "id": "f5QTum8Ey5Pt"
      },
      "execution_count": 20,
      "outputs": []
    },
    {
      "cell_type": "code",
      "source": [
        "url='https://drive.google.com/file/d/1aIsvw-wDM9ZoP-fIBYBzKnorC7GDaNZV/view?usp=sharing'\n",
        "path = 'https://drive.google.com/uc?export=download&id='+url.split('/')[-2]\n",
        "df = pd.read_csv(path)\n",
        "df.columns=[\"sex\", \"length\", \"diam\", \"height\", \"wweight\", \"sweight\", \"vweight\", \"shellw\", \"rings\"]"
      ],
      "metadata": {
        "id": "XykXWmhw4q9h"
      },
      "execution_count": 40,
      "outputs": []
    },
    {
      "cell_type": "code",
      "source": [
        "df.head()"
      ],
      "metadata": {
        "colab": {
          "base_uri": "https://localhost:8080/",
          "height": 206
        },
        "id": "5JQ5_ZRo48fD",
        "outputId": "e1ef88fc-86da-44e8-a795-d7d92a502130"
      },
      "execution_count": 41,
      "outputs": [
        {
          "output_type": "execute_result",
          "data": {
            "text/html": [
              "\n",
              "  <div id=\"df-fa181466-7619-4d9c-ba3c-f819be1573b5\">\n",
              "    <div class=\"colab-df-container\">\n",
              "      <div>\n",
              "<style scoped>\n",
              "    .dataframe tbody tr th:only-of-type {\n",
              "        vertical-align: middle;\n",
              "    }\n",
              "\n",
              "    .dataframe tbody tr th {\n",
              "        vertical-align: top;\n",
              "    }\n",
              "\n",
              "    .dataframe thead th {\n",
              "        text-align: right;\n",
              "    }\n",
              "</style>\n",
              "<table border=\"1\" class=\"dataframe\">\n",
              "  <thead>\n",
              "    <tr style=\"text-align: right;\">\n",
              "      <th></th>\n",
              "      <th>sex</th>\n",
              "      <th>length</th>\n",
              "      <th>diam</th>\n",
              "      <th>height</th>\n",
              "      <th>wweight</th>\n",
              "      <th>sweight</th>\n",
              "      <th>vweight</th>\n",
              "      <th>shellw</th>\n",
              "      <th>rings</th>\n",
              "    </tr>\n",
              "  </thead>\n",
              "  <tbody>\n",
              "    <tr>\n",
              "      <th>0</th>\n",
              "      <td>M</td>\n",
              "      <td>0.350</td>\n",
              "      <td>0.265</td>\n",
              "      <td>0.090</td>\n",
              "      <td>0.2255</td>\n",
              "      <td>0.0995</td>\n",
              "      <td>0.0485</td>\n",
              "      <td>0.070</td>\n",
              "      <td>7</td>\n",
              "    </tr>\n",
              "    <tr>\n",
              "      <th>1</th>\n",
              "      <td>F</td>\n",
              "      <td>0.530</td>\n",
              "      <td>0.420</td>\n",
              "      <td>0.135</td>\n",
              "      <td>0.6770</td>\n",
              "      <td>0.2565</td>\n",
              "      <td>0.1415</td>\n",
              "      <td>0.210</td>\n",
              "      <td>9</td>\n",
              "    </tr>\n",
              "    <tr>\n",
              "      <th>2</th>\n",
              "      <td>M</td>\n",
              "      <td>0.440</td>\n",
              "      <td>0.365</td>\n",
              "      <td>0.125</td>\n",
              "      <td>0.5160</td>\n",
              "      <td>0.2155</td>\n",
              "      <td>0.1140</td>\n",
              "      <td>0.155</td>\n",
              "      <td>10</td>\n",
              "    </tr>\n",
              "    <tr>\n",
              "      <th>3</th>\n",
              "      <td>I</td>\n",
              "      <td>0.330</td>\n",
              "      <td>0.255</td>\n",
              "      <td>0.080</td>\n",
              "      <td>0.2050</td>\n",
              "      <td>0.0895</td>\n",
              "      <td>0.0395</td>\n",
              "      <td>0.055</td>\n",
              "      <td>7</td>\n",
              "    </tr>\n",
              "    <tr>\n",
              "      <th>4</th>\n",
              "      <td>I</td>\n",
              "      <td>0.425</td>\n",
              "      <td>0.300</td>\n",
              "      <td>0.095</td>\n",
              "      <td>0.3515</td>\n",
              "      <td>0.1410</td>\n",
              "      <td>0.0775</td>\n",
              "      <td>0.120</td>\n",
              "      <td>8</td>\n",
              "    </tr>\n",
              "  </tbody>\n",
              "</table>\n",
              "</div>\n",
              "      <button class=\"colab-df-convert\" onclick=\"convertToInteractive('df-fa181466-7619-4d9c-ba3c-f819be1573b5')\"\n",
              "              title=\"Convert this dataframe to an interactive table.\"\n",
              "              style=\"display:none;\">\n",
              "        \n",
              "  <svg xmlns=\"http://www.w3.org/2000/svg\" height=\"24px\"viewBox=\"0 0 24 24\"\n",
              "       width=\"24px\">\n",
              "    <path d=\"M0 0h24v24H0V0z\" fill=\"none\"/>\n",
              "    <path d=\"M18.56 5.44l.94 2.06.94-2.06 2.06-.94-2.06-.94-.94-2.06-.94 2.06-2.06.94zm-11 1L8.5 8.5l.94-2.06 2.06-.94-2.06-.94L8.5 2.5l-.94 2.06-2.06.94zm10 10l.94 2.06.94-2.06 2.06-.94-2.06-.94-.94-2.06-.94 2.06-2.06.94z\"/><path d=\"M17.41 7.96l-1.37-1.37c-.4-.4-.92-.59-1.43-.59-.52 0-1.04.2-1.43.59L10.3 9.45l-7.72 7.72c-.78.78-.78 2.05 0 2.83L4 21.41c.39.39.9.59 1.41.59.51 0 1.02-.2 1.41-.59l7.78-7.78 2.81-2.81c.8-.78.8-2.07 0-2.86zM5.41 20L4 18.59l7.72-7.72 1.47 1.35L5.41 20z\"/>\n",
              "  </svg>\n",
              "      </button>\n",
              "      \n",
              "  <style>\n",
              "    .colab-df-container {\n",
              "      display:flex;\n",
              "      flex-wrap:wrap;\n",
              "      gap: 12px;\n",
              "    }\n",
              "\n",
              "    .colab-df-convert {\n",
              "      background-color: #E8F0FE;\n",
              "      border: none;\n",
              "      border-radius: 50%;\n",
              "      cursor: pointer;\n",
              "      display: none;\n",
              "      fill: #1967D2;\n",
              "      height: 32px;\n",
              "      padding: 0 0 0 0;\n",
              "      width: 32px;\n",
              "    }\n",
              "\n",
              "    .colab-df-convert:hover {\n",
              "      background-color: #E2EBFA;\n",
              "      box-shadow: 0px 1px 2px rgba(60, 64, 67, 0.3), 0px 1px 3px 1px rgba(60, 64, 67, 0.15);\n",
              "      fill: #174EA6;\n",
              "    }\n",
              "\n",
              "    [theme=dark] .colab-df-convert {\n",
              "      background-color: #3B4455;\n",
              "      fill: #D2E3FC;\n",
              "    }\n",
              "\n",
              "    [theme=dark] .colab-df-convert:hover {\n",
              "      background-color: #434B5C;\n",
              "      box-shadow: 0px 1px 3px 1px rgba(0, 0, 0, 0.15);\n",
              "      filter: drop-shadow(0px 1px 2px rgba(0, 0, 0, 0.3));\n",
              "      fill: #FFFFFF;\n",
              "    }\n",
              "  </style>\n",
              "\n",
              "      <script>\n",
              "        const buttonEl =\n",
              "          document.querySelector('#df-fa181466-7619-4d9c-ba3c-f819be1573b5 button.colab-df-convert');\n",
              "        buttonEl.style.display =\n",
              "          google.colab.kernel.accessAllowed ? 'block' : 'none';\n",
              "\n",
              "        async function convertToInteractive(key) {\n",
              "          const element = document.querySelector('#df-fa181466-7619-4d9c-ba3c-f819be1573b5');\n",
              "          const dataTable =\n",
              "            await google.colab.kernel.invokeFunction('convertToInteractive',\n",
              "                                                     [key], {});\n",
              "          if (!dataTable) return;\n",
              "\n",
              "          const docLinkHtml = 'Like what you see? Visit the ' +\n",
              "            '<a target=\"_blank\" href=https://colab.research.google.com/notebooks/data_table.ipynb>data table notebook</a>'\n",
              "            + ' to learn more about interactive tables.';\n",
              "          element.innerHTML = '';\n",
              "          dataTable['output_type'] = 'display_data';\n",
              "          await google.colab.output.renderOutput(dataTable, element);\n",
              "          const docLink = document.createElement('div');\n",
              "          docLink.innerHTML = docLinkHtml;\n",
              "          element.appendChild(docLink);\n",
              "        }\n",
              "      </script>\n",
              "    </div>\n",
              "  </div>\n",
              "  "
            ],
            "text/plain": [
              "  sex  length   diam  height  wweight  sweight  vweight  shellw  rings\n",
              "0   M   0.350  0.265   0.090   0.2255   0.0995   0.0485   0.070      7\n",
              "1   F   0.530  0.420   0.135   0.6770   0.2565   0.1415   0.210      9\n",
              "2   M   0.440  0.365   0.125   0.5160   0.2155   0.1140   0.155     10\n",
              "3   I   0.330  0.255   0.080   0.2050   0.0895   0.0395   0.055      7\n",
              "4   I   0.425  0.300   0.095   0.3515   0.1410   0.0775   0.120      8"
            ]
          },
          "metadata": {},
          "execution_count": 41
        }
      ]
    },
    {
      "cell_type": "code",
      "source": [
        "df.isna().sum()"
      ],
      "metadata": {
        "colab": {
          "base_uri": "https://localhost:8080/"
        },
        "id": "iB4Ym9pg5H6W",
        "outputId": "0082960a-1a17-459f-90ed-a537773c3464"
      },
      "execution_count": 42,
      "outputs": [
        {
          "output_type": "execute_result",
          "data": {
            "text/plain": [
              "sex        0\n",
              "length     0\n",
              "diam       0\n",
              "height     0\n",
              "wweight    0\n",
              "sweight    0\n",
              "vweight    0\n",
              "shellw     0\n",
              "rings      0\n",
              "dtype: int64"
            ]
          },
          "metadata": {},
          "execution_count": 42
        }
      ]
    },
    {
      "cell_type": "code",
      "source": [
        "labeler = LabelEncoder()"
      ],
      "metadata": {
        "id": "w5_L0AMh5N4_"
      },
      "execution_count": 43,
      "outputs": []
    },
    {
      "cell_type": "code",
      "source": [
        "labeler.fit(df.sex)"
      ],
      "metadata": {
        "colab": {
          "base_uri": "https://localhost:8080/"
        },
        "id": "T2Ce5UwO5TNh",
        "outputId": "949e688e-0204-4311-e3cd-64e1ed3a53a7"
      },
      "execution_count": 45,
      "outputs": [
        {
          "output_type": "execute_result",
          "data": {
            "text/plain": [
              "LabelEncoder()"
            ]
          },
          "metadata": {},
          "execution_count": 45
        }
      ]
    },
    {
      "cell_type": "code",
      "source": [
        "df.sex = labeler.transform(df.sex)"
      ],
      "metadata": {
        "id": "A12uhdIj5XBU"
      },
      "execution_count": 46,
      "outputs": []
    },
    {
      "cell_type": "code",
      "source": [
        "df.head()"
      ],
      "metadata": {
        "colab": {
          "base_uri": "https://localhost:8080/",
          "height": 206
        },
        "id": "-iFvCpG65bZZ",
        "outputId": "c79eb3f2-d563-46e7-d070-ad9f03b2f6e5"
      },
      "execution_count": 47,
      "outputs": [
        {
          "output_type": "execute_result",
          "data": {
            "text/html": [
              "\n",
              "  <div id=\"df-409cb2a1-f959-44d2-9474-f53537712676\">\n",
              "    <div class=\"colab-df-container\">\n",
              "      <div>\n",
              "<style scoped>\n",
              "    .dataframe tbody tr th:only-of-type {\n",
              "        vertical-align: middle;\n",
              "    }\n",
              "\n",
              "    .dataframe tbody tr th {\n",
              "        vertical-align: top;\n",
              "    }\n",
              "\n",
              "    .dataframe thead th {\n",
              "        text-align: right;\n",
              "    }\n",
              "</style>\n",
              "<table border=\"1\" class=\"dataframe\">\n",
              "  <thead>\n",
              "    <tr style=\"text-align: right;\">\n",
              "      <th></th>\n",
              "      <th>sex</th>\n",
              "      <th>length</th>\n",
              "      <th>diam</th>\n",
              "      <th>height</th>\n",
              "      <th>wweight</th>\n",
              "      <th>sweight</th>\n",
              "      <th>vweight</th>\n",
              "      <th>shellw</th>\n",
              "      <th>rings</th>\n",
              "    </tr>\n",
              "  </thead>\n",
              "  <tbody>\n",
              "    <tr>\n",
              "      <th>0</th>\n",
              "      <td>2</td>\n",
              "      <td>0.350</td>\n",
              "      <td>0.265</td>\n",
              "      <td>0.090</td>\n",
              "      <td>0.2255</td>\n",
              "      <td>0.0995</td>\n",
              "      <td>0.0485</td>\n",
              "      <td>0.070</td>\n",
              "      <td>7</td>\n",
              "    </tr>\n",
              "    <tr>\n",
              "      <th>1</th>\n",
              "      <td>0</td>\n",
              "      <td>0.530</td>\n",
              "      <td>0.420</td>\n",
              "      <td>0.135</td>\n",
              "      <td>0.6770</td>\n",
              "      <td>0.2565</td>\n",
              "      <td>0.1415</td>\n",
              "      <td>0.210</td>\n",
              "      <td>9</td>\n",
              "    </tr>\n",
              "    <tr>\n",
              "      <th>2</th>\n",
              "      <td>2</td>\n",
              "      <td>0.440</td>\n",
              "      <td>0.365</td>\n",
              "      <td>0.125</td>\n",
              "      <td>0.5160</td>\n",
              "      <td>0.2155</td>\n",
              "      <td>0.1140</td>\n",
              "      <td>0.155</td>\n",
              "      <td>10</td>\n",
              "    </tr>\n",
              "    <tr>\n",
              "      <th>3</th>\n",
              "      <td>1</td>\n",
              "      <td>0.330</td>\n",
              "      <td>0.255</td>\n",
              "      <td>0.080</td>\n",
              "      <td>0.2050</td>\n",
              "      <td>0.0895</td>\n",
              "      <td>0.0395</td>\n",
              "      <td>0.055</td>\n",
              "      <td>7</td>\n",
              "    </tr>\n",
              "    <tr>\n",
              "      <th>4</th>\n",
              "      <td>1</td>\n",
              "      <td>0.425</td>\n",
              "      <td>0.300</td>\n",
              "      <td>0.095</td>\n",
              "      <td>0.3515</td>\n",
              "      <td>0.1410</td>\n",
              "      <td>0.0775</td>\n",
              "      <td>0.120</td>\n",
              "      <td>8</td>\n",
              "    </tr>\n",
              "  </tbody>\n",
              "</table>\n",
              "</div>\n",
              "      <button class=\"colab-df-convert\" onclick=\"convertToInteractive('df-409cb2a1-f959-44d2-9474-f53537712676')\"\n",
              "              title=\"Convert this dataframe to an interactive table.\"\n",
              "              style=\"display:none;\">\n",
              "        \n",
              "  <svg xmlns=\"http://www.w3.org/2000/svg\" height=\"24px\"viewBox=\"0 0 24 24\"\n",
              "       width=\"24px\">\n",
              "    <path d=\"M0 0h24v24H0V0z\" fill=\"none\"/>\n",
              "    <path d=\"M18.56 5.44l.94 2.06.94-2.06 2.06-.94-2.06-.94-.94-2.06-.94 2.06-2.06.94zm-11 1L8.5 8.5l.94-2.06 2.06-.94-2.06-.94L8.5 2.5l-.94 2.06-2.06.94zm10 10l.94 2.06.94-2.06 2.06-.94-2.06-.94-.94-2.06-.94 2.06-2.06.94z\"/><path d=\"M17.41 7.96l-1.37-1.37c-.4-.4-.92-.59-1.43-.59-.52 0-1.04.2-1.43.59L10.3 9.45l-7.72 7.72c-.78.78-.78 2.05 0 2.83L4 21.41c.39.39.9.59 1.41.59.51 0 1.02-.2 1.41-.59l7.78-7.78 2.81-2.81c.8-.78.8-2.07 0-2.86zM5.41 20L4 18.59l7.72-7.72 1.47 1.35L5.41 20z\"/>\n",
              "  </svg>\n",
              "      </button>\n",
              "      \n",
              "  <style>\n",
              "    .colab-df-container {\n",
              "      display:flex;\n",
              "      flex-wrap:wrap;\n",
              "      gap: 12px;\n",
              "    }\n",
              "\n",
              "    .colab-df-convert {\n",
              "      background-color: #E8F0FE;\n",
              "      border: none;\n",
              "      border-radius: 50%;\n",
              "      cursor: pointer;\n",
              "      display: none;\n",
              "      fill: #1967D2;\n",
              "      height: 32px;\n",
              "      padding: 0 0 0 0;\n",
              "      width: 32px;\n",
              "    }\n",
              "\n",
              "    .colab-df-convert:hover {\n",
              "      background-color: #E2EBFA;\n",
              "      box-shadow: 0px 1px 2px rgba(60, 64, 67, 0.3), 0px 1px 3px 1px rgba(60, 64, 67, 0.15);\n",
              "      fill: #174EA6;\n",
              "    }\n",
              "\n",
              "    [theme=dark] .colab-df-convert {\n",
              "      background-color: #3B4455;\n",
              "      fill: #D2E3FC;\n",
              "    }\n",
              "\n",
              "    [theme=dark] .colab-df-convert:hover {\n",
              "      background-color: #434B5C;\n",
              "      box-shadow: 0px 1px 3px 1px rgba(0, 0, 0, 0.15);\n",
              "      filter: drop-shadow(0px 1px 2px rgba(0, 0, 0, 0.3));\n",
              "      fill: #FFFFFF;\n",
              "    }\n",
              "  </style>\n",
              "\n",
              "      <script>\n",
              "        const buttonEl =\n",
              "          document.querySelector('#df-409cb2a1-f959-44d2-9474-f53537712676 button.colab-df-convert');\n",
              "        buttonEl.style.display =\n",
              "          google.colab.kernel.accessAllowed ? 'block' : 'none';\n",
              "\n",
              "        async function convertToInteractive(key) {\n",
              "          const element = document.querySelector('#df-409cb2a1-f959-44d2-9474-f53537712676');\n",
              "          const dataTable =\n",
              "            await google.colab.kernel.invokeFunction('convertToInteractive',\n",
              "                                                     [key], {});\n",
              "          if (!dataTable) return;\n",
              "\n",
              "          const docLinkHtml = 'Like what you see? Visit the ' +\n",
              "            '<a target=\"_blank\" href=https://colab.research.google.com/notebooks/data_table.ipynb>data table notebook</a>'\n",
              "            + ' to learn more about interactive tables.';\n",
              "          element.innerHTML = '';\n",
              "          dataTable['output_type'] = 'display_data';\n",
              "          await google.colab.output.renderOutput(dataTable, element);\n",
              "          const docLink = document.createElement('div');\n",
              "          docLink.innerHTML = docLinkHtml;\n",
              "          element.appendChild(docLink);\n",
              "        }\n",
              "      </script>\n",
              "    </div>\n",
              "  </div>\n",
              "  "
            ],
            "text/plain": [
              "   sex  length   diam  height  wweight  sweight  vweight  shellw  rings\n",
              "0    2   0.350  0.265   0.090   0.2255   0.0995   0.0485   0.070      7\n",
              "1    0   0.530  0.420   0.135   0.6770   0.2565   0.1415   0.210      9\n",
              "2    2   0.440  0.365   0.125   0.5160   0.2155   0.1140   0.155     10\n",
              "3    1   0.330  0.255   0.080   0.2050   0.0895   0.0395   0.055      7\n",
              "4    1   0.425  0.300   0.095   0.3515   0.1410   0.0775   0.120      8"
            ]
          },
          "metadata": {},
          "execution_count": 47
        }
      ]
    },
    {
      "cell_type": "code",
      "source": [
        "y_df = df.rings"
      ],
      "metadata": {
        "id": "mAnjKdv85nGN"
      },
      "execution_count": 48,
      "outputs": []
    },
    {
      "cell_type": "code",
      "source": [
        "x_df = df.copy().drop('rings', axis = 1)"
      ],
      "metadata": {
        "id": "NSVFqVoK55Y9"
      },
      "execution_count": 49,
      "outputs": []
    },
    {
      "cell_type": "code",
      "source": [
        "x_train, x_test, y_train, y_test = train_test_split(x_df, y_df, test_size=0.1, shuffle=True)"
      ],
      "metadata": {
        "id": "wIc0bbIR5-Az"
      },
      "execution_count": 50,
      "outputs": []
    },
    {
      "cell_type": "markdown",
      "source": [
        "####Architektúra létrehozása"
      ],
      "metadata": {
        "id": "jVxv9P726UZ9"
      }
    },
    {
      "cell_type": "code",
      "source": [
        "from tensorflow.keras.layers import Input, Dense\n",
        "import keras\n",
        "from tensorflow.keras.utils import plot_model\n",
        "from tensorflow.keras.metrics import MeanSquaredError"
      ],
      "metadata": {
        "id": "-1JnJTaq6GwA"
      },
      "execution_count": 58,
      "outputs": []
    },
    {
      "cell_type": "code",
      "source": [
        "input = Input(shape=(x_train.shape[1]))\n",
        "x= Dense(32, activation='relu')(input)\n",
        "output = Dense(1, activation = 'linear')(x)"
      ],
      "metadata": {
        "id": "acexmJee6mst"
      },
      "execution_count": 52,
      "outputs": []
    },
    {
      "cell_type": "code",
      "source": [
        "model = keras.Model(input, output)"
      ],
      "metadata": {
        "id": "pu-CbNYH6wTv"
      },
      "execution_count": 53,
      "outputs": []
    },
    {
      "cell_type": "code",
      "source": [
        "plot_model(model, show_shapes=True)"
      ],
      "metadata": {
        "colab": {
          "base_uri": "https://localhost:8080/",
          "height": 312
        },
        "id": "Fpt6zdzM6xPl",
        "outputId": "2608176c-7300-4e82-a91a-94cd7fc50a73"
      },
      "execution_count": 54,
      "outputs": [
        {
          "output_type": "execute_result",
          "data": {
            "image/png": "[encoded data removed]",
            "text/plain": [
              "<IPython.core.display.Image object>"
            ]
          },
          "metadata": {},
          "execution_count": 54
        }
      ]
    },
    {
      "cell_type": "code",
      "source": [
        "model.compile(loss='mse', metrics=['MeanSquaredError'])"
      ],
      "metadata": {
        "id": "OoGlZWqk63vR"
      },
      "execution_count": 59,
      "outputs": []
    },
    {
      "cell_type": "code",
      "source": [
        "model.fit(x=x_train, y=y_train, epochs=50)"
      ],
      "metadata": {
        "colab": {
          "base_uri": "https://localhost:8080/"
        },
        "id": "fi6-ylgd73oa",
        "outputId": "656aaa6a-758b-435a-bbef-9891b8add52b"
      },
      "execution_count": 60,
      "outputs": [
        {
          "output_type": "stream",
          "name": "stdout",
          "text": [
            "Epoch 1/50\n",
            "118/118 [==============================] - 2s 3ms/step - loss: 90.0431 - mean_squared_error: 90.0431\n",
            "Epoch 2/50\n",
            "118/118 [==============================] - 0s 2ms/step - loss: 40.6727 - mean_squared_error: 40.6727\n",
            "Epoch 3/50\n",
            "118/118 [==============================] - 0s 3ms/step - loss: 12.6264 - mean_squared_error: 12.6264\n",
            "Epoch 4/50\n",
            "118/118 [==============================] - 0s 3ms/step - loss: 8.9042 - mean_squared_error: 8.9042\n",
            "Epoch 5/50\n",
            "118/118 [==============================] - 0s 3ms/step - loss: 8.0043 - mean_squared_error: 8.0043\n",
            "Epoch 6/50\n",
            "118/118 [==============================] - 0s 3ms/step - loss: 7.5056 - mean_squared_error: 7.5056\n",
            "Epoch 7/50\n",
            "118/118 [==============================] - 0s 3ms/step - loss: 7.1780 - mean_squared_error: 7.1780\n",
            "Epoch 8/50\n",
            "118/118 [==============================] - 0s 2ms/step - loss: 6.9308 - mean_squared_error: 6.9308\n",
            "Epoch 9/50\n",
            "118/118 [==============================] - 0s 2ms/step - loss: 6.7513 - mean_squared_error: 6.7513\n",
            "Epoch 10/50\n",
            "118/118 [==============================] - 0s 2ms/step - loss: 6.6307 - mean_squared_error: 6.6307\n",
            "Epoch 11/50\n",
            "118/118 [==============================] - 0s 2ms/step - loss: 6.5214 - mean_squared_error: 6.5214\n",
            "Epoch 12/50\n",
            "118/118 [==============================] - 0s 2ms/step - loss: 6.4179 - mean_squared_error: 6.4179\n",
            "Epoch 13/50\n",
            "118/118 [==============================] - 0s 1ms/step - loss: 6.3392 - mean_squared_error: 6.3392\n",
            "Epoch 14/50\n",
            "118/118 [==============================] - 0s 2ms/step - loss: 6.2410 - mean_squared_error: 6.2410\n",
            "Epoch 15/50\n",
            "118/118 [==============================] - 0s 1ms/step - loss: 6.1579 - mean_squared_error: 6.1579\n",
            "Epoch 16/50\n",
            "118/118 [==============================] - 0s 1ms/step - loss: 6.0768 - mean_squared_error: 6.0768\n",
            "Epoch 17/50\n",
            "118/118 [==============================] - 0s 2ms/step - loss: 6.0007 - mean_squared_error: 6.0007\n",
            "Epoch 18/50\n",
            "118/118 [==============================] - 0s 1ms/step - loss: 5.9328 - mean_squared_error: 5.9328\n",
            "Epoch 19/50\n",
            "118/118 [==============================] - 0s 2ms/step - loss: 5.8598 - mean_squared_error: 5.8598\n",
            "Epoch 20/50\n",
            "118/118 [==============================] - 0s 2ms/step - loss: 5.7845 - mean_squared_error: 5.7845\n",
            "Epoch 21/50\n",
            "118/118 [==============================] - 0s 2ms/step - loss: 5.7301 - mean_squared_error: 5.7301\n",
            "Epoch 22/50\n",
            "118/118 [==============================] - 0s 1ms/step - loss: 5.6433 - mean_squared_error: 5.6433\n",
            "Epoch 23/50\n",
            "118/118 [==============================] - 0s 1ms/step - loss: 5.5760 - mean_squared_error: 5.5760\n",
            "Epoch 24/50\n",
            "118/118 [==============================] - 0s 1ms/step - loss: 5.5023 - mean_squared_error: 5.5023\n",
            "Epoch 25/50\n",
            "118/118 [==============================] - 0s 2ms/step - loss: 5.4470 - mean_squared_error: 5.4470\n",
            "Epoch 26/50\n",
            "118/118 [==============================] - 0s 1ms/step - loss: 5.3932 - mean_squared_error: 5.3932\n",
            "Epoch 27/50\n",
            "118/118 [==============================] - 0s 2ms/step - loss: 5.3598 - mean_squared_error: 5.3598\n",
            "Epoch 28/50\n",
            "118/118 [==============================] - 0s 1ms/step - loss: 5.3221 - mean_squared_error: 5.3221\n",
            "Epoch 29/50\n",
            "118/118 [==============================] - 0s 2ms/step - loss: 5.2844 - mean_squared_error: 5.2844\n",
            "Epoch 30/50\n",
            "118/118 [==============================] - 0s 2ms/step - loss: 5.2325 - mean_squared_error: 5.2325\n",
            "Epoch 31/50\n",
            "118/118 [==============================] - 0s 2ms/step - loss: 5.2143 - mean_squared_error: 5.2143\n",
            "Epoch 32/50\n",
            "118/118 [==============================] - 0s 1ms/step - loss: 5.1832 - mean_squared_error: 5.1832\n",
            "Epoch 33/50\n",
            "118/118 [==============================] - 0s 1ms/step - loss: 5.1606 - mean_squared_error: 5.1606\n",
            "Epoch 34/50\n",
            "118/118 [==============================] - 0s 2ms/step - loss: 5.1378 - mean_squared_error: 5.1378\n",
            "Epoch 35/50\n",
            "118/118 [==============================] - 0s 2ms/step - loss: 5.1169 - mean_squared_error: 5.1169\n",
            "Epoch 36/50\n",
            "118/118 [==============================] - 0s 2ms/step - loss: 5.0907 - mean_squared_error: 5.0907\n",
            "Epoch 37/50\n",
            "118/118 [==============================] - 0s 2ms/step - loss: 5.0684 - mean_squared_error: 5.0684\n",
            "Epoch 38/50\n",
            "118/118 [==============================] - 0s 1ms/step - loss: 5.0583 - mean_squared_error: 5.0583\n",
            "Epoch 39/50\n",
            "118/118 [==============================] - 0s 2ms/step - loss: 5.0492 - mean_squared_error: 5.0492\n",
            "Epoch 40/50\n",
            "118/118 [==============================] - 0s 1ms/step - loss: 5.0252 - mean_squared_error: 5.0252\n",
            "Epoch 41/50\n",
            "118/118 [==============================] - 0s 2ms/step - loss: 5.0184 - mean_squared_error: 5.0184\n",
            "Epoch 42/50\n",
            "118/118 [==============================] - 0s 2ms/step - loss: 5.0102 - mean_squared_error: 5.0102\n",
            "Epoch 43/50\n",
            "118/118 [==============================] - 0s 2ms/step - loss: 4.9930 - mean_squared_error: 4.9930\n",
            "Epoch 44/50\n",
            "118/118 [==============================] - 0s 1ms/step - loss: 4.9861 - mean_squared_error: 4.9861\n",
            "Epoch 45/50\n",
            "118/118 [==============================] - 0s 1ms/step - loss: 4.9692 - mean_squared_error: 4.9692\n",
            "Epoch 46/50\n",
            "118/118 [==============================] - 0s 1ms/step - loss: 4.9515 - mean_squared_error: 4.9515\n",
            "Epoch 47/50\n",
            "118/118 [==============================] - 0s 2ms/step - loss: 4.9435 - mean_squared_error: 4.9435\n",
            "Epoch 48/50\n",
            "118/118 [==============================] - 0s 2ms/step - loss: 4.9213 - mean_squared_error: 4.9213\n",
            "Epoch 49/50\n",
            "118/118 [==============================] - 0s 2ms/step - loss: 4.9085 - mean_squared_error: 4.9085\n",
            "Epoch 50/50\n",
            "118/118 [==============================] - 0s 1ms/step - loss: 4.9122 - mean_squared_error: 4.9122\n"
          ]
        },
        {
          "output_type": "execute_result",
          "data": {
            "text/plain": [
              "<keras.callbacks.History at 0x7f2e71bd1250>"
            ]
          },
          "metadata": {},
          "execution_count": 60
        }
      ]
    },
    {
      "cell_type": "code",
      "source": [
        "model.predict(x_test)"
      ],
      "metadata": {
        "colab": {
          "base_uri": "https://localhost:8080/"
        },
        "id": "-_cHTW8h8EKD",
        "outputId": "c2590fd7-d503-4852-e974-9d3dbb15ea3c"
      },
      "execution_count": 62,
      "outputs": [
        {
          "output_type": "execute_result",
          "data": {
            "text/plain": [
              "array([[15.193847 ],\n",
              "       [ 8.823733 ],\n",
              "       [10.775577 ],\n",
              "       [11.977238 ],\n",
              "       [ 7.9406114],\n",
              "       [14.155366 ],\n",
              "       [10.707088 ],\n",
              "       [12.963948 ],\n",
              "       [ 7.1577663],\n",
              "       [ 9.839381 ],\n",
              "       [ 0.8208528],\n",
              "       [10.131137 ],\n",
              "       [ 9.800069 ],\n",
              "       [ 8.982698 ],\n",
              "       [10.013967 ],\n",
              "       [ 8.864909 ],\n",
              "       [10.1606   ],\n",
              "       [ 9.176307 ],\n",
              "       [ 9.13562  ],\n",
              "       [11.293463 ],\n",
              "       [10.239638 ],\n",
              "       [10.488633 ],\n",
              "       [ 9.327313 ],\n",
              "       [14.913079 ],\n",
              "       [ 9.964754 ],\n",
              "       [ 6.343215 ],\n",
              "       [ 9.113019 ],\n",
              "       [12.229564 ],\n",
              "       [13.805294 ],\n",
              "       [11.038463 ],\n",
              "       [16.41082  ],\n",
              "       [ 7.2713795],\n",
              "       [ 8.449644 ],\n",
              "       [11.035434 ],\n",
              "       [ 9.354665 ],\n",
              "       [ 8.613499 ],\n",
              "       [12.906392 ],\n",
              "       [10.008046 ],\n",
              "       [11.637511 ],\n",
              "       [ 8.97927  ],\n",
              "       [ 7.195019 ],\n",
              "       [ 8.759696 ],\n",
              "       [ 9.237683 ],\n",
              "       [ 7.8147397],\n",
              "       [10.050944 ],\n",
              "       [10.768113 ],\n",
              "       [ 9.157994 ],\n",
              "       [ 3.957824 ],\n",
              "       [10.905542 ],\n",
              "       [10.16285  ],\n",
              "       [10.425823 ],\n",
              "       [10.813185 ],\n",
              "       [ 9.519285 ],\n",
              "       [10.368596 ],\n",
              "       [10.571002 ],\n",
              "       [12.659688 ],\n",
              "       [12.225284 ],\n",
              "       [ 7.9841948],\n",
              "       [11.535455 ],\n",
              "       [ 8.024723 ],\n",
              "       [10.919253 ],\n",
              "       [15.122643 ],\n",
              "       [11.428313 ],\n",
              "       [11.443832 ],\n",
              "       [10.529679 ],\n",
              "       [ 6.9952793],\n",
              "       [ 7.5847054],\n",
              "       [12.020343 ],\n",
              "       [ 7.7998786],\n",
              "       [ 9.901674 ],\n",
              "       [11.100077 ],\n",
              "       [11.530296 ],\n",
              "       [ 7.845763 ],\n",
              "       [ 9.708114 ],\n",
              "       [ 8.185015 ],\n",
              "       [ 8.464751 ],\n",
              "       [ 8.579703 ],\n",
              "       [11.583032 ],\n",
              "       [ 9.576873 ],\n",
              "       [11.054908 ],\n",
              "       [13.552031 ],\n",
              "       [12.613975 ],\n",
              "       [ 9.135179 ],\n",
              "       [13.168549 ],\n",
              "       [ 9.976005 ],\n",
              "       [10.918911 ],\n",
              "       [10.116111 ],\n",
              "       [ 9.93271  ],\n",
              "       [ 9.670505 ],\n",
              "       [ 7.1972823],\n",
              "       [ 8.874421 ],\n",
              "       [11.032265 ],\n",
              "       [10.094401 ],\n",
              "       [ 9.176013 ],\n",
              "       [10.393735 ],\n",
              "       [ 5.710388 ],\n",
              "       [12.60839  ],\n",
              "       [10.3482065],\n",
              "       [ 9.098794 ],\n",
              "       [12.301187 ],\n",
              "       [13.749534 ],\n",
              "       [10.8780985],\n",
              "       [ 8.983179 ],\n",
              "       [10.303569 ],\n",
              "       [11.67785  ],\n",
              "       [ 9.942744 ],\n",
              "       [11.07931  ],\n",
              "       [13.244987 ],\n",
              "       [10.532824 ],\n",
              "       [12.996934 ],\n",
              "       [10.194734 ],\n",
              "       [10.035788 ],\n",
              "       [10.044164 ],\n",
              "       [ 7.8585825],\n",
              "       [12.883958 ],\n",
              "       [12.719458 ],\n",
              "       [13.8212385],\n",
              "       [ 4.517964 ],\n",
              "       [ 8.092023 ],\n",
              "       [12.360497 ],\n",
              "       [12.481462 ],\n",
              "       [ 7.213994 ],\n",
              "       [13.544879 ],\n",
              "       [ 8.68696  ],\n",
              "       [12.332679 ],\n",
              "       [ 9.561536 ],\n",
              "       [11.963538 ],\n",
              "       [11.483104 ],\n",
              "       [12.339326 ],\n",
              "       [ 9.328792 ],\n",
              "       [ 9.658311 ],\n",
              "       [ 6.8372097],\n",
              "       [ 8.45247  ],\n",
              "       [ 5.8219504],\n",
              "       [ 9.132023 ],\n",
              "       [ 7.797903 ],\n",
              "       [ 9.396697 ],\n",
              "       [20.44991  ],\n",
              "       [10.853711 ],\n",
              "       [11.159883 ],\n",
              "       [ 7.981303 ],\n",
              "       [11.043616 ],\n",
              "       [ 9.947809 ],\n",
              "       [10.564551 ],\n",
              "       [10.6680565],\n",
              "       [ 9.619784 ],\n",
              "       [ 7.9577713],\n",
              "       [ 9.712905 ],\n",
              "       [12.326524 ],\n",
              "       [11.875759 ],\n",
              "       [ 9.651801 ],\n",
              "       [ 4.573938 ],\n",
              "       [10.190928 ],\n",
              "       [12.799253 ],\n",
              "       [ 8.442229 ],\n",
              "       [ 9.005816 ],\n",
              "       [11.427478 ],\n",
              "       [12.424139 ],\n",
              "       [ 8.008727 ],\n",
              "       [12.740765 ],\n",
              "       [ 9.514002 ],\n",
              "       [12.976005 ],\n",
              "       [13.37386  ],\n",
              "       [11.558167 ],\n",
              "       [11.938415 ],\n",
              "       [11.616893 ],\n",
              "       [ 6.7428174],\n",
              "       [11.270045 ],\n",
              "       [11.525472 ],\n",
              "       [11.6877985],\n",
              "       [ 9.902633 ],\n",
              "       [10.264929 ],\n",
              "       [ 6.532153 ],\n",
              "       [ 8.68488  ],\n",
              "       [12.680215 ],\n",
              "       [11.885148 ],\n",
              "       [10.926723 ],\n",
              "       [ 4.691376 ],\n",
              "       [10.419692 ],\n",
              "       [20.505974 ],\n",
              "       [12.239553 ],\n",
              "       [ 6.8158035],\n",
              "       [12.77064  ],\n",
              "       [ 7.2057405],\n",
              "       [ 7.5684204],\n",
              "       [10.650451 ],\n",
              "       [11.781116 ],\n",
              "       [12.193734 ],\n",
              "       [ 9.581065 ],\n",
              "       [ 5.495644 ],\n",
              "       [10.20124  ],\n",
              "       [ 8.708058 ],\n",
              "       [ 8.11123  ],\n",
              "       [15.547338 ],\n",
              "       [ 7.2321053],\n",
              "       [12.398734 ],\n",
              "       [ 8.977971 ],\n",
              "       [ 8.717442 ],\n",
              "       [10.257236 ],\n",
              "       [ 8.625518 ],\n",
              "       [11.71007  ],\n",
              "       [ 9.718568 ],\n",
              "       [ 6.2499027],\n",
              "       [ 7.942821 ],\n",
              "       [10.320617 ],\n",
              "       [ 9.708028 ],\n",
              "       [ 8.980212 ],\n",
              "       [11.633599 ],\n",
              "       [ 7.092877 ],\n",
              "       [ 9.041865 ],\n",
              "       [12.068748 ],\n",
              "       [ 9.54645  ],\n",
              "       [ 8.941337 ],\n",
              "       [12.418881 ],\n",
              "       [11.247367 ],\n",
              "       [12.286498 ],\n",
              "       [12.64265  ],\n",
              "       [ 8.216106 ],\n",
              "       [12.826446 ],\n",
              "       [14.411626 ],\n",
              "       [12.147895 ],\n",
              "       [ 8.061099 ],\n",
              "       [10.359045 ],\n",
              "       [10.7957325],\n",
              "       [ 9.193887 ],\n",
              "       [11.804711 ],\n",
              "       [10.894895 ],\n",
              "       [10.312413 ],\n",
              "       [ 7.2222147],\n",
              "       [12.925527 ],\n",
              "       [12.772008 ],\n",
              "       [ 9.406175 ],\n",
              "       [ 9.377921 ],\n",
              "       [ 8.863643 ],\n",
              "       [10.434808 ],\n",
              "       [ 7.956362 ],\n",
              "       [10.372043 ],\n",
              "       [ 7.2558546],\n",
              "       [12.996795 ],\n",
              "       [ 5.630522 ],\n",
              "       [ 6.000847 ],\n",
              "       [10.073386 ],\n",
              "       [12.327314 ],\n",
              "       [ 9.21101  ],\n",
              "       [13.903304 ],\n",
              "       [10.728009 ],\n",
              "       [ 8.070047 ],\n",
              "       [12.077605 ],\n",
              "       [ 9.000753 ],\n",
              "       [11.526975 ],\n",
              "       [10.003343 ],\n",
              "       [ 8.813344 ],\n",
              "       [ 7.745176 ],\n",
              "       [11.379527 ],\n",
              "       [12.734083 ],\n",
              "       [ 6.9537115],\n",
              "       [11.975579 ],\n",
              "       [10.657702 ],\n",
              "       [ 8.586736 ],\n",
              "       [ 9.64045  ],\n",
              "       [ 7.3289647],\n",
              "       [12.193453 ],\n",
              "       [ 7.6276546],\n",
              "       [10.528016 ],\n",
              "       [15.279229 ],\n",
              "       [10.610938 ],\n",
              "       [ 9.500633 ],\n",
              "       [11.0618925],\n",
              "       [ 9.017497 ],\n",
              "       [ 9.643445 ],\n",
              "       [ 7.3105884],\n",
              "       [ 9.698894 ],\n",
              "       [ 8.357161 ],\n",
              "       [ 7.8243456],\n",
              "       [ 8.513015 ],\n",
              "       [12.2678795],\n",
              "       [12.102239 ],\n",
              "       [ 7.259804 ],\n",
              "       [12.195479 ],\n",
              "       [10.515137 ],\n",
              "       [ 8.034643 ],\n",
              "       [ 9.938839 ],\n",
              "       [ 9.702748 ],\n",
              "       [14.239398 ],\n",
              "       [ 6.410426 ],\n",
              "       [17.41737  ],\n",
              "       [10.53408  ],\n",
              "       [ 8.781127 ],\n",
              "       [11.484763 ],\n",
              "       [ 9.060326 ],\n",
              "       [10.278218 ],\n",
              "       [ 4.5676994],\n",
              "       [ 7.3197803],\n",
              "       [ 9.421096 ],\n",
              "       [ 7.571947 ],\n",
              "       [ 9.154584 ],\n",
              "       [ 8.629464 ],\n",
              "       [10.826674 ],\n",
              "       [15.192813 ],\n",
              "       [13.72936  ],\n",
              "       [ 8.41415  ],\n",
              "       [ 9.785576 ],\n",
              "       [11.820394 ],\n",
              "       [12.412736 ],\n",
              "       [14.2099085],\n",
              "       [11.754677 ],\n",
              "       [ 9.5204   ],\n",
              "       [ 8.412903 ],\n",
              "       [11.33533  ],\n",
              "       [10.788585 ],\n",
              "       [ 8.569305 ],\n",
              "       [11.169093 ],\n",
              "       [ 8.644393 ],\n",
              "       [11.074941 ],\n",
              "       [12.048019 ],\n",
              "       [ 6.6205845],\n",
              "       [12.420284 ],\n",
              "       [ 5.7835975],\n",
              "       [16.097416 ],\n",
              "       [11.423217 ],\n",
              "       [10.942281 ],\n",
              "       [13.554454 ],\n",
              "       [ 5.90872  ],\n",
              "       [ 7.49761  ],\n",
              "       [13.0864725],\n",
              "       [11.85954  ],\n",
              "       [10.505326 ],\n",
              "       [13.863753 ],\n",
              "       [10.228431 ],\n",
              "       [ 9.064682 ],\n",
              "       [ 9.195705 ],\n",
              "       [ 9.402921 ],\n",
              "       [ 4.868273 ],\n",
              "       [ 7.1141315],\n",
              "       [ 9.519996 ],\n",
              "       [10.952733 ],\n",
              "       [ 7.9778447],\n",
              "       [ 8.423602 ],\n",
              "       [11.98736  ],\n",
              "       [13.075025 ],\n",
              "       [ 8.4700775],\n",
              "       [15.590588 ],\n",
              "       [ 8.014234 ],\n",
              "       [11.730781 ],\n",
              "       [11.016196 ],\n",
              "       [ 8.101534 ],\n",
              "       [11.239776 ],\n",
              "       [ 8.375433 ],\n",
              "       [11.086852 ],\n",
              "       [ 9.072813 ],\n",
              "       [11.696    ],\n",
              "       [11.624738 ],\n",
              "       [10.057202 ],\n",
              "       [12.932466 ],\n",
              "       [ 8.779827 ],\n",
              "       [11.747547 ],\n",
              "       [14.644519 ],\n",
              "       [12.639941 ],\n",
              "       [10.571399 ],\n",
              "       [ 9.429452 ],\n",
              "       [ 9.428802 ],\n",
              "       [ 9.76639  ],\n",
              "       [ 9.24673  ],\n",
              "       [ 8.548928 ],\n",
              "       [ 7.3695316],\n",
              "       [12.951603 ],\n",
              "       [ 7.2342577],\n",
              "       [12.418637 ],\n",
              "       [11.006073 ],\n",
              "       [10.798011 ],\n",
              "       [ 7.760141 ],\n",
              "       [10.335898 ],\n",
              "       [ 8.664073 ],\n",
              "       [ 8.712005 ],\n",
              "       [14.693896 ],\n",
              "       [12.427691 ],\n",
              "       [11.865186 ],\n",
              "       [13.543624 ],\n",
              "       [11.136201 ],\n",
              "       [12.597224 ],\n",
              "       [ 9.898936 ],\n",
              "       [12.156132 ],\n",
              "       [ 9.219591 ],\n",
              "       [ 8.23962  ],\n",
              "       [ 6.519426 ],\n",
              "       [ 6.812203 ],\n",
              "       [ 9.380322 ],\n",
              "       [ 8.881246 ],\n",
              "       [10.57919  ],\n",
              "       [10.430684 ],\n",
              "       [10.554406 ],\n",
              "       [11.301778 ],\n",
              "       [11.763735 ],\n",
              "       [ 5.5861697],\n",
              "       [11.35221  ],\n",
              "       [13.918756 ],\n",
              "       [10.183917 ],\n",
              "       [10.791948 ],\n",
              "       [ 7.156805 ],\n",
              "       [10.461155 ],\n",
              "       [10.770839 ],\n",
              "       [12.944015 ],\n",
              "       [14.17876  ],\n",
              "       [ 9.85471  ],\n",
              "       [10.423135 ],\n",
              "       [ 9.705656 ],\n",
              "       [12.363507 ],\n",
              "       [11.115039 ],\n",
              "       [15.69847  ],\n",
              "       [ 8.819888 ],\n",
              "       [ 9.014696 ],\n",
              "       [11.09932  ],\n",
              "       [ 9.063543 ],\n",
              "       [ 7.2259417],\n",
              "       [ 8.847229 ],\n",
              "       [12.714814 ],\n",
              "       [ 8.476618 ],\n",
              "       [13.337539 ]], dtype=float32)"
            ]
          },
          "metadata": {},
          "execution_count": 62
        }
      ]
    },
    {
      "cell_type": "code",
      "source": [
        "model.evaluate(x=x_test, y=y_test)"
      ],
      "metadata": {
        "colab": {
          "base_uri": "https://localhost:8080/"
        },
        "id": "rbF06PcK8Jtz",
        "outputId": "b72cb6e4-90d0-4e21-fe9e-881d4d735676"
      },
      "execution_count": 63,
      "outputs": [
        {
          "output_type": "stream",
          "name": "stdout",
          "text": [
            "14/14 [==============================] - 0s 2ms/step - loss: 4.5547 - mean_squared_error: 4.5547\n"
          ]
        },
        {
          "output_type": "execute_result",
          "data": {
            "text/plain": [
              "[4.554690837860107, 4.554690837860107]"
            ]
          },
          "metadata": {},
          "execution_count": 63
        }
      ]
    }
  ]
}