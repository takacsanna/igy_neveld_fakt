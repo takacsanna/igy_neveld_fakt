{
  "nbformat": 4,
  "nbformat_minor": 0,
  "metadata": {
    "colab": {
      "name": "hazi3.ipynb",
      "provenance": [],
      "authorship_tag": "ABX9TyMSsvGG32IPb4x+QbTI2rSR",
      "include_colab_link": true
    },
    "kernelspec": {
      "name": "python3",
      "display_name": "Python 3"
    },
    "language_info": {
      "name": "python"
    }
  },
  "cells": [
    {
      "cell_type": "markdown",
      "metadata": {
        "id": "view-in-github",
        "colab_type": "text"
      },
      "source": [
        "<a href=\"https://colab.research.google.com/github/takacsanna/igy_neveld_fakt/blob/main/hazi3.ipynb\" target=\"_parent\"><img src=\"https://colab.research.google.com/assets/colab-badge.svg\" alt=\"Open In Colab\"/></a>"
      ]
    },
    {
      "cell_type": "markdown",
      "source": [
        "#3. házi feladat"
      ],
      "metadata": {
        "id": "xkwCvrGfsJVn"
      }
    },
    {
      "cell_type": "code",
      "execution_count": 2,
      "metadata": {
        "id": "-nBpBxJFsFK0"
      },
      "outputs": [],
      "source": [
        "import pandas as pd\n",
        "from sklearn.preprocessing import LabelEncoder, StandardScaler\n",
        "from sklearn.model_selection import train_test_split\n",
        "from google.colab import drive\n",
        "from google.colab import files\n",
        "from tensorflow.keras.callbacks import EarlyStopping\n",
        "from tensorflow.keras.layers import Input, Dense\n",
        "import keras\n",
        "from tensorflow.keras.utils import plot_model\n",
        "from tensorflow.keras.metrics import MeanSquaredError"
      ]
    },
    {
      "cell_type": "markdown",
      "source": [
        "##Egy év becslése"
      ],
      "metadata": {
        "id": "1jp3VActZ8uW"
      }
    },
    {
      "cell_type": "code",
      "source": [
        "uploaded=files.upload()"
      ],
      "metadata": {
        "colab": {
          "resources": {
            "http://localhost:8080/nbextensions/google.colab/files.js": {
              "data": "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",
              "ok": true,
              "headers": [
                [
                  "content-type",
                  "application/javascript"
                ]
              ],
              "status": 200,
              "status_text": ""
            }
          },
          "base_uri": "https://localhost:8080/",
          "height": 74
        },
        "id": "1ECnB1KYRCyB",
        "outputId": "e8c95de0-e89b-4d4a-eb71-7795104e2580"
      },
      "execution_count": 4,
      "outputs": [
        {
          "output_type": "display_data",
          "data": {
            "text/html": [
              "\n",
              "     <input type=\"file\" id=\"files-a2860416-5e44-4aa2-bd2a-2f6c731f864f\" name=\"files[]\" multiple disabled\n",
              "        style=\"border:none\" />\n",
              "     <output id=\"result-a2860416-5e44-4aa2-bd2a-2f6c731f864f\">\n",
              "      Upload widget is only available when the cell has been executed in the\n",
              "      current browser session. Please rerun this cell to enable.\n",
              "      </output>\n",
              "      <script src=\"/nbextensions/google.colab/files.js\"></script> "
            ],
            "text/plain": [
              "<IPython.core.display.HTML object>"
            ]
          },
          "metadata": {}
        },
        {
          "output_type": "stream",
          "name": "stdout",
          "text": [
            "Saving ev.csv to ev.csv\n"
          ]
        }
      ]
    },
    {
      "cell_type": "code",
      "source": [
        "ev=pd.read_csv('ev.csv')"
      ],
      "metadata": {
        "id": "rw6Amob4NYPf"
      },
      "execution_count": 5,
      "outputs": []
    },
    {
      "cell_type": "code",
      "source": [
        "ev.head()"
      ],
      "metadata": {
        "colab": {
          "base_uri": "https://localhost:8080/",
          "height": 299
        },
        "id": "q1njRhSeRvgT",
        "outputId": "89529612-fda3-4b40-9711-600794254f5a"
      },
      "execution_count": 44,
      "outputs": [
        {
          "output_type": "execute_result",
          "data": {
            "text/html": [
              "\n",
              "  <div id=\"df-2484df25-d4f1-46de-ac9d-456544ae7e68\">\n",
              "    <div class=\"colab-df-container\">\n",
              "      <div>\n",
              "<style scoped>\n",
              "    .dataframe tbody tr th:only-of-type {\n",
              "        vertical-align: middle;\n",
              "    }\n",
              "\n",
              "    .dataframe tbody tr th {\n",
              "        vertical-align: top;\n",
              "    }\n",
              "\n",
              "    .dataframe thead th {\n",
              "        text-align: right;\n",
              "    }\n",
              "</style>\n",
              "<table border=\"1\" class=\"dataframe\">\n",
              "  <thead>\n",
              "    <tr style=\"text-align: right;\">\n",
              "      <th></th>\n",
              "      <th>loc_id</th>\n",
              "      <th>year</th>\n",
              "      <th>month</th>\n",
              "      <th>maxtempC</th>\n",
              "      <th>maxtempF</th>\n",
              "      <th>mintempC</th>\n",
              "      <th>mintempF</th>\n",
              "      <th>avgtempC</th>\n",
              "      <th>avgtempF</th>\n",
              "      <th>rainMM</th>\n",
              "      <th>...</th>\n",
              "      <th>avgwindgustKmph</th>\n",
              "      <th>visibilityKm</th>\n",
              "      <th>visibilityMiles</th>\n",
              "      <th>humidity</th>\n",
              "      <th>pressureMB</th>\n",
              "      <th>pressureInches</th>\n",
              "      <th>cloudcover</th>\n",
              "      <th>sun_hour</th>\n",
              "      <th>sun_days</th>\n",
              "      <th>uvindex</th>\n",
              "    </tr>\n",
              "  </thead>\n",
              "  <tbody>\n",
              "    <tr>\n",
              "      <th>0</th>\n",
              "      <td>1</td>\n",
              "      <td>2009</td>\n",
              "      <td>1</td>\n",
              "      <td>5</td>\n",
              "      <td>41</td>\n",
              "      <td>0</td>\n",
              "      <td>32</td>\n",
              "      <td>2</td>\n",
              "      <td>36</td>\n",
              "      <td>20.82</td>\n",
              "      <td>...</td>\n",
              "      <td>27.6</td>\n",
              "      <td>8</td>\n",
              "      <td>5</td>\n",
              "      <td>88</td>\n",
              "      <td>1011.1</td>\n",
              "      <td>30.3</td>\n",
              "      <td>50</td>\n",
              "      <td>150.0</td>\n",
              "      <td>20</td>\n",
              "      <td>2</td>\n",
              "    </tr>\n",
              "    <tr>\n",
              "      <th>1</th>\n",
              "      <td>1</td>\n",
              "      <td>2009</td>\n",
              "      <td>2</td>\n",
              "      <td>6</td>\n",
              "      <td>44</td>\n",
              "      <td>2</td>\n",
              "      <td>35</td>\n",
              "      <td>4</td>\n",
              "      <td>39</td>\n",
              "      <td>31.20</td>\n",
              "      <td>...</td>\n",
              "      <td>21.5</td>\n",
              "      <td>7</td>\n",
              "      <td>4</td>\n",
              "      <td>91</td>\n",
              "      <td>1015.1</td>\n",
              "      <td>30.5</td>\n",
              "      <td>67</td>\n",
              "      <td>85.5</td>\n",
              "      <td>14</td>\n",
              "      <td>3</td>\n",
              "    </tr>\n",
              "    <tr>\n",
              "      <th>2</th>\n",
              "      <td>1</td>\n",
              "      <td>2009</td>\n",
              "      <td>3</td>\n",
              "      <td>11</td>\n",
              "      <td>52</td>\n",
              "      <td>3</td>\n",
              "      <td>37</td>\n",
              "      <td>6</td>\n",
              "      <td>44</td>\n",
              "      <td>17.17</td>\n",
              "      <td>...</td>\n",
              "      <td>22.7</td>\n",
              "      <td>8</td>\n",
              "      <td>5</td>\n",
              "      <td>83</td>\n",
              "      <td>1015.0</td>\n",
              "      <td>30.5</td>\n",
              "      <td>51</td>\n",
              "      <td>190.0</td>\n",
              "      <td>21</td>\n",
              "      <td>2</td>\n",
              "    </tr>\n",
              "    <tr>\n",
              "      <th>3</th>\n",
              "      <td>1</td>\n",
              "      <td>2009</td>\n",
              "      <td>4</td>\n",
              "      <td>15</td>\n",
              "      <td>59</td>\n",
              "      <td>5</td>\n",
              "      <td>42</td>\n",
              "      <td>10</td>\n",
              "      <td>50</td>\n",
              "      <td>32.18</td>\n",
              "      <td>...</td>\n",
              "      <td>16.0</td>\n",
              "      <td>8</td>\n",
              "      <td>4</td>\n",
              "      <td>81</td>\n",
              "      <td>1013.3</td>\n",
              "      <td>30.4</td>\n",
              "      <td>46</td>\n",
              "      <td>249.0</td>\n",
              "      <td>16</td>\n",
              "      <td>3</td>\n",
              "    </tr>\n",
              "    <tr>\n",
              "      <th>4</th>\n",
              "      <td>1</td>\n",
              "      <td>2009</td>\n",
              "      <td>5</td>\n",
              "      <td>17</td>\n",
              "      <td>63</td>\n",
              "      <td>8</td>\n",
              "      <td>46</td>\n",
              "      <td>13</td>\n",
              "      <td>55</td>\n",
              "      <td>19.36</td>\n",
              "      <td>...</td>\n",
              "      <td>20.3</td>\n",
              "      <td>9</td>\n",
              "      <td>5</td>\n",
              "      <td>76</td>\n",
              "      <td>1018.1</td>\n",
              "      <td>30.5</td>\n",
              "      <td>48</td>\n",
              "      <td>246.0</td>\n",
              "      <td>20</td>\n",
              "      <td>5</td>\n",
              "    </tr>\n",
              "  </tbody>\n",
              "</table>\n",
              "<p>5 rows × 29 columns</p>\n",
              "</div>\n",
              "      <button class=\"colab-df-convert\" onclick=\"convertToInteractive('df-2484df25-d4f1-46de-ac9d-456544ae7e68')\"\n",
              "              title=\"Convert this dataframe to an interactive table.\"\n",
              "              style=\"display:none;\">\n",
              "        \n",
              "  <svg xmlns=\"http://www.w3.org/2000/svg\" height=\"24px\"viewBox=\"0 0 24 24\"\n",
              "       width=\"24px\">\n",
              "    <path d=\"M0 0h24v24H0V0z\" fill=\"none\"/>\n",
              "    <path d=\"M18.56 5.44l.94 2.06.94-2.06 2.06-.94-2.06-.94-.94-2.06-.94 2.06-2.06.94zm-11 1L8.5 8.5l.94-2.06 2.06-.94-2.06-.94L8.5 2.5l-.94 2.06-2.06.94zm10 10l.94 2.06.94-2.06 2.06-.94-2.06-.94-.94-2.06-.94 2.06-2.06.94z\"/><path d=\"M17.41 7.96l-1.37-1.37c-.4-.4-.92-.59-1.43-.59-.52 0-1.04.2-1.43.59L10.3 9.45l-7.72 7.72c-.78.78-.78 2.05 0 2.83L4 21.41c.39.39.9.59 1.41.59.51 0 1.02-.2 1.41-.59l7.78-7.78 2.81-2.81c.8-.78.8-2.07 0-2.86zM5.41 20L4 18.59l7.72-7.72 1.47 1.35L5.41 20z\"/>\n",
              "  </svg>\n",
              "      </button>\n",
              "      \n",
              "  <style>\n",
              "    .colab-df-container {\n",
              "      display:flex;\n",
              "      flex-wrap:wrap;\n",
              "      gap: 12px;\n",
              "    }\n",
              "\n",
              "    .colab-df-convert {\n",
              "      background-color: #E8F0FE;\n",
              "      border: none;\n",
              "      border-radius: 50%;\n",
              "      cursor: pointer;\n",
              "      display: none;\n",
              "      fill: #1967D2;\n",
              "      height: 32px;\n",
              "      padding: 0 0 0 0;\n",
              "      width: 32px;\n",
              "    }\n",
              "\n",
              "    .colab-df-convert:hover {\n",
              "      background-color: #E2EBFA;\n",
              "      box-shadow: 0px 1px 2px rgba(60, 64, 67, 0.3), 0px 1px 3px 1px rgba(60, 64, 67, 0.15);\n",
              "      fill: #174EA6;\n",
              "    }\n",
              "\n",
              "    [theme=dark] .colab-df-convert {\n",
              "      background-color: #3B4455;\n",
              "      fill: #D2E3FC;\n",
              "    }\n",
              "\n",
              "    [theme=dark] .colab-df-convert:hover {\n",
              "      background-color: #434B5C;\n",
              "      box-shadow: 0px 1px 3px 1px rgba(0, 0, 0, 0.15);\n",
              "      filter: drop-shadow(0px 1px 2px rgba(0, 0, 0, 0.3));\n",
              "      fill: #FFFFFF;\n",
              "    }\n",
              "  </style>\n",
              "\n",
              "      <script>\n",
              "        const buttonEl =\n",
              "          document.querySelector('#df-2484df25-d4f1-46de-ac9d-456544ae7e68 button.colab-df-convert');\n",
              "        buttonEl.style.display =\n",
              "          google.colab.kernel.accessAllowed ? 'block' : 'none';\n",
              "\n",
              "        async function convertToInteractive(key) {\n",
              "          const element = document.querySelector('#df-2484df25-d4f1-46de-ac9d-456544ae7e68');\n",
              "          const dataTable =\n",
              "            await google.colab.kernel.invokeFunction('convertToInteractive',\n",
              "                                                     [key], {});\n",
              "          if (!dataTable) return;\n",
              "\n",
              "          const docLinkHtml = 'Like what you see? Visit the ' +\n",
              "            '<a target=\"_blank\" href=https://colab.research.google.com/notebooks/data_table.ipynb>data table notebook</a>'\n",
              "            + ' to learn more about interactive tables.';\n",
              "          element.innerHTML = '';\n",
              "          dataTable['output_type'] = 'display_data';\n",
              "          await google.colab.output.renderOutput(dataTable, element);\n",
              "          const docLink = document.createElement('div');\n",
              "          docLink.innerHTML = docLinkHtml;\n",
              "          element.appendChild(docLink);\n",
              "        }\n",
              "      </script>\n",
              "    </div>\n",
              "  </div>\n",
              "  "
            ],
            "text/plain": [
              "   loc_id  year  month  maxtempC  maxtempF  mintempC  mintempF  avgtempC  \\\n",
              "0       1  2009      1         5        41         0        32         2   \n",
              "1       1  2009      2         6        44         2        35         4   \n",
              "2       1  2009      3        11        52         3        37         6   \n",
              "3       1  2009      4        15        59         5        42        10   \n",
              "4       1  2009      5        17        63         8        46        13   \n",
              "\n",
              "   avgtempF  rainMM  ...  avgwindgustKmph  visibilityKm  visibilityMiles  \\\n",
              "0        36   20.82  ...             27.6             8                5   \n",
              "1        39   31.20  ...             21.5             7                4   \n",
              "2        44   17.17  ...             22.7             8                5   \n",
              "3        50   32.18  ...             16.0             8                4   \n",
              "4        55   19.36  ...             20.3             9                5   \n",
              "\n",
              "   humidity  pressureMB  pressureInches  cloudcover  sun_hour  sun_days  \\\n",
              "0        88      1011.1            30.3          50     150.0        20   \n",
              "1        91      1015.1            30.5          67      85.5        14   \n",
              "2        83      1015.0            30.5          51     190.0        21   \n",
              "3        81      1013.3            30.4          46     249.0        16   \n",
              "4        76      1018.1            30.5          48     246.0        20   \n",
              "\n",
              "   uvindex  \n",
              "0        2  \n",
              "1        3  \n",
              "2        2  \n",
              "3        3  \n",
              "4        5  \n",
              "\n",
              "[5 rows x 29 columns]"
            ]
          },
          "metadata": {},
          "execution_count": 44
        }
      ]
    },
    {
      "cell_type": "markdown",
      "source": [
        "Felesleges változók elhagyása"
      ],
      "metadata": {
        "id": "IdQqjeVf4heq"
      }
    },
    {
      "cell_type": "code",
      "source": [
        "print(ev.columns)"
      ],
      "metadata": {
        "colab": {
          "base_uri": "https://localhost:8080/"
        },
        "id": "KhrsGGdk3UWe",
        "outputId": "db741197-8743-4e30-ed2a-300ffe6a887e"
      },
      "execution_count": 6,
      "outputs": [
        {
          "output_type": "stream",
          "name": "stdout",
          "text": [
            "Index(['loc_id', 'year', 'month', 'maxtempC', 'maxtempF', 'mintempC',\n",
            "       'mintempF', 'avgtempC', 'avgtempF', 'rainMM', 'rainInches', 'rain_days',\n",
            "       'snow_cm', 'snow_days', 'maxwindspeedMiles', 'maxwindspeedKmph',\n",
            "       'avgwindspeedMiles', 'avgwindspeedKmph', 'avgwindgustMiles',\n",
            "       'avgwindgustKmph', 'visibilityKm', 'visibilityMiles', 'humidity',\n",
            "       'pressureMB', 'pressureInches', 'cloudcover', 'sun_hour', 'sun_days',\n",
            "       'uvindex'],\n",
            "      dtype='object')\n"
          ]
        }
      ]
    },
    {
      "cell_type": "code",
      "source": [
        "ev=ev.drop(columns=['loc_id','year','month','maxtempF','mintempF','avgtempF','rainInches','maxwindspeedMiles','avgwindspeedMiles','avgwindgustMiles','visibilityMiles','pressureInches'])\n"
      ],
      "metadata": {
        "id": "bucnWHp3Z_od"
      },
      "execution_count": 7,
      "outputs": []
    },
    {
      "cell_type": "code",
      "source": [
        "ev.head()"
      ],
      "metadata": {
        "colab": {
          "base_uri": "https://localhost:8080/",
          "height": 270
        },
        "id": "jqoT8u2IafHm",
        "outputId": "b46222ce-fd9a-4381-951e-f73cef438e71"
      },
      "execution_count": 8,
      "outputs": [
        {
          "output_type": "execute_result",
          "data": {
            "text/html": [
              "\n",
              "  <div id=\"df-122ea50c-491f-4a91-af3e-42ef5d4062ab\">\n",
              "    <div class=\"colab-df-container\">\n",
              "      <div>\n",
              "<style scoped>\n",
              "    .dataframe tbody tr th:only-of-type {\n",
              "        vertical-align: middle;\n",
              "    }\n",
              "\n",
              "    .dataframe tbody tr th {\n",
              "        vertical-align: top;\n",
              "    }\n",
              "\n",
              "    .dataframe thead th {\n",
              "        text-align: right;\n",
              "    }\n",
              "</style>\n",
              "<table border=\"1\" class=\"dataframe\">\n",
              "  <thead>\n",
              "    <tr style=\"text-align: right;\">\n",
              "      <th></th>\n",
              "      <th>maxtempC</th>\n",
              "      <th>mintempC</th>\n",
              "      <th>avgtempC</th>\n",
              "      <th>rainMM</th>\n",
              "      <th>rain_days</th>\n",
              "      <th>snow_cm</th>\n",
              "      <th>snow_days</th>\n",
              "      <th>maxwindspeedKmph</th>\n",
              "      <th>avgwindspeedKmph</th>\n",
              "      <th>avgwindgustKmph</th>\n",
              "      <th>visibilityKm</th>\n",
              "      <th>humidity</th>\n",
              "      <th>pressureMB</th>\n",
              "      <th>cloudcover</th>\n",
              "      <th>sun_hour</th>\n",
              "      <th>sun_days</th>\n",
              "      <th>uvindex</th>\n",
              "    </tr>\n",
              "  </thead>\n",
              "  <tbody>\n",
              "    <tr>\n",
              "      <th>0</th>\n",
              "      <td>5</td>\n",
              "      <td>0</td>\n",
              "      <td>2</td>\n",
              "      <td>20.82</td>\n",
              "      <td>8</td>\n",
              "      <td>0.2</td>\n",
              "      <td>2</td>\n",
              "      <td>16.3</td>\n",
              "      <td>16.3</td>\n",
              "      <td>27.6</td>\n",
              "      <td>8</td>\n",
              "      <td>88</td>\n",
              "      <td>1011.1</td>\n",
              "      <td>50</td>\n",
              "      <td>150.0</td>\n",
              "      <td>20</td>\n",
              "      <td>2</td>\n",
              "    </tr>\n",
              "    <tr>\n",
              "      <th>1</th>\n",
              "      <td>6</td>\n",
              "      <td>2</td>\n",
              "      <td>4</td>\n",
              "      <td>31.20</td>\n",
              "      <td>12</td>\n",
              "      <td>3.2</td>\n",
              "      <td>5</td>\n",
              "      <td>13.3</td>\n",
              "      <td>13.3</td>\n",
              "      <td>21.5</td>\n",
              "      <td>7</td>\n",
              "      <td>91</td>\n",
              "      <td>1015.1</td>\n",
              "      <td>67</td>\n",
              "      <td>85.5</td>\n",
              "      <td>14</td>\n",
              "      <td>3</td>\n",
              "    </tr>\n",
              "    <tr>\n",
              "      <th>2</th>\n",
              "      <td>11</td>\n",
              "      <td>3</td>\n",
              "      <td>6</td>\n",
              "      <td>17.17</td>\n",
              "      <td>8</td>\n",
              "      <td>0.1</td>\n",
              "      <td>1</td>\n",
              "      <td>14.4</td>\n",
              "      <td>14.4</td>\n",
              "      <td>22.7</td>\n",
              "      <td>8</td>\n",
              "      <td>83</td>\n",
              "      <td>1015.0</td>\n",
              "      <td>51</td>\n",
              "      <td>190.0</td>\n",
              "      <td>21</td>\n",
              "      <td>2</td>\n",
              "    </tr>\n",
              "    <tr>\n",
              "      <th>3</th>\n",
              "      <td>15</td>\n",
              "      <td>5</td>\n",
              "      <td>10</td>\n",
              "      <td>32.18</td>\n",
              "      <td>12</td>\n",
              "      <td>0.0</td>\n",
              "      <td>0</td>\n",
              "      <td>10.7</td>\n",
              "      <td>10.7</td>\n",
              "      <td>16.0</td>\n",
              "      <td>8</td>\n",
              "      <td>81</td>\n",
              "      <td>1013.3</td>\n",
              "      <td>46</td>\n",
              "      <td>249.0</td>\n",
              "      <td>16</td>\n",
              "      <td>3</td>\n",
              "    </tr>\n",
              "    <tr>\n",
              "      <th>4</th>\n",
              "      <td>17</td>\n",
              "      <td>8</td>\n",
              "      <td>13</td>\n",
              "      <td>19.36</td>\n",
              "      <td>10</td>\n",
              "      <td>0.0</td>\n",
              "      <td>0</td>\n",
              "      <td>14.3</td>\n",
              "      <td>14.3</td>\n",
              "      <td>20.3</td>\n",
              "      <td>9</td>\n",
              "      <td>76</td>\n",
              "      <td>1018.1</td>\n",
              "      <td>48</td>\n",
              "      <td>246.0</td>\n",
              "      <td>20</td>\n",
              "      <td>5</td>\n",
              "    </tr>\n",
              "  </tbody>\n",
              "</table>\n",
              "</div>\n",
              "      <button class=\"colab-df-convert\" onclick=\"convertToInteractive('df-122ea50c-491f-4a91-af3e-42ef5d4062ab')\"\n",
              "              title=\"Convert this dataframe to an interactive table.\"\n",
              "              style=\"display:none;\">\n",
              "        \n",
              "  <svg xmlns=\"http://www.w3.org/2000/svg\" height=\"24px\"viewBox=\"0 0 24 24\"\n",
              "       width=\"24px\">\n",
              "    <path d=\"M0 0h24v24H0V0z\" fill=\"none\"/>\n",
              "    <path d=\"M18.56 5.44l.94 2.06.94-2.06 2.06-.94-2.06-.94-.94-2.06-.94 2.06-2.06.94zm-11 1L8.5 8.5l.94-2.06 2.06-.94-2.06-.94L8.5 2.5l-.94 2.06-2.06.94zm10 10l.94 2.06.94-2.06 2.06-.94-2.06-.94-.94-2.06-.94 2.06-2.06.94z\"/><path d=\"M17.41 7.96l-1.37-1.37c-.4-.4-.92-.59-1.43-.59-.52 0-1.04.2-1.43.59L10.3 9.45l-7.72 7.72c-.78.78-.78 2.05 0 2.83L4 21.41c.39.39.9.59 1.41.59.51 0 1.02-.2 1.41-.59l7.78-7.78 2.81-2.81c.8-.78.8-2.07 0-2.86zM5.41 20L4 18.59l7.72-7.72 1.47 1.35L5.41 20z\"/>\n",
              "  </svg>\n",
              "      </button>\n",
              "      \n",
              "  <style>\n",
              "    .colab-df-container {\n",
              "      display:flex;\n",
              "      flex-wrap:wrap;\n",
              "      gap: 12px;\n",
              "    }\n",
              "\n",
              "    .colab-df-convert {\n",
              "      background-color: #E8F0FE;\n",
              "      border: none;\n",
              "      border-radius: 50%;\n",
              "      cursor: pointer;\n",
              "      display: none;\n",
              "      fill: #1967D2;\n",
              "      height: 32px;\n",
              "      padding: 0 0 0 0;\n",
              "      width: 32px;\n",
              "    }\n",
              "\n",
              "    .colab-df-convert:hover {\n",
              "      background-color: #E2EBFA;\n",
              "      box-shadow: 0px 1px 2px rgba(60, 64, 67, 0.3), 0px 1px 3px 1px rgba(60, 64, 67, 0.15);\n",
              "      fill: #174EA6;\n",
              "    }\n",
              "\n",
              "    [theme=dark] .colab-df-convert {\n",
              "      background-color: #3B4455;\n",
              "      fill: #D2E3FC;\n",
              "    }\n",
              "\n",
              "    [theme=dark] .colab-df-convert:hover {\n",
              "      background-color: #434B5C;\n",
              "      box-shadow: 0px 1px 3px 1px rgba(0, 0, 0, 0.15);\n",
              "      filter: drop-shadow(0px 1px 2px rgba(0, 0, 0, 0.3));\n",
              "      fill: #FFFFFF;\n",
              "    }\n",
              "  </style>\n",
              "\n",
              "      <script>\n",
              "        const buttonEl =\n",
              "          document.querySelector('#df-122ea50c-491f-4a91-af3e-42ef5d4062ab button.colab-df-convert');\n",
              "        buttonEl.style.display =\n",
              "          google.colab.kernel.accessAllowed ? 'block' : 'none';\n",
              "\n",
              "        async function convertToInteractive(key) {\n",
              "          const element = document.querySelector('#df-122ea50c-491f-4a91-af3e-42ef5d4062ab');\n",
              "          const dataTable =\n",
              "            await google.colab.kernel.invokeFunction('convertToInteractive',\n",
              "                                                     [key], {});\n",
              "          if (!dataTable) return;\n",
              "\n",
              "          const docLinkHtml = 'Like what you see? Visit the ' +\n",
              "            '<a target=\"_blank\" href=https://colab.research.google.com/notebooks/data_table.ipynb>data table notebook</a>'\n",
              "            + ' to learn more about interactive tables.';\n",
              "          element.innerHTML = '';\n",
              "          dataTable['output_type'] = 'display_data';\n",
              "          await google.colab.output.renderOutput(dataTable, element);\n",
              "          const docLink = document.createElement('div');\n",
              "          docLink.innerHTML = docLinkHtml;\n",
              "          element.appendChild(docLink);\n",
              "        }\n",
              "      </script>\n",
              "    </div>\n",
              "  </div>\n",
              "  "
            ],
            "text/plain": [
              "   maxtempC  mintempC  avgtempC  rainMM  rain_days  snow_cm  snow_days  \\\n",
              "0         5         0         2   20.82          8      0.2          2   \n",
              "1         6         2         4   31.20         12      3.2          5   \n",
              "2        11         3         6   17.17          8      0.1          1   \n",
              "3        15         5        10   32.18         12      0.0          0   \n",
              "4        17         8        13   19.36         10      0.0          0   \n",
              "\n",
              "   maxwindspeedKmph  avgwindspeedKmph  avgwindgustKmph  visibilityKm  \\\n",
              "0              16.3              16.3             27.6             8   \n",
              "1              13.3              13.3             21.5             7   \n",
              "2              14.4              14.4             22.7             8   \n",
              "3              10.7              10.7             16.0             8   \n",
              "4              14.3              14.3             20.3             9   \n",
              "\n",
              "   humidity  pressureMB  cloudcover  sun_hour  sun_days  uvindex  \n",
              "0        88      1011.1          50     150.0        20        2  \n",
              "1        91      1015.1          67      85.5        14        3  \n",
              "2        83      1015.0          51     190.0        21        2  \n",
              "3        81      1013.3          46     249.0        16        3  \n",
              "4        76      1018.1          48     246.0        20        5  "
            ]
          },
          "metadata": {},
          "execution_count": 8
        }
      ]
    },
    {
      "cell_type": "markdown",
      "source": [
        "Függő- és magyarázó változók létrehozása"
      ],
      "metadata": {
        "id": "GtKJVTXE4do-"
      }
    },
    {
      "cell_type": "code",
      "source": [
        "y_ev=ev['avgtempC'].copy()\n",
        "y_ev=y_ev.drop(0, axis=0)\n",
        "y_ev.shape"
      ],
      "metadata": {
        "colab": {
          "base_uri": "https://localhost:8080/"
        },
        "id": "Qr4gJ1p73v4U",
        "outputId": "238f5044-64fe-4a45-8a64-bea6d7d8d065"
      },
      "execution_count": 9,
      "outputs": [
        {
          "output_type": "execute_result",
          "data": {
            "text/plain": [
              "(131,)"
            ]
          },
          "metadata": {},
          "execution_count": 9
        }
      ]
    },
    {
      "cell_type": "code",
      "source": [
        "x_ev=ev.copy().drop('avgtempC',axis=1)\n",
        "x_ev=x_ev.drop(axis=0,index=(x_ev.shape[0]-1))\n",
        "x_ev.shape"
      ],
      "metadata": {
        "colab": {
          "base_uri": "https://localhost:8080/"
        },
        "id": "lTjCeJ_938Sh",
        "outputId": "1a2cc731-8b08-4a4b-947c-3d5bb7f40201"
      },
      "execution_count": 10,
      "outputs": [
        {
          "output_type": "execute_result",
          "data": {
            "text/plain": [
              "(131, 16)"
            ]
          },
          "metadata": {},
          "execution_count": 10
        }
      ]
    },
    {
      "cell_type": "markdown",
      "source": [
        "Felbontás train- és teszt-adatbázisra"
      ],
      "metadata": {
        "id": "hLxfp3x54aM6"
      }
    },
    {
      "cell_type": "code",
      "source": [
        "x_train_e, x_test_e, y_train_e, y_test_e = train_test_split(x_ev, y_ev, test_size=0.1, shuffle=True)"
      ],
      "metadata": {
        "id": "cJ-vHMWG4F6w"
      },
      "execution_count": 11,
      "outputs": []
    },
    {
      "cell_type": "markdown",
      "source": [
        "Változók normalizálása"
      ],
      "metadata": {
        "id": "deJF4cau4VTK"
      }
    },
    {
      "cell_type": "code",
      "source": [
        "normalizer = StandardScaler()\n",
        "normalizer.fit(x_train_e)\n",
        "x_train_e=normalizer.transform(x_train_e)\n",
        "pd.DataFrame(x_train_e)\n",
        "x_test_e = normalizer.transform(x_test_e)"
      ],
      "metadata": {
        "id": "hE_xhyps4UfO"
      },
      "execution_count": 12,
      "outputs": []
    },
    {
      "cell_type": "markdown",
      "source": [
        "Architektúra létrehozása"
      ],
      "metadata": {
        "id": "4LaSx1Ci4wAW"
      }
    },
    {
      "cell_type": "code",
      "source": [
        "input = Input(shape=(x_train_e.shape[1]))\n",
        "x= Dense(64, activation='relu')(input)\n",
        "x= Dense(64, activation='relu')(x)\n",
        "x= Dense(64, activation='relu')(x)\n",
        "x= Dense(64, activation='relu')(x)\n",
        "output = Dense(1, activation = 'linear')(x)"
      ],
      "metadata": {
        "id": "gBoxjSix4xq9"
      },
      "execution_count": 13,
      "outputs": []
    },
    {
      "cell_type": "code",
      "source": [
        "model = keras.Model(input, output)"
      ],
      "metadata": {
        "id": "g1FfoTCZ428V"
      },
      "execution_count": 14,
      "outputs": []
    },
    {
      "cell_type": "code",
      "source": [
        "plot_model(model, show_shapes=True)"
      ],
      "metadata": {
        "colab": {
          "base_uri": "https://localhost:8080/",
          "height": 644
        },
        "id": "padUiFDn4-jB",
        "outputId": "c81232bb-8b39-48c9-d7d7-e94529e72483"
      },
      "execution_count": 15,
      "outputs": [
        {
          "output_type": "execute_result",
          "data": {
            "image/png": "[encoded data removed]",
            "text/plain": [
              "<IPython.core.display.Image object>"
            ]
          },
          "metadata": {},
          "execution_count": 15
        }
      ]
    },
    {
      "cell_type": "markdown",
      "source": [
        "Modell compile"
      ],
      "metadata": {
        "id": "0bdz-c6P5KEH"
      }
    },
    {
      "cell_type": "code",
      "source": [
        "model.compile(optimizer='adam',\n",
        "              loss='mse',\n",
        "              metrics=['MeanSquaredError'])"
      ],
      "metadata": {
        "id": "dnSL-rHS5BCp"
      },
      "execution_count": 16,
      "outputs": []
    },
    {
      "cell_type": "code",
      "source": [
        "early_stopping_callback = EarlyStopping(patience=20, restore_best_weights=True)"
      ],
      "metadata": {
        "id": "aEZDXFY65Mqg"
      },
      "execution_count": 17,
      "outputs": []
    },
    {
      "cell_type": "code",
      "source": [
        "model.fit(x_train_e, y_train_e, batch_size=64, epochs=500, validation_split=0.1, callbacks=[early_stopping_callback])"
      ],
      "metadata": {
        "colab": {
          "base_uri": "https://localhost:8080/"
        },
        "id": "ch0kXKB35RYI",
        "outputId": "74c41fe2-72d3-4213-d93f-9e28b3386b87"
      },
      "execution_count": 19,
      "outputs": [
        {
          "output_type": "stream",
          "name": "stdout",
          "text": [
            "Epoch 1/500\n",
            "2/2 [==============================] - 1s 158ms/step - loss: 143.0631 - mean_squared_error: 143.0631 - val_loss: 132.6608 - val_mean_squared_error: 132.6608\n",
            "Epoch 2/500\n",
            "2/2 [==============================] - 0s 22ms/step - loss: 138.6256 - mean_squared_error: 138.6256 - val_loss: 129.5825 - val_mean_squared_error: 129.5825\n",
            "Epoch 3/500\n",
            "2/2 [==============================] - 0s 25ms/step - loss: 134.3762 - mean_squared_error: 134.3762 - val_loss: 126.5181 - val_mean_squared_error: 126.5181\n",
            "Epoch 4/500\n",
            "2/2 [==============================] - 0s 22ms/step - loss: 130.2722 - mean_squared_error: 130.2722 - val_loss: 123.3461 - val_mean_squared_error: 123.3461\n",
            "Epoch 5/500\n",
            "2/2 [==============================] - 0s 28ms/step - loss: 126.0053 - mean_squared_error: 126.0053 - val_loss: 119.8702 - val_mean_squared_error: 119.8702\n",
            "Epoch 6/500\n",
            "2/2 [==============================] - 0s 23ms/step - loss: 121.2777 - mean_squared_error: 121.2777 - val_loss: 115.9815 - val_mean_squared_error: 115.9815\n",
            "Epoch 7/500\n",
            "2/2 [==============================] - 0s 23ms/step - loss: 116.0738 - mean_squared_error: 116.0738 - val_loss: 111.6292 - val_mean_squared_error: 111.6292\n",
            "Epoch 8/500\n",
            "2/2 [==============================] - 0s 21ms/step - loss: 110.1585 - mean_squared_error: 110.1585 - val_loss: 106.7020 - val_mean_squared_error: 106.7020\n",
            "Epoch 9/500\n",
            "2/2 [==============================] - 0s 23ms/step - loss: 103.3914 - mean_squared_error: 103.3914 - val_loss: 101.1235 - val_mean_squared_error: 101.1235\n",
            "Epoch 10/500\n",
            "2/2 [==============================] - 0s 22ms/step - loss: 96.2105 - mean_squared_error: 96.2105 - val_loss: 94.8703 - val_mean_squared_error: 94.8703\n",
            "Epoch 11/500\n",
            "2/2 [==============================] - 0s 25ms/step - loss: 87.3935 - mean_squared_error: 87.3935 - val_loss: 87.9848 - val_mean_squared_error: 87.9848\n",
            "Epoch 12/500\n",
            "2/2 [==============================] - 0s 25ms/step - loss: 77.9695 - mean_squared_error: 77.9695 - val_loss: 80.5299 - val_mean_squared_error: 80.5299\n",
            "Epoch 13/500\n",
            "2/2 [==============================] - 0s 24ms/step - loss: 68.1565 - mean_squared_error: 68.1565 - val_loss: 72.6696 - val_mean_squared_error: 72.6696\n",
            "Epoch 14/500\n",
            "2/2 [==============================] - 0s 26ms/step - loss: 57.4052 - mean_squared_error: 57.4052 - val_loss: 64.7826 - val_mean_squared_error: 64.7826\n",
            "Epoch 15/500\n",
            "2/2 [==============================] - 0s 22ms/step - loss: 46.8300 - mean_squared_error: 46.8300 - val_loss: 57.2004 - val_mean_squared_error: 57.2004\n",
            "Epoch 16/500\n",
            "2/2 [==============================] - 0s 25ms/step - loss: 37.3191 - mean_squared_error: 37.3191 - val_loss: 50.0831 - val_mean_squared_error: 50.0831\n",
            "Epoch 17/500\n",
            "2/2 [==============================] - 0s 22ms/step - loss: 30.0366 - mean_squared_error: 30.0366 - val_loss: 43.5555 - val_mean_squared_error: 43.5555\n",
            "Epoch 18/500\n",
            "2/2 [==============================] - 0s 27ms/step - loss: 24.9765 - mean_squared_error: 24.9765 - val_loss: 37.5688 - val_mean_squared_error: 37.5688\n",
            "Epoch 19/500\n",
            "2/2 [==============================] - 0s 23ms/step - loss: 22.5700 - mean_squared_error: 22.5700 - val_loss: 32.2862 - val_mean_squared_error: 32.2862\n",
            "Epoch 20/500\n",
            "2/2 [==============================] - 0s 25ms/step - loss: 22.5329 - mean_squared_error: 22.5329 - val_loss: 27.6658 - val_mean_squared_error: 27.6658\n",
            "Epoch 21/500\n",
            "2/2 [==============================] - 0s 24ms/step - loss: 22.9632 - mean_squared_error: 22.9632 - val_loss: 23.7981 - val_mean_squared_error: 23.7981\n",
            "Epoch 22/500\n",
            "2/2 [==============================] - 0s 24ms/step - loss: 21.7701 - mean_squared_error: 21.7701 - val_loss: 21.0789 - val_mean_squared_error: 21.0789\n",
            "Epoch 23/500\n",
            "2/2 [==============================] - 0s 27ms/step - loss: 19.1826 - mean_squared_error: 19.1826 - val_loss: 19.8352 - val_mean_squared_error: 19.8352\n",
            "Epoch 24/500\n",
            "2/2 [==============================] - 0s 24ms/step - loss: 16.6230 - mean_squared_error: 16.6230 - val_loss: 19.7580 - val_mean_squared_error: 19.7580\n",
            "Epoch 25/500\n",
            "2/2 [==============================] - 0s 22ms/step - loss: 15.5028 - mean_squared_error: 15.5028 - val_loss: 20.4626 - val_mean_squared_error: 20.4626\n",
            "Epoch 26/500\n",
            "2/2 [==============================] - 0s 22ms/step - loss: 14.6208 - mean_squared_error: 14.6208 - val_loss: 21.0971 - val_mean_squared_error: 21.0971\n",
            "Epoch 27/500\n",
            "2/2 [==============================] - 0s 25ms/step - loss: 14.6262 - mean_squared_error: 14.6262 - val_loss: 21.4928 - val_mean_squared_error: 21.4928\n",
            "Epoch 28/500\n",
            "2/2 [==============================] - 0s 24ms/step - loss: 14.5402 - mean_squared_error: 14.5402 - val_loss: 21.3087 - val_mean_squared_error: 21.3087\n",
            "Epoch 29/500\n",
            "2/2 [==============================] - 0s 21ms/step - loss: 14.3622 - mean_squared_error: 14.3622 - val_loss: 20.6200 - val_mean_squared_error: 20.6200\n",
            "Epoch 30/500\n",
            "2/2 [==============================] - 0s 23ms/step - loss: 13.8759 - mean_squared_error: 13.8759 - val_loss: 19.4730 - val_mean_squared_error: 19.4730\n",
            "Epoch 31/500\n",
            "2/2 [==============================] - 0s 23ms/step - loss: 13.2354 - mean_squared_error: 13.2354 - val_loss: 18.1442 - val_mean_squared_error: 18.1442\n",
            "Epoch 32/500\n",
            "2/2 [==============================] - 0s 25ms/step - loss: 12.7028 - mean_squared_error: 12.7028 - val_loss: 16.8259 - val_mean_squared_error: 16.8259\n",
            "Epoch 33/500\n",
            "2/2 [==============================] - 0s 22ms/step - loss: 12.0775 - mean_squared_error: 12.0775 - val_loss: 15.8227 - val_mean_squared_error: 15.8227\n",
            "Epoch 34/500\n",
            "2/2 [==============================] - 0s 23ms/step - loss: 11.5941 - mean_squared_error: 11.5941 - val_loss: 15.1487 - val_mean_squared_error: 15.1487\n",
            "Epoch 35/500\n",
            "2/2 [==============================] - 0s 22ms/step - loss: 11.2786 - mean_squared_error: 11.2786 - val_loss: 14.6500 - val_mean_squared_error: 14.6500\n",
            "Epoch 36/500\n",
            "2/2 [==============================] - 0s 26ms/step - loss: 11.0356 - mean_squared_error: 11.0356 - val_loss: 14.3276 - val_mean_squared_error: 14.3276\n",
            "Epoch 37/500\n",
            "2/2 [==============================] - 0s 25ms/step - loss: 10.7123 - mean_squared_error: 10.7123 - val_loss: 14.2723 - val_mean_squared_error: 14.2723\n",
            "Epoch 38/500\n",
            "2/2 [==============================] - 0s 22ms/step - loss: 10.3794 - mean_squared_error: 10.3794 - val_loss: 14.3105 - val_mean_squared_error: 14.3105\n",
            "Epoch 39/500\n",
            "2/2 [==============================] - 0s 21ms/step - loss: 9.9809 - mean_squared_error: 9.9809 - val_loss: 14.3843 - val_mean_squared_error: 14.3843\n",
            "Epoch 40/500\n",
            "2/2 [==============================] - 0s 22ms/step - loss: 9.6417 - mean_squared_error: 9.6417 - val_loss: 14.4364 - val_mean_squared_error: 14.4364\n",
            "Epoch 41/500\n",
            "2/2 [==============================] - 0s 20ms/step - loss: 9.3775 - mean_squared_error: 9.3775 - val_loss: 14.5545 - val_mean_squared_error: 14.5545\n",
            "Epoch 42/500\n",
            "2/2 [==============================] - 0s 21ms/step - loss: 9.1127 - mean_squared_error: 9.1127 - val_loss: 14.5619 - val_mean_squared_error: 14.5619\n",
            "Epoch 43/500\n",
            "2/2 [==============================] - 0s 21ms/step - loss: 8.8834 - mean_squared_error: 8.8834 - val_loss: 14.4430 - val_mean_squared_error: 14.4430\n",
            "Epoch 44/500\n",
            "2/2 [==============================] - 0s 23ms/step - loss: 8.6695 - mean_squared_error: 8.6695 - val_loss: 14.2024 - val_mean_squared_error: 14.2024\n",
            "Epoch 45/500\n",
            "2/2 [==============================] - 0s 22ms/step - loss: 8.4001 - mean_squared_error: 8.4001 - val_loss: 13.8558 - val_mean_squared_error: 13.8558\n",
            "Epoch 46/500\n",
            "2/2 [==============================] - 0s 22ms/step - loss: 8.1673 - mean_squared_error: 8.1673 - val_loss: 13.4403 - val_mean_squared_error: 13.4403\n",
            "Epoch 47/500\n",
            "2/2 [==============================] - 0s 24ms/step - loss: 7.9521 - mean_squared_error: 7.9521 - val_loss: 13.0820 - val_mean_squared_error: 13.0820\n",
            "Epoch 48/500\n",
            "2/2 [==============================] - 0s 23ms/step - loss: 7.6974 - mean_squared_error: 7.6974 - val_loss: 12.8277 - val_mean_squared_error: 12.8277\n",
            "Epoch 49/500\n",
            "2/2 [==============================] - 0s 22ms/step - loss: 7.5026 - mean_squared_error: 7.5026 - val_loss: 12.6012 - val_mean_squared_error: 12.6012\n",
            "Epoch 50/500\n",
            "2/2 [==============================] - 0s 21ms/step - loss: 7.2655 - mean_squared_error: 7.2655 - val_loss: 12.4642 - val_mean_squared_error: 12.4642\n",
            "Epoch 51/500\n",
            "2/2 [==============================] - 0s 23ms/step - loss: 7.0653 - mean_squared_error: 7.0653 - val_loss: 12.3419 - val_mean_squared_error: 12.3419\n",
            "Epoch 52/500\n",
            "2/2 [==============================] - 0s 21ms/step - loss: 6.8442 - mean_squared_error: 6.8442 - val_loss: 12.3019 - val_mean_squared_error: 12.3019\n",
            "Epoch 53/500\n",
            "2/2 [==============================] - 0s 23ms/step - loss: 6.6736 - mean_squared_error: 6.6736 - val_loss: 12.2784 - val_mean_squared_error: 12.2784\n",
            "Epoch 54/500\n",
            "2/2 [==============================] - 0s 27ms/step - loss: 6.4957 - mean_squared_error: 6.4957 - val_loss: 12.2207 - val_mean_squared_error: 12.2207\n",
            "Epoch 55/500\n",
            "2/2 [==============================] - 0s 24ms/step - loss: 6.3524 - mean_squared_error: 6.3524 - val_loss: 12.0583 - val_mean_squared_error: 12.0583\n",
            "Epoch 56/500\n",
            "2/2 [==============================] - 0s 23ms/step - loss: 6.1432 - mean_squared_error: 6.1432 - val_loss: 11.9207 - val_mean_squared_error: 11.9207\n",
            "Epoch 57/500\n",
            "2/2 [==============================] - 0s 23ms/step - loss: 5.9769 - mean_squared_error: 5.9769 - val_loss: 11.7734 - val_mean_squared_error: 11.7734\n",
            "Epoch 58/500\n",
            "2/2 [==============================] - 0s 21ms/step - loss: 5.7952 - mean_squared_error: 5.7952 - val_loss: 11.6687 - val_mean_squared_error: 11.6687\n",
            "Epoch 59/500\n",
            "2/2 [==============================] - 0s 28ms/step - loss: 5.6366 - mean_squared_error: 5.6366 - val_loss: 11.5498 - val_mean_squared_error: 11.5498\n",
            "Epoch 60/500\n",
            "2/2 [==============================] - 0s 22ms/step - loss: 5.4794 - mean_squared_error: 5.4794 - val_loss: 11.4343 - val_mean_squared_error: 11.4343\n",
            "Epoch 61/500\n",
            "2/2 [==============================] - 0s 29ms/step - loss: 5.3305 - mean_squared_error: 5.3305 - val_loss: 11.3553 - val_mean_squared_error: 11.3553\n",
            "Epoch 62/500\n",
            "2/2 [==============================] - 0s 26ms/step - loss: 5.1789 - mean_squared_error: 5.1789 - val_loss: 11.2738 - val_mean_squared_error: 11.2738\n",
            "Epoch 63/500\n",
            "2/2 [==============================] - 0s 26ms/step - loss: 5.0408 - mean_squared_error: 5.0408 - val_loss: 11.2151 - val_mean_squared_error: 11.2151\n",
            "Epoch 64/500\n",
            "2/2 [==============================] - 0s 23ms/step - loss: 4.9009 - mean_squared_error: 4.9009 - val_loss: 11.1354 - val_mean_squared_error: 11.1354\n",
            "Epoch 65/500\n",
            "2/2 [==============================] - 0s 28ms/step - loss: 4.7678 - mean_squared_error: 4.7678 - val_loss: 11.0905 - val_mean_squared_error: 11.0905\n",
            "Epoch 66/500\n",
            "2/2 [==============================] - 0s 27ms/step - loss: 4.6205 - mean_squared_error: 4.6205 - val_loss: 10.9982 - val_mean_squared_error: 10.9982\n",
            "Epoch 67/500\n",
            "2/2 [==============================] - 0s 29ms/step - loss: 4.5049 - mean_squared_error: 4.5049 - val_loss: 10.8765 - val_mean_squared_error: 10.8765\n",
            "Epoch 68/500\n",
            "2/2 [==============================] - 0s 25ms/step - loss: 4.3644 - mean_squared_error: 4.3644 - val_loss: 10.6741 - val_mean_squared_error: 10.6741\n",
            "Epoch 69/500\n",
            "2/2 [==============================] - 0s 24ms/step - loss: 4.2632 - mean_squared_error: 4.2632 - val_loss: 10.4560 - val_mean_squared_error: 10.4560\n",
            "Epoch 70/500\n",
            "2/2 [==============================] - 0s 23ms/step - loss: 4.1572 - mean_squared_error: 4.1572 - val_loss: 10.3260 - val_mean_squared_error: 10.3260\n",
            "Epoch 71/500\n",
            "2/2 [==============================] - 0s 25ms/step - loss: 4.0318 - mean_squared_error: 4.0318 - val_loss: 10.2670 - val_mean_squared_error: 10.2670\n",
            "Epoch 72/500\n",
            "2/2 [==============================] - 0s 27ms/step - loss: 3.9033 - mean_squared_error: 3.9033 - val_loss: 10.2389 - val_mean_squared_error: 10.2389\n",
            "Epoch 73/500\n",
            "2/2 [==============================] - 0s 23ms/step - loss: 3.8004 - mean_squared_error: 3.8004 - val_loss: 10.2137 - val_mean_squared_error: 10.2137\n",
            "Epoch 74/500\n",
            "2/2 [==============================] - 0s 24ms/step - loss: 3.7535 - mean_squared_error: 3.7535 - val_loss: 10.1453 - val_mean_squared_error: 10.1453\n",
            "Epoch 75/500\n",
            "2/2 [==============================] - 0s 22ms/step - loss: 3.6198 - mean_squared_error: 3.6198 - val_loss: 9.9241 - val_mean_squared_error: 9.9241\n",
            "Epoch 76/500\n",
            "2/2 [==============================] - 0s 22ms/step - loss: 3.5147 - mean_squared_error: 3.5147 - val_loss: 9.7001 - val_mean_squared_error: 9.7001\n",
            "Epoch 77/500\n",
            "2/2 [==============================] - 0s 22ms/step - loss: 3.4208 - mean_squared_error: 3.4208 - val_loss: 9.5382 - val_mean_squared_error: 9.5382\n",
            "Epoch 78/500\n",
            "2/2 [==============================] - 0s 22ms/step - loss: 3.3379 - mean_squared_error: 3.3379 - val_loss: 9.4455 - val_mean_squared_error: 9.4455\n",
            "Epoch 79/500\n",
            "2/2 [==============================] - 0s 23ms/step - loss: 3.2369 - mean_squared_error: 3.2369 - val_loss: 9.3831 - val_mean_squared_error: 9.3831\n",
            "Epoch 80/500\n",
            "2/2 [==============================] - 0s 21ms/step - loss: 3.1335 - mean_squared_error: 3.1335 - val_loss: 9.3033 - val_mean_squared_error: 9.3033\n",
            "Epoch 81/500\n",
            "2/2 [==============================] - 0s 23ms/step - loss: 3.0442 - mean_squared_error: 3.0442 - val_loss: 9.1972 - val_mean_squared_error: 9.1972\n",
            "Epoch 82/500\n",
            "2/2 [==============================] - 0s 23ms/step - loss: 2.9600 - mean_squared_error: 2.9600 - val_loss: 9.0815 - val_mean_squared_error: 9.0815\n",
            "Epoch 83/500\n",
            "2/2 [==============================] - 0s 25ms/step - loss: 2.8739 - mean_squared_error: 2.8739 - val_loss: 8.9876 - val_mean_squared_error: 8.9876\n",
            "Epoch 84/500\n",
            "2/2 [==============================] - 0s 23ms/step - loss: 2.7984 - mean_squared_error: 2.7984 - val_loss: 8.9075 - val_mean_squared_error: 8.9075\n",
            "Epoch 85/500\n",
            "2/2 [==============================] - 0s 24ms/step - loss: 2.7271 - mean_squared_error: 2.7271 - val_loss: 8.8513 - val_mean_squared_error: 8.8513\n",
            "Epoch 86/500\n",
            "2/2 [==============================] - 0s 22ms/step - loss: 2.6407 - mean_squared_error: 2.6407 - val_loss: 8.7264 - val_mean_squared_error: 8.7264\n",
            "Epoch 87/500\n",
            "2/2 [==============================] - 0s 23ms/step - loss: 2.5614 - mean_squared_error: 2.5614 - val_loss: 8.6073 - val_mean_squared_error: 8.6073\n",
            "Epoch 88/500\n",
            "2/2 [==============================] - 0s 24ms/step - loss: 2.5004 - mean_squared_error: 2.5004 - val_loss: 8.5100 - val_mean_squared_error: 8.5100\n",
            "Epoch 89/500\n",
            "2/2 [==============================] - 0s 24ms/step - loss: 2.4334 - mean_squared_error: 2.4334 - val_loss: 8.4698 - val_mean_squared_error: 8.4698\n",
            "Epoch 90/500\n",
            "2/2 [==============================] - 0s 24ms/step - loss: 2.3531 - mean_squared_error: 2.3531 - val_loss: 8.4288 - val_mean_squared_error: 8.4288\n",
            "Epoch 91/500\n",
            "2/2 [==============================] - 0s 23ms/step - loss: 2.2817 - mean_squared_error: 2.2817 - val_loss: 8.3667 - val_mean_squared_error: 8.3667\n",
            "Epoch 92/500\n",
            "2/2 [==============================] - 0s 28ms/step - loss: 2.2167 - mean_squared_error: 2.2167 - val_loss: 8.2787 - val_mean_squared_error: 8.2787\n",
            "Epoch 93/500\n",
            "2/2 [==============================] - 0s 26ms/step - loss: 2.1517 - mean_squared_error: 2.1517 - val_loss: 8.2087 - val_mean_squared_error: 8.2087\n",
            "Epoch 94/500\n",
            "2/2 [==============================] - 0s 22ms/step - loss: 2.0851 - mean_squared_error: 2.0851 - val_loss: 8.1450 - val_mean_squared_error: 8.1450\n",
            "Epoch 95/500\n",
            "2/2 [==============================] - 0s 25ms/step - loss: 2.0403 - mean_squared_error: 2.0403 - val_loss: 8.0750 - val_mean_squared_error: 8.0750\n",
            "Epoch 96/500\n",
            "2/2 [==============================] - 0s 25ms/step - loss: 1.9725 - mean_squared_error: 1.9725 - val_loss: 8.0168 - val_mean_squared_error: 8.0168\n",
            "Epoch 97/500\n",
            "2/2 [==============================] - 0s 29ms/step - loss: 1.9292 - mean_squared_error: 1.9292 - val_loss: 7.9474 - val_mean_squared_error: 7.9474\n",
            "Epoch 98/500\n",
            "2/2 [==============================] - 0s 26ms/step - loss: 1.8611 - mean_squared_error: 1.8611 - val_loss: 7.9070 - val_mean_squared_error: 7.9070\n",
            "Epoch 99/500\n",
            "2/2 [==============================] - 0s 26ms/step - loss: 1.8132 - mean_squared_error: 1.8132 - val_loss: 7.8689 - val_mean_squared_error: 7.8689\n",
            "Epoch 100/500\n",
            "2/2 [==============================] - 0s 24ms/step - loss: 1.7548 - mean_squared_error: 1.7548 - val_loss: 7.7913 - val_mean_squared_error: 7.7913\n",
            "Epoch 101/500\n",
            "2/2 [==============================] - 0s 28ms/step - loss: 1.7112 - mean_squared_error: 1.7112 - val_loss: 7.7180 - val_mean_squared_error: 7.7180\n",
            "Epoch 102/500\n",
            "2/2 [==============================] - 0s 25ms/step - loss: 1.6522 - mean_squared_error: 1.6522 - val_loss: 7.6161 - val_mean_squared_error: 7.6161\n",
            "Epoch 103/500\n",
            "2/2 [==============================] - 0s 25ms/step - loss: 1.6169 - mean_squared_error: 1.6169 - val_loss: 7.5128 - val_mean_squared_error: 7.5128\n",
            "Epoch 104/500\n",
            "2/2 [==============================] - 0s 29ms/step - loss: 1.5847 - mean_squared_error: 1.5847 - val_loss: 7.4428 - val_mean_squared_error: 7.4428\n",
            "Epoch 105/500\n",
            "2/2 [==============================] - 0s 25ms/step - loss: 1.5265 - mean_squared_error: 1.5265 - val_loss: 7.4390 - val_mean_squared_error: 7.4390\n",
            "Epoch 106/500\n",
            "2/2 [==============================] - 0s 22ms/step - loss: 1.4766 - mean_squared_error: 1.4766 - val_loss: 7.4255 - val_mean_squared_error: 7.4255\n",
            "Epoch 107/500\n",
            "2/2 [==============================] - 0s 26ms/step - loss: 1.4385 - mean_squared_error: 1.4385 - val_loss: 7.3990 - val_mean_squared_error: 7.3990\n",
            "Epoch 108/500\n",
            "2/2 [==============================] - 0s 22ms/step - loss: 1.4076 - mean_squared_error: 1.4076 - val_loss: 7.3896 - val_mean_squared_error: 7.3896\n",
            "Epoch 109/500\n",
            "2/2 [==============================] - 0s 23ms/step - loss: 1.3513 - mean_squared_error: 1.3513 - val_loss: 7.3714 - val_mean_squared_error: 7.3714\n",
            "Epoch 110/500\n",
            "2/2 [==============================] - 0s 22ms/step - loss: 1.3099 - mean_squared_error: 1.3099 - val_loss: 7.3182 - val_mean_squared_error: 7.3182\n",
            "Epoch 111/500\n",
            "2/2 [==============================] - 0s 23ms/step - loss: 1.2736 - mean_squared_error: 1.2736 - val_loss: 7.2707 - val_mean_squared_error: 7.2707\n",
            "Epoch 112/500\n",
            "2/2 [==============================] - 0s 24ms/step - loss: 1.2398 - mean_squared_error: 1.2398 - val_loss: 7.2011 - val_mean_squared_error: 7.2011\n",
            "Epoch 113/500\n",
            "2/2 [==============================] - 0s 24ms/step - loss: 1.2038 - mean_squared_error: 1.2038 - val_loss: 7.1623 - val_mean_squared_error: 7.1623\n",
            "Epoch 114/500\n",
            "2/2 [==============================] - 0s 23ms/step - loss: 1.1735 - mean_squared_error: 1.1735 - val_loss: 7.1537 - val_mean_squared_error: 7.1537\n",
            "Epoch 115/500\n",
            "2/2 [==============================] - 0s 24ms/step - loss: 1.1284 - mean_squared_error: 1.1284 - val_loss: 7.1331 - val_mean_squared_error: 7.1331\n",
            "Epoch 116/500\n",
            "2/2 [==============================] - 0s 24ms/step - loss: 1.1033 - mean_squared_error: 1.1033 - val_loss: 7.1326 - val_mean_squared_error: 7.1326\n",
            "Epoch 117/500\n",
            "2/2 [==============================] - 0s 22ms/step - loss: 1.0652 - mean_squared_error: 1.0652 - val_loss: 7.0914 - val_mean_squared_error: 7.0914\n",
            "Epoch 118/500\n",
            "2/2 [==============================] - 0s 23ms/step - loss: 1.0341 - mean_squared_error: 1.0341 - val_loss: 7.0522 - val_mean_squared_error: 7.0522\n",
            "Epoch 119/500\n",
            "2/2 [==============================] - 0s 22ms/step - loss: 1.0084 - mean_squared_error: 1.0084 - val_loss: 6.9986 - val_mean_squared_error: 6.9986\n",
            "Epoch 120/500\n",
            "2/2 [==============================] - 0s 22ms/step - loss: 0.9811 - mean_squared_error: 0.9811 - val_loss: 6.9625 - val_mean_squared_error: 6.9625\n",
            "Epoch 121/500\n",
            "2/2 [==============================] - 0s 22ms/step - loss: 0.9596 - mean_squared_error: 0.9596 - val_loss: 6.9574 - val_mean_squared_error: 6.9574\n",
            "Epoch 122/500\n",
            "2/2 [==============================] - 0s 21ms/step - loss: 0.9331 - mean_squared_error: 0.9331 - val_loss: 6.9482 - val_mean_squared_error: 6.9482\n",
            "Epoch 123/500\n",
            "2/2 [==============================] - 0s 22ms/step - loss: 0.8947 - mean_squared_error: 0.8947 - val_loss: 6.9387 - val_mean_squared_error: 6.9387\n",
            "Epoch 124/500\n",
            "2/2 [==============================] - 0s 22ms/step - loss: 0.8786 - mean_squared_error: 0.8786 - val_loss: 6.9177 - val_mean_squared_error: 6.9177\n",
            "Epoch 125/500\n",
            "2/2 [==============================] - 0s 20ms/step - loss: 0.8481 - mean_squared_error: 0.8481 - val_loss: 6.8917 - val_mean_squared_error: 6.8917\n",
            "Epoch 126/500\n",
            "2/2 [==============================] - 0s 22ms/step - loss: 0.8225 - mean_squared_error: 0.8225 - val_loss: 6.8632 - val_mean_squared_error: 6.8632\n",
            "Epoch 127/500\n",
            "2/2 [==============================] - 0s 31ms/step - loss: 0.7908 - mean_squared_error: 0.7908 - val_loss: 6.8210 - val_mean_squared_error: 6.8210\n",
            "Epoch 128/500\n",
            "2/2 [==============================] - 0s 24ms/step - loss: 0.7650 - mean_squared_error: 0.7650 - val_loss: 6.7771 - val_mean_squared_error: 6.7771\n",
            "Epoch 129/500\n",
            "2/2 [==============================] - 0s 24ms/step - loss: 0.7462 - mean_squared_error: 0.7462 - val_loss: 6.7522 - val_mean_squared_error: 6.7522\n",
            "Epoch 130/500\n",
            "2/2 [==============================] - 0s 23ms/step - loss: 0.7250 - mean_squared_error: 0.7250 - val_loss: 6.7554 - val_mean_squared_error: 6.7554\n",
            "Epoch 131/500\n",
            "2/2 [==============================] - 0s 24ms/step - loss: 0.6987 - mean_squared_error: 0.6987 - val_loss: 6.7608 - val_mean_squared_error: 6.7608\n",
            "Epoch 132/500\n",
            "2/2 [==============================] - 0s 22ms/step - loss: 0.6803 - mean_squared_error: 0.6803 - val_loss: 6.7736 - val_mean_squared_error: 6.7736\n",
            "Epoch 133/500\n",
            "2/2 [==============================] - 0s 23ms/step - loss: 0.6598 - mean_squared_error: 0.6598 - val_loss: 6.7699 - val_mean_squared_error: 6.7699\n",
            "Epoch 134/500\n",
            "2/2 [==============================] - 0s 23ms/step - loss: 0.6423 - mean_squared_error: 0.6423 - val_loss: 6.7370 - val_mean_squared_error: 6.7370\n",
            "Epoch 135/500\n",
            "2/2 [==============================] - 0s 23ms/step - loss: 0.6263 - mean_squared_error: 0.6263 - val_loss: 6.7144 - val_mean_squared_error: 6.7144\n",
            "Epoch 136/500\n",
            "2/2 [==============================] - 0s 24ms/step - loss: 0.6067 - mean_squared_error: 0.6067 - val_loss: 6.6804 - val_mean_squared_error: 6.6804\n",
            "Epoch 137/500\n",
            "2/2 [==============================] - 0s 26ms/step - loss: 0.5851 - mean_squared_error: 0.5851 - val_loss: 6.6501 - val_mean_squared_error: 6.6501\n",
            "Epoch 138/500\n",
            "2/2 [==============================] - 0s 24ms/step - loss: 0.5731 - mean_squared_error: 0.5731 - val_loss: 6.6438 - val_mean_squared_error: 6.6438\n",
            "Epoch 139/500\n",
            "2/2 [==============================] - 0s 24ms/step - loss: 0.5498 - mean_squared_error: 0.5498 - val_loss: 6.6247 - val_mean_squared_error: 6.6247\n",
            "Epoch 140/500\n",
            "2/2 [==============================] - 0s 27ms/step - loss: 0.5351 - mean_squared_error: 0.5351 - val_loss: 6.5952 - val_mean_squared_error: 6.5952\n",
            "Epoch 141/500\n",
            "2/2 [==============================] - 0s 22ms/step - loss: 0.5176 - mean_squared_error: 0.5176 - val_loss: 6.5882 - val_mean_squared_error: 6.5882\n",
            "Epoch 142/500\n",
            "2/2 [==============================] - 0s 22ms/step - loss: 0.5007 - mean_squared_error: 0.5007 - val_loss: 6.5907 - val_mean_squared_error: 6.5907\n",
            "Epoch 143/500\n",
            "2/2 [==============================] - 0s 24ms/step - loss: 0.4860 - mean_squared_error: 0.4860 - val_loss: 6.5919 - val_mean_squared_error: 6.5919\n",
            "Epoch 144/500\n",
            "2/2 [==============================] - 0s 25ms/step - loss: 0.4717 - mean_squared_error: 0.4717 - val_loss: 6.5920 - val_mean_squared_error: 6.5920\n",
            "Epoch 145/500\n",
            "2/2 [==============================] - 0s 27ms/step - loss: 0.4608 - mean_squared_error: 0.4608 - val_loss: 6.5971 - val_mean_squared_error: 6.5971\n",
            "Epoch 146/500\n",
            "2/2 [==============================] - 0s 26ms/step - loss: 0.4416 - mean_squared_error: 0.4416 - val_loss: 6.6082 - val_mean_squared_error: 6.6082\n",
            "Epoch 147/500\n",
            "2/2 [==============================] - 0s 32ms/step - loss: 0.4277 - mean_squared_error: 0.4277 - val_loss: 6.6238 - val_mean_squared_error: 6.6238\n",
            "Epoch 148/500\n",
            "2/2 [==============================] - 0s 23ms/step - loss: 0.4170 - mean_squared_error: 0.4170 - val_loss: 6.6383 - val_mean_squared_error: 6.6383\n",
            "Epoch 149/500\n",
            "2/2 [==============================] - 0s 27ms/step - loss: 0.4024 - mean_squared_error: 0.4024 - val_loss: 6.6286 - val_mean_squared_error: 6.6286\n",
            "Epoch 150/500\n",
            "2/2 [==============================] - 0s 23ms/step - loss: 0.3893 - mean_squared_error: 0.3893 - val_loss: 6.6089 - val_mean_squared_error: 6.6089\n",
            "Epoch 151/500\n",
            "2/2 [==============================] - 0s 26ms/step - loss: 0.3811 - mean_squared_error: 0.3811 - val_loss: 6.5986 - val_mean_squared_error: 6.5986\n",
            "Epoch 152/500\n",
            "2/2 [==============================] - 0s 23ms/step - loss: 0.3765 - mean_squared_error: 0.3765 - val_loss: 6.5994 - val_mean_squared_error: 6.5994\n",
            "Epoch 153/500\n",
            "2/2 [==============================] - 0s 26ms/step - loss: 0.3720 - mean_squared_error: 0.3720 - val_loss: 6.6082 - val_mean_squared_error: 6.6082\n",
            "Epoch 154/500\n",
            "2/2 [==============================] - 0s 24ms/step - loss: 0.3432 - mean_squared_error: 0.3432 - val_loss: 6.5989 - val_mean_squared_error: 6.5989\n",
            "Epoch 155/500\n",
            "2/2 [==============================] - 0s 23ms/step - loss: 0.3311 - mean_squared_error: 0.3311 - val_loss: 6.5925 - val_mean_squared_error: 6.5925\n",
            "Epoch 156/500\n",
            "2/2 [==============================] - 0s 45ms/step - loss: 0.3230 - mean_squared_error: 0.3230 - val_loss: 6.5802 - val_mean_squared_error: 6.5802\n",
            "Epoch 157/500\n",
            "2/2 [==============================] - 0s 27ms/step - loss: 0.3124 - mean_squared_error: 0.3124 - val_loss: 6.5726 - val_mean_squared_error: 6.5726\n",
            "Epoch 158/500\n",
            "2/2 [==============================] - 0s 26ms/step - loss: 0.3048 - mean_squared_error: 0.3048 - val_loss: 6.5700 - val_mean_squared_error: 6.5700\n",
            "Epoch 159/500\n",
            "2/2 [==============================] - 0s 25ms/step - loss: 0.2939 - mean_squared_error: 0.2939 - val_loss: 6.5721 - val_mean_squared_error: 6.5721\n",
            "Epoch 160/500\n",
            "2/2 [==============================] - 0s 24ms/step - loss: 0.2865 - mean_squared_error: 0.2865 - val_loss: 6.5823 - val_mean_squared_error: 6.5823\n",
            "Epoch 161/500\n",
            "2/2 [==============================] - 0s 24ms/step - loss: 0.2776 - mean_squared_error: 0.2776 - val_loss: 6.5913 - val_mean_squared_error: 6.5913\n",
            "Epoch 162/500\n",
            "2/2 [==============================] - 0s 26ms/step - loss: 0.2710 - mean_squared_error: 0.2710 - val_loss: 6.5951 - val_mean_squared_error: 6.5951\n",
            "Epoch 163/500\n",
            "2/2 [==============================] - 0s 25ms/step - loss: 0.2637 - mean_squared_error: 0.2637 - val_loss: 6.5951 - val_mean_squared_error: 6.5951\n",
            "Epoch 164/500\n",
            "2/2 [==============================] - 0s 22ms/step - loss: 0.2582 - mean_squared_error: 0.2582 - val_loss: 6.5797 - val_mean_squared_error: 6.5797\n",
            "Epoch 165/500\n",
            "2/2 [==============================] - 0s 28ms/step - loss: 0.2561 - mean_squared_error: 0.2561 - val_loss: 6.5657 - val_mean_squared_error: 6.5657\n",
            "Epoch 166/500\n",
            "2/2 [==============================] - 0s 22ms/step - loss: 0.2479 - mean_squared_error: 0.2479 - val_loss: 6.5674 - val_mean_squared_error: 6.5674\n",
            "Epoch 167/500\n",
            "2/2 [==============================] - 0s 27ms/step - loss: 0.2358 - mean_squared_error: 0.2358 - val_loss: 6.5878 - val_mean_squared_error: 6.5878\n",
            "Epoch 168/500\n",
            "2/2 [==============================] - 0s 23ms/step - loss: 0.2327 - mean_squared_error: 0.2327 - val_loss: 6.6001 - val_mean_squared_error: 6.6001\n",
            "Epoch 169/500\n",
            "2/2 [==============================] - 0s 23ms/step - loss: 0.2246 - mean_squared_error: 0.2246 - val_loss: 6.6000 - val_mean_squared_error: 6.6000\n",
            "Epoch 170/500\n",
            "2/2 [==============================] - 0s 28ms/step - loss: 0.2176 - mean_squared_error: 0.2176 - val_loss: 6.5928 - val_mean_squared_error: 6.5928\n",
            "Epoch 171/500\n",
            "2/2 [==============================] - 0s 22ms/step - loss: 0.2134 - mean_squared_error: 0.2134 - val_loss: 6.5889 - val_mean_squared_error: 6.5889\n",
            "Epoch 172/500\n",
            "2/2 [==============================] - 0s 20ms/step - loss: 0.2036 - mean_squared_error: 0.2036 - val_loss: 6.5934 - val_mean_squared_error: 6.5934\n",
            "Epoch 173/500\n",
            "2/2 [==============================] - 0s 25ms/step - loss: 0.1984 - mean_squared_error: 0.1984 - val_loss: 6.6144 - val_mean_squared_error: 6.6144\n",
            "Epoch 174/500\n",
            "2/2 [==============================] - 0s 24ms/step - loss: 0.1933 - mean_squared_error: 0.1933 - val_loss: 6.6437 - val_mean_squared_error: 6.6437\n",
            "Epoch 175/500\n",
            "2/2 [==============================] - 0s 24ms/step - loss: 0.1872 - mean_squared_error: 0.1872 - val_loss: 6.6618 - val_mean_squared_error: 6.6618\n",
            "Epoch 176/500\n",
            "2/2 [==============================] - 0s 24ms/step - loss: 0.1920 - mean_squared_error: 0.1920 - val_loss: 6.6772 - val_mean_squared_error: 6.6772\n",
            "Epoch 177/500\n",
            "2/2 [==============================] - 0s 24ms/step - loss: 0.1854 - mean_squared_error: 0.1854 - val_loss: 6.6752 - val_mean_squared_error: 6.6752\n",
            "Epoch 178/500\n",
            "2/2 [==============================] - 0s 23ms/step - loss: 0.1766 - mean_squared_error: 0.1766 - val_loss: 6.6619 - val_mean_squared_error: 6.6619\n",
            "Epoch 179/500\n",
            "2/2 [==============================] - 0s 24ms/step - loss: 0.1691 - mean_squared_error: 0.1691 - val_loss: 6.6717 - val_mean_squared_error: 6.6717\n",
            "Epoch 180/500\n",
            "2/2 [==============================] - 0s 24ms/step - loss: 0.1661 - mean_squared_error: 0.1661 - val_loss: 6.6795 - val_mean_squared_error: 6.6795\n",
            "Epoch 181/500\n",
            "2/2 [==============================] - 0s 25ms/step - loss: 0.1587 - mean_squared_error: 0.1587 - val_loss: 6.6876 - val_mean_squared_error: 6.6876\n",
            "Epoch 182/500\n",
            "2/2 [==============================] - 0s 25ms/step - loss: 0.1548 - mean_squared_error: 0.1548 - val_loss: 6.6991 - val_mean_squared_error: 6.6991\n",
            "Epoch 183/500\n",
            "2/2 [==============================] - 0s 23ms/step - loss: 0.1490 - mean_squared_error: 0.1490 - val_loss: 6.7013 - val_mean_squared_error: 6.7013\n",
            "Epoch 184/500\n",
            "2/2 [==============================] - 0s 23ms/step - loss: 0.1461 - mean_squared_error: 0.1461 - val_loss: 6.6956 - val_mean_squared_error: 6.6956\n",
            "Epoch 185/500\n",
            "2/2 [==============================] - 0s 31ms/step - loss: 0.1422 - mean_squared_error: 0.1422 - val_loss: 6.6959 - val_mean_squared_error: 6.6959\n"
          ]
        },
        {
          "output_type": "execute_result",
          "data": {
            "text/plain": [
              "<keras.callbacks.History at 0x7ffb04852bd0>"
            ]
          },
          "metadata": {},
          "execution_count": 19
        }
      ]
    },
    {
      "cell_type": "markdown",
      "source": [
        "Predikció a következő évi átlaghőmérsékletre"
      ],
      "metadata": {
        "id": "ISm9lVhP5mTK"
      }
    },
    {
      "cell_type": "code",
      "source": [
        "pred1=model.predict(x_test_e[:1])\n",
        "pred1"
      ],
      "metadata": {
        "colab": {
          "base_uri": "https://localhost:8080/"
        },
        "id": "cjWweE8k5gqI",
        "outputId": "424e1d19-7a1b-4cb1-e818-76b1ae24ada0"
      },
      "execution_count": 20,
      "outputs": [
        {
          "output_type": "execute_result",
          "data": {
            "text/plain": [
              "array([[8.549767]], dtype=float32)"
            ]
          },
          "metadata": {},
          "execution_count": 20
        }
      ]
    },
    {
      "cell_type": "code",
      "source": [
        "ev['avgtempC'].iloc[-1]"
      ],
      "metadata": {
        "colab": {
          "base_uri": "https://localhost:8080/"
        },
        "id": "MDuY8SiT5t6X",
        "outputId": "58ab020f-348a-4ed7-caff-bdc03d2935f0"
      },
      "execution_count": 27,
      "outputs": [
        {
          "output_type": "execute_result",
          "data": {
            "text/plain": [
              "8"
            ]
          },
          "metadata": {},
          "execution_count": 27
        }
      ]
    },
    {
      "cell_type": "markdown",
      "source": [
        "😎"
      ],
      "metadata": {
        "id": "8fV5eK4j6vwY"
      }
    },
    {
      "cell_type": "markdown",
      "source": [
        "##Egy nap becslése"
      ],
      "metadata": {
        "id": "zuT232XI7lKY"
      }
    },
    {
      "cell_type": "code",
      "source": [
        "napos=files.upload()"
      ],
      "metadata": {
        "colab": {
          "resources": {
            "http://localhost:8080/nbextensions/google.colab/files.js": {
              "data": "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",
              "ok": true,
              "headers": [
                [
                  "content-type",
                  "application/javascript"
                ]
              ],
              "status": 200,
              "status_text": ""
            }
          },
          "base_uri": "https://localhost:8080/",
          "height": 74
        },
        "id": "9BRttxMO7m9d",
        "outputId": "56efe6fe-e7ef-4c0c-d9d7-b04e6ce233ca"
      },
      "execution_count": 46,
      "outputs": [
        {
          "output_type": "display_data",
          "data": {
            "text/html": [
              "\n",
              "     <input type=\"file\" id=\"files-4808c441-393b-4ea9-933d-8f479c2a9029\" name=\"files[]\" multiple disabled\n",
              "        style=\"border:none\" />\n",
              "     <output id=\"result-4808c441-393b-4ea9-933d-8f479c2a9029\">\n",
              "      Upload widget is only available when the cell has been executed in the\n",
              "      current browser session. Please rerun this cell to enable.\n",
              "      </output>\n",
              "      <script src=\"/nbextensions/google.colab/files.js\"></script> "
            ],
            "text/plain": [
              "<IPython.core.display.HTML object>"
            ]
          },
          "metadata": {}
        },
        {
          "output_type": "stream",
          "name": "stdout",
          "text": [
            "Saving nap.csv to nap.csv\n"
          ]
        }
      ]
    },
    {
      "cell_type": "code",
      "source": [
        "nap=pd.read_csv('nap.csv')"
      ],
      "metadata": {
        "id": "bq3CDC1e7xP0"
      },
      "execution_count": 47,
      "outputs": []
    },
    {
      "cell_type": "code",
      "source": [
        "print(nap.columns)"
      ],
      "metadata": {
        "colab": {
          "base_uri": "https://localhost:8080/"
        },
        "id": "fXblJGKI75ef",
        "outputId": "c9dc0493-fad4-465e-ef2f-4d39759c5f08"
      },
      "execution_count": 48,
      "outputs": [
        {
          "output_type": "stream",
          "name": "stdout",
          "text": [
            "Index(['loc_id', 'date', 'maxtempC', 'maxtempF', 'mintempC', 'mintempF',\n",
            "       'avgtempC', 'avgtempF', 'totalprecipMM', 'totalprecipIn',\n",
            "       'windspeedMiles', 'windspeedKmph', 'sunhour', 'winddirdegree',\n",
            "       'winddir16point', 'weatherCode', 'weatherIconUrl', 'weatherDesc',\n",
            "       'humidity', 'visibilityKm', 'visibilityMiles', 'pressureMB',\n",
            "       'pressureInches', 'cloudcover', 'HeatIndexC', 'HeatIndexF', 'DewPointC',\n",
            "       'DewPointF', 'WindChillC', 'WindChillF', 'WindGustMiles',\n",
            "       'WindGustKmph', 'FeelsLikeC', 'FeelsLikeF', 'sunrise', 'sunset',\n",
            "       'moonrise', 'moonset'],\n",
            "      dtype='object')\n"
          ]
        }
      ]
    },
    {
      "cell_type": "code",
      "source": [
        "nap=nap.drop(columns=['loc_id','date','maxtempF','mintempF','avgtempF','totalprecipIn','windspeedMiles','winddir16point','weatherIconUrl','weatherDesc',\n",
        "                      'visibilityMiles','pressureInches','HeatIndexF','DewPointF','WindChillF','WindGustMiles','FeelsLikeF'])"
      ],
      "metadata": {
        "id": "Yv42G5cB77bL"
      },
      "execution_count": 49,
      "outputs": []
    },
    {
      "cell_type": "code",
      "source": [
        "nap.head()"
      ],
      "metadata": {
        "colab": {
          "base_uri": "https://localhost:8080/",
          "height": 386
        },
        "id": "7SEXPYj28lX9",
        "outputId": "9b92c2f9-285e-497f-ceb8-09fca43a9683"
      },
      "execution_count": 50,
      "outputs": [
        {
          "output_type": "execute_result",
          "data": {
            "text/html": [
              "\n",
              "  <div id=\"df-ed1385b9-e85f-45c4-af5f-c4b5b84bffbf\">\n",
              "    <div class=\"colab-df-container\">\n",
              "      <div>\n",
              "<style scoped>\n",
              "    .dataframe tbody tr th:only-of-type {\n",
              "        vertical-align: middle;\n",
              "    }\n",
              "\n",
              "    .dataframe tbody tr th {\n",
              "        vertical-align: top;\n",
              "    }\n",
              "\n",
              "    .dataframe thead th {\n",
              "        text-align: right;\n",
              "    }\n",
              "</style>\n",
              "<table border=\"1\" class=\"dataframe\">\n",
              "  <thead>\n",
              "    <tr style=\"text-align: right;\">\n",
              "      <th></th>\n",
              "      <th>maxtempC</th>\n",
              "      <th>mintempC</th>\n",
              "      <th>avgtempC</th>\n",
              "      <th>totalprecipMM</th>\n",
              "      <th>windspeedKmph</th>\n",
              "      <th>sunhour</th>\n",
              "      <th>winddirdegree</th>\n",
              "      <th>weatherCode</th>\n",
              "      <th>humidity</th>\n",
              "      <th>visibilityKm</th>\n",
              "      <th>...</th>\n",
              "      <th>cloudcover</th>\n",
              "      <th>HeatIndexC</th>\n",
              "      <th>DewPointC</th>\n",
              "      <th>WindChillC</th>\n",
              "      <th>WindGustKmph</th>\n",
              "      <th>FeelsLikeC</th>\n",
              "      <th>sunrise</th>\n",
              "      <th>sunset</th>\n",
              "      <th>moonrise</th>\n",
              "      <th>moonset</th>\n",
              "    </tr>\n",
              "  </thead>\n",
              "  <tbody>\n",
              "    <tr>\n",
              "      <th>0</th>\n",
              "      <td>26</td>\n",
              "      <td>15</td>\n",
              "      <td>22</td>\n",
              "      <td>0.0</td>\n",
              "      <td>10</td>\n",
              "      <td>8.7</td>\n",
              "      <td>200</td>\n",
              "      <td>116</td>\n",
              "      <td>61</td>\n",
              "      <td>10</td>\n",
              "      <td>...</td>\n",
              "      <td>7</td>\n",
              "      <td>21</td>\n",
              "      <td>12</td>\n",
              "      <td>21</td>\n",
              "      <td>12</td>\n",
              "      <td>21</td>\n",
              "      <td>03:49 AM</td>\n",
              "      <td>08:08 PM</td>\n",
              "      <td>03:12 AM</td>\n",
              "      <td>05:45 PM</td>\n",
              "    </tr>\n",
              "    <tr>\n",
              "      <th>1</th>\n",
              "      <td>24</td>\n",
              "      <td>17</td>\n",
              "      <td>22</td>\n",
              "      <td>0.5</td>\n",
              "      <td>19</td>\n",
              "      <td>3.3</td>\n",
              "      <td>215</td>\n",
              "      <td>122</td>\n",
              "      <td>66</td>\n",
              "      <td>9</td>\n",
              "      <td>...</td>\n",
              "      <td>61</td>\n",
              "      <td>21</td>\n",
              "      <td>13</td>\n",
              "      <td>20</td>\n",
              "      <td>23</td>\n",
              "      <td>20</td>\n",
              "      <td>03:49 AM</td>\n",
              "      <td>08:09 PM</td>\n",
              "      <td>03:37 AM</td>\n",
              "      <td>06:59 PM</td>\n",
              "    </tr>\n",
              "    <tr>\n",
              "      <th>2</th>\n",
              "      <td>20</td>\n",
              "      <td>14</td>\n",
              "      <td>18</td>\n",
              "      <td>0.5</td>\n",
              "      <td>17</td>\n",
              "      <td>5.1</td>\n",
              "      <td>235</td>\n",
              "      <td>353</td>\n",
              "      <td>57</td>\n",
              "      <td>10</td>\n",
              "      <td>...</td>\n",
              "      <td>42</td>\n",
              "      <td>17</td>\n",
              "      <td>8</td>\n",
              "      <td>16</td>\n",
              "      <td>20</td>\n",
              "      <td>16</td>\n",
              "      <td>03:48 AM</td>\n",
              "      <td>08:10 PM</td>\n",
              "      <td>04:08 AM</td>\n",
              "      <td>08:13 PM</td>\n",
              "    </tr>\n",
              "    <tr>\n",
              "      <th>3</th>\n",
              "      <td>17</td>\n",
              "      <td>14</td>\n",
              "      <td>16</td>\n",
              "      <td>10.7</td>\n",
              "      <td>12</td>\n",
              "      <td>5.1</td>\n",
              "      <td>164</td>\n",
              "      <td>353</td>\n",
              "      <td>71</td>\n",
              "      <td>9</td>\n",
              "      <td>...</td>\n",
              "      <td>54</td>\n",
              "      <td>16</td>\n",
              "      <td>10</td>\n",
              "      <td>16</td>\n",
              "      <td>14</td>\n",
              "      <td>16</td>\n",
              "      <td>03:47 AM</td>\n",
              "      <td>08:11 PM</td>\n",
              "      <td>04:47 AM</td>\n",
              "      <td>09:23 PM</td>\n",
              "    </tr>\n",
              "    <tr>\n",
              "      <th>4</th>\n",
              "      <td>19</td>\n",
              "      <td>13</td>\n",
              "      <td>17</td>\n",
              "      <td>0.1</td>\n",
              "      <td>13</td>\n",
              "      <td>6.9</td>\n",
              "      <td>236</td>\n",
              "      <td>122</td>\n",
              "      <td>64</td>\n",
              "      <td>10</td>\n",
              "      <td>...</td>\n",
              "      <td>65</td>\n",
              "      <td>16</td>\n",
              "      <td>9</td>\n",
              "      <td>15</td>\n",
              "      <td>17</td>\n",
              "      <td>15</td>\n",
              "      <td>03:47 AM</td>\n",
              "      <td>08:12 PM</td>\n",
              "      <td>05:38 AM</td>\n",
              "      <td>10:23 PM</td>\n",
              "    </tr>\n",
              "  </tbody>\n",
              "</table>\n",
              "<p>5 rows × 21 columns</p>\n",
              "</div>\n",
              "      <button class=\"colab-df-convert\" onclick=\"convertToInteractive('df-ed1385b9-e85f-45c4-af5f-c4b5b84bffbf')\"\n",
              "              title=\"Convert this dataframe to an interactive table.\"\n",
              "              style=\"display:none;\">\n",
              "        \n",
              "  <svg xmlns=\"http://www.w3.org/2000/svg\" height=\"24px\"viewBox=\"0 0 24 24\"\n",
              "       width=\"24px\">\n",
              "    <path d=\"M0 0h24v24H0V0z\" fill=\"none\"/>\n",
              "    <path d=\"M18.56 5.44l.94 2.06.94-2.06 2.06-.94-2.06-.94-.94-2.06-.94 2.06-2.06.94zm-11 1L8.5 8.5l.94-2.06 2.06-.94-2.06-.94L8.5 2.5l-.94 2.06-2.06.94zm10 10l.94 2.06.94-2.06 2.06-.94-2.06-.94-.94-2.06-.94 2.06-2.06.94z\"/><path d=\"M17.41 7.96l-1.37-1.37c-.4-.4-.92-.59-1.43-.59-.52 0-1.04.2-1.43.59L10.3 9.45l-7.72 7.72c-.78.78-.78 2.05 0 2.83L4 21.41c.39.39.9.59 1.41.59.51 0 1.02-.2 1.41-.59l7.78-7.78 2.81-2.81c.8-.78.8-2.07 0-2.86zM5.41 20L4 18.59l7.72-7.72 1.47 1.35L5.41 20z\"/>\n",
              "  </svg>\n",
              "      </button>\n",
              "      \n",
              "  <style>\n",
              "    .colab-df-container {\n",
              "      display:flex;\n",
              "      flex-wrap:wrap;\n",
              "      gap: 12px;\n",
              "    }\n",
              "\n",
              "    .colab-df-convert {\n",
              "      background-color: #E8F0FE;\n",
              "      border: none;\n",
              "      border-radius: 50%;\n",
              "      cursor: pointer;\n",
              "      display: none;\n",
              "      fill: #1967D2;\n",
              "      height: 32px;\n",
              "      padding: 0 0 0 0;\n",
              "      width: 32px;\n",
              "    }\n",
              "\n",
              "    .colab-df-convert:hover {\n",
              "      background-color: #E2EBFA;\n",
              "      box-shadow: 0px 1px 2px rgba(60, 64, 67, 0.3), 0px 1px 3px 1px rgba(60, 64, 67, 0.15);\n",
              "      fill: #174EA6;\n",
              "    }\n",
              "\n",
              "    [theme=dark] .colab-df-convert {\n",
              "      background-color: #3B4455;\n",
              "      fill: #D2E3FC;\n",
              "    }\n",
              "\n",
              "    [theme=dark] .colab-df-convert:hover {\n",
              "      background-color: #434B5C;\n",
              "      box-shadow: 0px 1px 3px 1px rgba(0, 0, 0, 0.15);\n",
              "      filter: drop-shadow(0px 1px 2px rgba(0, 0, 0, 0.3));\n",
              "      fill: #FFFFFF;\n",
              "    }\n",
              "  </style>\n",
              "\n",
              "      <script>\n",
              "        const buttonEl =\n",
              "          document.querySelector('#df-ed1385b9-e85f-45c4-af5f-c4b5b84bffbf button.colab-df-convert');\n",
              "        buttonEl.style.display =\n",
              "          google.colab.kernel.accessAllowed ? 'block' : 'none';\n",
              "\n",
              "        async function convertToInteractive(key) {\n",
              "          const element = document.querySelector('#df-ed1385b9-e85f-45c4-af5f-c4b5b84bffbf');\n",
              "          const dataTable =\n",
              "            await google.colab.kernel.invokeFunction('convertToInteractive',\n",
              "                                                     [key], {});\n",
              "          if (!dataTable) return;\n",
              "\n",
              "          const docLinkHtml = 'Like what you see? Visit the ' +\n",
              "            '<a target=\"_blank\" href=https://colab.research.google.com/notebooks/data_table.ipynb>data table notebook</a>'\n",
              "            + ' to learn more about interactive tables.';\n",
              "          element.innerHTML = '';\n",
              "          dataTable['output_type'] = 'display_data';\n",
              "          await google.colab.output.renderOutput(dataTable, element);\n",
              "          const docLink = document.createElement('div');\n",
              "          docLink.innerHTML = docLinkHtml;\n",
              "          element.appendChild(docLink);\n",
              "        }\n",
              "      </script>\n",
              "    </div>\n",
              "  </div>\n",
              "  "
            ],
            "text/plain": [
              "   maxtempC  mintempC  avgtempC  totalprecipMM  windspeedKmph  sunhour  \\\n",
              "0        26        15        22            0.0             10      8.7   \n",
              "1        24        17        22            0.5             19      3.3   \n",
              "2        20        14        18            0.5             17      5.1   \n",
              "3        17        14        16           10.7             12      5.1   \n",
              "4        19        13        17            0.1             13      6.9   \n",
              "\n",
              "   winddirdegree  weatherCode  humidity  visibilityKm  ...  cloudcover  \\\n",
              "0            200          116        61            10  ...           7   \n",
              "1            215          122        66             9  ...          61   \n",
              "2            235          353        57            10  ...          42   \n",
              "3            164          353        71             9  ...          54   \n",
              "4            236          122        64            10  ...          65   \n",
              "\n",
              "   HeatIndexC  DewPointC  WindChillC  WindGustKmph  FeelsLikeC   sunrise  \\\n",
              "0          21         12          21            12          21  03:49 AM   \n",
              "1          21         13          20            23          20  03:49 AM   \n",
              "2          17          8          16            20          16  03:48 AM   \n",
              "3          16         10          16            14          16  03:47 AM   \n",
              "4          16          9          15            17          15  03:47 AM   \n",
              "\n",
              "     sunset  moonrise   moonset  \n",
              "0  08:08 PM  03:12 AM  05:45 PM  \n",
              "1  08:09 PM  03:37 AM  06:59 PM  \n",
              "2  08:10 PM  04:08 AM  08:13 PM  \n",
              "3  08:11 PM  04:47 AM  09:23 PM  \n",
              "4  08:12 PM  05:38 AM  10:23 PM  \n",
              "\n",
              "[5 rows x 21 columns]"
            ]
          },
          "metadata": {},
          "execution_count": 50
        }
      ]
    },
    {
      "cell_type": "code",
      "source": [
        "y_nap=nap['avgtempC'].copy()\n",
        "y_nap=y_nap.drop(0, axis=0)\n",
        "y_nap.shape"
      ],
      "metadata": {
        "colab": {
          "base_uri": "https://localhost:8080/"
        },
        "id": "xZBMt2EE8opi",
        "outputId": "5e364e3f-78bd-40ac-f5fb-bc5f7564feb8"
      },
      "execution_count": 51,
      "outputs": [
        {
          "output_type": "execute_result",
          "data": {
            "text/plain": [
              "(60,)"
            ]
          },
          "metadata": {},
          "execution_count": 51
        }
      ]
    },
    {
      "cell_type": "code",
      "source": [
        "x_nap=nap.copy().drop('avgtempC',axis=1)\n",
        "x_nap=x_nap.drop(axis=0,index=(x_nap.shape[0]-1))\n",
        "x_nap.shape"
      ],
      "metadata": {
        "colab": {
          "base_uri": "https://localhost:8080/"
        },
        "id": "YXbMXSUM8z4C",
        "outputId": "8449f42f-8350-436e-f644-736375db6b7d"
      },
      "execution_count": 52,
      "outputs": [
        {
          "output_type": "execute_result",
          "data": {
            "text/plain": [
              "(60, 20)"
            ]
          },
          "metadata": {},
          "execution_count": 52
        }
      ]
    },
    {
      "cell_type": "markdown",
      "source": [
        "Nagyon kevés megfigyelés, nagyon sok változó, valószínűleg nem érdemes folytatni a modellezést"
      ],
      "metadata": {
        "id": "BGNAsuPU9Agx"
      }
    },
    {
      "cell_type": "markdown",
      "source": [
        "##Egy óra becslése"
      ],
      "metadata": {
        "id": "syoMXF-uZ1uk"
      }
    },
    {
      "cell_type": "code",
      "source": [
        "oras=files.upload()"
      ],
      "metadata": {
        "colab": {
          "resources": {
            "http://localhost:8080/nbextensions/google.colab/files.js": {
              "data": "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",
              "ok": true,
              "headers": [
                [
                  "content-type",
                  "application/javascript"
                ]
              ],
              "status": 200,
              "status_text": ""
            }
          },
          "base_uri": "https://localhost:8080/",
          "height": 74
        },
        "id": "MQpk5RU0R68c",
        "outputId": "e3fcc535-bae6-4b88-9129-1ade2afaf0de"
      },
      "execution_count": 29,
      "outputs": [
        {
          "output_type": "display_data",
          "data": {
            "text/html": [
              "\n",
              "     <input type=\"file\" id=\"files-9799f070-571b-45f0-be90-622ad000a484\" name=\"files[]\" multiple disabled\n",
              "        style=\"border:none\" />\n",
              "     <output id=\"result-9799f070-571b-45f0-be90-622ad000a484\">\n",
              "      Upload widget is only available when the cell has been executed in the\n",
              "      current browser session. Please rerun this cell to enable.\n",
              "      </output>\n",
              "      <script src=\"/nbextensions/google.colab/files.js\"></script> "
            ],
            "text/plain": [
              "<IPython.core.display.HTML object>"
            ]
          },
          "metadata": {}
        },
        {
          "output_type": "stream",
          "name": "stdout",
          "text": [
            "Saving ora.csv to ora.csv\n"
          ]
        }
      ]
    },
    {
      "cell_type": "code",
      "source": [
        "ora=pd.read_csv('ora.csv')"
      ],
      "metadata": {
        "id": "w_kJv5QvSCq4"
      },
      "execution_count": 30,
      "outputs": []
    },
    {
      "cell_type": "code",
      "source": [
        "ora.head()"
      ],
      "metadata": {
        "colab": {
          "base_uri": "https://localhost:8080/",
          "height": 386
        },
        "id": "Z1ntHmq4SGA0",
        "outputId": "545f150a-df78-4bfa-c7d8-e64c0dbb615c"
      },
      "execution_count": 10,
      "outputs": [
        {
          "output_type": "execute_result",
          "data": {
            "text/html": [
              "\n",
              "  <div id=\"df-fdebded2-7681-46bd-a4ef-0a550d966e99\">\n",
              "    <div class=\"colab-df-container\">\n",
              "      <div>\n",
              "<style scoped>\n",
              "    .dataframe tbody tr th:only-of-type {\n",
              "        vertical-align: middle;\n",
              "    }\n",
              "\n",
              "    .dataframe tbody tr th {\n",
              "        vertical-align: top;\n",
              "    }\n",
              "\n",
              "    .dataframe thead th {\n",
              "        text-align: right;\n",
              "    }\n",
              "</style>\n",
              "<table border=\"1\" class=\"dataframe\">\n",
              "  <thead>\n",
              "    <tr style=\"text-align: right;\">\n",
              "      <th></th>\n",
              "      <th>loc_id</th>\n",
              "      <th>date</th>\n",
              "      <th>time</th>\n",
              "      <th>isdaytime</th>\n",
              "      <th>tempC</th>\n",
              "      <th>tempF</th>\n",
              "      <th>windspeedMiles</th>\n",
              "      <th>windspeedKmph</th>\n",
              "      <th>winddirdegree</th>\n",
              "      <th>winddir16point</th>\n",
              "      <th>...</th>\n",
              "      <th>HeatIndexC</th>\n",
              "      <th>HeatIndexF</th>\n",
              "      <th>DewPointC</th>\n",
              "      <th>DewPointF</th>\n",
              "      <th>WindChillC</th>\n",
              "      <th>WindChillF</th>\n",
              "      <th>WindGustMiles</th>\n",
              "      <th>WindGustKmph</th>\n",
              "      <th>FeelsLikeC</th>\n",
              "      <th>FeelsLikeF</th>\n",
              "    </tr>\n",
              "  </thead>\n",
              "  <tbody>\n",
              "    <tr>\n",
              "      <th>0</th>\n",
              "      <td>1</td>\n",
              "      <td>2019-06-01</td>\n",
              "      <td>0</td>\n",
              "      <td>no</td>\n",
              "      <td>16</td>\n",
              "      <td>61</td>\n",
              "      <td>6</td>\n",
              "      <td>10</td>\n",
              "      <td>228</td>\n",
              "      <td>SW</td>\n",
              "      <td>...</td>\n",
              "      <td>16</td>\n",
              "      <td>61</td>\n",
              "      <td>12</td>\n",
              "      <td>54</td>\n",
              "      <td>16</td>\n",
              "      <td>61</td>\n",
              "      <td>7</td>\n",
              "      <td>12</td>\n",
              "      <td>16</td>\n",
              "      <td>61</td>\n",
              "    </tr>\n",
              "    <tr>\n",
              "      <th>1</th>\n",
              "      <td>1</td>\n",
              "      <td>2019-06-01</td>\n",
              "      <td>100</td>\n",
              "      <td>no</td>\n",
              "      <td>16</td>\n",
              "      <td>60</td>\n",
              "      <td>6</td>\n",
              "      <td>9</td>\n",
              "      <td>230</td>\n",
              "      <td>SW</td>\n",
              "      <td>...</td>\n",
              "      <td>16</td>\n",
              "      <td>60</td>\n",
              "      <td>12</td>\n",
              "      <td>53</td>\n",
              "      <td>16</td>\n",
              "      <td>60</td>\n",
              "      <td>7</td>\n",
              "      <td>11</td>\n",
              "      <td>16</td>\n",
              "      <td>60</td>\n",
              "    </tr>\n",
              "    <tr>\n",
              "      <th>2</th>\n",
              "      <td>1</td>\n",
              "      <td>2019-06-01</td>\n",
              "      <td>200</td>\n",
              "      <td>no</td>\n",
              "      <td>15</td>\n",
              "      <td>59</td>\n",
              "      <td>5</td>\n",
              "      <td>9</td>\n",
              "      <td>233</td>\n",
              "      <td>SW</td>\n",
              "      <td>...</td>\n",
              "      <td>15</td>\n",
              "      <td>59</td>\n",
              "      <td>11</td>\n",
              "      <td>53</td>\n",
              "      <td>15</td>\n",
              "      <td>59</td>\n",
              "      <td>6</td>\n",
              "      <td>10</td>\n",
              "      <td>15</td>\n",
              "      <td>59</td>\n",
              "    </tr>\n",
              "    <tr>\n",
              "      <th>3</th>\n",
              "      <td>1</td>\n",
              "      <td>2019-06-01</td>\n",
              "      <td>300</td>\n",
              "      <td>no</td>\n",
              "      <td>15</td>\n",
              "      <td>58</td>\n",
              "      <td>5</td>\n",
              "      <td>8</td>\n",
              "      <td>235</td>\n",
              "      <td>SW</td>\n",
              "      <td>...</td>\n",
              "      <td>15</td>\n",
              "      <td>58</td>\n",
              "      <td>11</td>\n",
              "      <td>52</td>\n",
              "      <td>14</td>\n",
              "      <td>58</td>\n",
              "      <td>6</td>\n",
              "      <td>9</td>\n",
              "      <td>14</td>\n",
              "      <td>58</td>\n",
              "    </tr>\n",
              "    <tr>\n",
              "      <th>4</th>\n",
              "      <td>1</td>\n",
              "      <td>2019-06-01</td>\n",
              "      <td>400</td>\n",
              "      <td>no</td>\n",
              "      <td>15</td>\n",
              "      <td>59</td>\n",
              "      <td>4</td>\n",
              "      <td>7</td>\n",
              "      <td>229</td>\n",
              "      <td>SW</td>\n",
              "      <td>...</td>\n",
              "      <td>15</td>\n",
              "      <td>59</td>\n",
              "      <td>11</td>\n",
              "      <td>52</td>\n",
              "      <td>15</td>\n",
              "      <td>59</td>\n",
              "      <td>5</td>\n",
              "      <td>8</td>\n",
              "      <td>15</td>\n",
              "      <td>59</td>\n",
              "    </tr>\n",
              "  </tbody>\n",
              "</table>\n",
              "<p>5 rows × 31 columns</p>\n",
              "</div>\n",
              "      <button class=\"colab-df-convert\" onclick=\"convertToInteractive('df-fdebded2-7681-46bd-a4ef-0a550d966e99')\"\n",
              "              title=\"Convert this dataframe to an interactive table.\"\n",
              "              style=\"display:none;\">\n",
              "        \n",
              "  <svg xmlns=\"http://www.w3.org/2000/svg\" height=\"24px\"viewBox=\"0 0 24 24\"\n",
              "       width=\"24px\">\n",
              "    <path d=\"M0 0h24v24H0V0z\" fill=\"none\"/>\n",
              "    <path d=\"M18.56 5.44l.94 2.06.94-2.06 2.06-.94-2.06-.94-.94-2.06-.94 2.06-2.06.94zm-11 1L8.5 8.5l.94-2.06 2.06-.94-2.06-.94L8.5 2.5l-.94 2.06-2.06.94zm10 10l.94 2.06.94-2.06 2.06-.94-2.06-.94-.94-2.06-.94 2.06-2.06.94z\"/><path d=\"M17.41 7.96l-1.37-1.37c-.4-.4-.92-.59-1.43-.59-.52 0-1.04.2-1.43.59L10.3 9.45l-7.72 7.72c-.78.78-.78 2.05 0 2.83L4 21.41c.39.39.9.59 1.41.59.51 0 1.02-.2 1.41-.59l7.78-7.78 2.81-2.81c.8-.78.8-2.07 0-2.86zM5.41 20L4 18.59l7.72-7.72 1.47 1.35L5.41 20z\"/>\n",
              "  </svg>\n",
              "      </button>\n",
              "      \n",
              "  <style>\n",
              "    .colab-df-container {\n",
              "      display:flex;\n",
              "      flex-wrap:wrap;\n",
              "      gap: 12px;\n",
              "    }\n",
              "\n",
              "    .colab-df-convert {\n",
              "      background-color: #E8F0FE;\n",
              "      border: none;\n",
              "      border-radius: 50%;\n",
              "      cursor: pointer;\n",
              "      display: none;\n",
              "      fill: #1967D2;\n",
              "      height: 32px;\n",
              "      padding: 0 0 0 0;\n",
              "      width: 32px;\n",
              "    }\n",
              "\n",
              "    .colab-df-convert:hover {\n",
              "      background-color: #E2EBFA;\n",
              "      box-shadow: 0px 1px 2px rgba(60, 64, 67, 0.3), 0px 1px 3px 1px rgba(60, 64, 67, 0.15);\n",
              "      fill: #174EA6;\n",
              "    }\n",
              "\n",
              "    [theme=dark] .colab-df-convert {\n",
              "      background-color: #3B4455;\n",
              "      fill: #D2E3FC;\n",
              "    }\n",
              "\n",
              "    [theme=dark] .colab-df-convert:hover {\n",
              "      background-color: #434B5C;\n",
              "      box-shadow: 0px 1px 3px 1px rgba(0, 0, 0, 0.15);\n",
              "      filter: drop-shadow(0px 1px 2px rgba(0, 0, 0, 0.3));\n",
              "      fill: #FFFFFF;\n",
              "    }\n",
              "  </style>\n",
              "\n",
              "      <script>\n",
              "        const buttonEl =\n",
              "          document.querySelector('#df-fdebded2-7681-46bd-a4ef-0a550d966e99 button.colab-df-convert');\n",
              "        buttonEl.style.display =\n",
              "          google.colab.kernel.accessAllowed ? 'block' : 'none';\n",
              "\n",
              "        async function convertToInteractive(key) {\n",
              "          const element = document.querySelector('#df-fdebded2-7681-46bd-a4ef-0a550d966e99');\n",
              "          const dataTable =\n",
              "            await google.colab.kernel.invokeFunction('convertToInteractive',\n",
              "                                                     [key], {});\n",
              "          if (!dataTable) return;\n",
              "\n",
              "          const docLinkHtml = 'Like what you see? Visit the ' +\n",
              "            '<a target=\"_blank\" href=https://colab.research.google.com/notebooks/data_table.ipynb>data table notebook</a>'\n",
              "            + ' to learn more about interactive tables.';\n",
              "          element.innerHTML = '';\n",
              "          dataTable['output_type'] = 'display_data';\n",
              "          await google.colab.output.renderOutput(dataTable, element);\n",
              "          const docLink = document.createElement('div');\n",
              "          docLink.innerHTML = docLinkHtml;\n",
              "          element.appendChild(docLink);\n",
              "        }\n",
              "      </script>\n",
              "    </div>\n",
              "  </div>\n",
              "  "
            ],
            "text/plain": [
              "   loc_id        date  time isdaytime  tempC  tempF  windspeedMiles  \\\n",
              "0       1  2019-06-01     0        no     16     61               6   \n",
              "1       1  2019-06-01   100        no     16     60               6   \n",
              "2       1  2019-06-01   200        no     15     59               5   \n",
              "3       1  2019-06-01   300        no     15     58               5   \n",
              "4       1  2019-06-01   400        no     15     59               4   \n",
              "\n",
              "   windspeedKmph  winddirdegree winddir16point  ...  HeatIndexC HeatIndexF  \\\n",
              "0             10            228             SW  ...          16         61   \n",
              "1              9            230             SW  ...          16         60   \n",
              "2              9            233             SW  ...          15         59   \n",
              "3              8            235             SW  ...          15         58   \n",
              "4              7            229             SW  ...          15         59   \n",
              "\n",
              "  DewPointC  DewPointF  WindChillC  WindChillF  WindGustMiles  WindGustKmph  \\\n",
              "0        12         54          16          61              7            12   \n",
              "1        12         53          16          60              7            11   \n",
              "2        11         53          15          59              6            10   \n",
              "3        11         52          14          58              6             9   \n",
              "4        11         52          15          59              5             8   \n",
              "\n",
              "   FeelsLikeC  FeelsLikeF  \n",
              "0          16          61  \n",
              "1          16          60  \n",
              "2          15          59  \n",
              "3          14          58  \n",
              "4          15          59  \n",
              "\n",
              "[5 rows x 31 columns]"
            ]
          },
          "metadata": {},
          "execution_count": 10
        }
      ]
    },
    {
      "cell_type": "code",
      "source": [
        "ora=ora.drop(columns=['loc_id','date','time','isdaytime','tempF','windspeedMiles','winddir16point','weatherIconUrl','precipInches','visibilityMiles','pressureInches','HeatIndexF',\n",
        "             'DewPointF','WindChillF','WindGustMiles','FeelsLikeF'])"
      ],
      "metadata": {
        "id": "sDl5os4uSlg6"
      },
      "execution_count": 31,
      "outputs": []
    },
    {
      "cell_type": "code",
      "source": [
        "labeler = LabelEncoder()"
      ],
      "metadata": {
        "id": "gvXXBTPFSwTz"
      },
      "execution_count": 32,
      "outputs": []
    },
    {
      "cell_type": "code",
      "source": [
        "labeler.fit(ora.weatherDesc)"
      ],
      "metadata": {
        "colab": {
          "base_uri": "https://localhost:8080/"
        },
        "id": "f_xakKasTngX",
        "outputId": "66f33565-5d68-4238-ca75-8da07b425061"
      },
      "execution_count": 33,
      "outputs": [
        {
          "output_type": "execute_result",
          "data": {
            "text/plain": [
              "LabelEncoder()"
            ]
          },
          "metadata": {},
          "execution_count": 33
        }
      ]
    },
    {
      "cell_type": "code",
      "source": [
        "ora.weatherDesc = labeler.transform(ora.weatherDesc)"
      ],
      "metadata": {
        "id": "RL0yARr7Ts2r"
      },
      "execution_count": 34,
      "outputs": []
    },
    {
      "cell_type": "code",
      "source": [
        "y_ora=ora['tempC'].copy()\n",
        "y_ora=y_ora.drop(0, axis=0)\n",
        "y_ora.shape"
      ],
      "metadata": {
        "colab": {
          "base_uri": "https://localhost:8080/"
        },
        "id": "yj3OUHOYUDc2",
        "outputId": "10037efa-aa76-4870-a0e0-acff332642c1"
      },
      "execution_count": 35,
      "outputs": [
        {
          "output_type": "execute_result",
          "data": {
            "text/plain": [
              "(1463,)"
            ]
          },
          "metadata": {},
          "execution_count": 35
        }
      ]
    },
    {
      "cell_type": "code",
      "source": [
        "x_ora=ora.copy().drop('tempC',axis=1)\n",
        "x_ora.head()\n",
        "x_ora=x_ora.drop(axis=0,index=(x_ora.shape[0]-1))\n",
        "x_ora.shape"
      ],
      "metadata": {
        "colab": {
          "base_uri": "https://localhost:8080/"
        },
        "id": "4zsDOkCcUyk1",
        "outputId": "f8be3f04-5d96-47cb-8864-193bd1a0f17d"
      },
      "execution_count": 36,
      "outputs": [
        {
          "output_type": "execute_result",
          "data": {
            "text/plain": [
              "(1463, 14)"
            ]
          },
          "metadata": {},
          "execution_count": 36
        }
      ]
    },
    {
      "cell_type": "code",
      "source": [
        "x_train_o, x_test_o, y_train_o, y_test_o = train_test_split(x_ora, y_ora, test_size=0.1, shuffle=True)"
      ],
      "metadata": {
        "id": "h-o1BJs4VjeF"
      },
      "execution_count": 37,
      "outputs": []
    },
    {
      "cell_type": "code",
      "source": [
        "normalizer.fit(x_train_o)\n",
        "x_train_o=normalizer.transform(x_train_o)\n",
        "pd.DataFrame(x_train_o)\n",
        "x_test_o = normalizer.transform(x_test_o)"
      ],
      "metadata": {
        "id": "HkMw1J1_Vvoc"
      },
      "execution_count": 38,
      "outputs": []
    },
    {
      "cell_type": "code",
      "source": [
        "input = Input(shape=(x_train_o.shape[1]))\n",
        "x= Dense(64, activation='relu')(input)\n",
        "x= Dense(64, activation='relu')(x)\n",
        "x= Dense(64, activation='relu')(x)\n",
        "x= Dense(64, activation='relu')(x)\n",
        "output = Dense(1, activation = 'linear')(x)"
      ],
      "metadata": {
        "id": "4YC_lQV_WMYs"
      },
      "execution_count": 39,
      "outputs": []
    },
    {
      "cell_type": "code",
      "source": [
        "model = keras.Model(input, output)"
      ],
      "metadata": {
        "id": "oqeTq5IeWleA"
      },
      "execution_count": 40,
      "outputs": []
    },
    {
      "cell_type": "code",
      "source": [
        "plot_model(model, show_shapes=True)"
      ],
      "metadata": {
        "colab": {
          "base_uri": "https://localhost:8080/",
          "height": 644
        },
        "id": "_aT6nXT9Wn85",
        "outputId": "1fc5b1f4-d2a2-44f7-83c7-8b6ad9973ec2"
      },
      "execution_count": 67,
      "outputs": [
        {
          "output_type": "execute_result",
          "data": {
            "image/png": "[encoded data removed]",
            "text/plain": [
              "<IPython.core.display.Image object>"
            ]
          },
          "metadata": {},
          "execution_count": 67
        }
      ]
    },
    {
      "cell_type": "code",
      "source": [
        "model.compile(optimizer='adam',\n",
        "              loss='mse',\n",
        "              metrics=['MeanSquaredError'])"
      ],
      "metadata": {
        "id": "lzbjDU5aW00I"
      },
      "execution_count": 41,
      "outputs": []
    },
    {
      "cell_type": "code",
      "source": [
        "early_stopping_callback = EarlyStopping(patience=20, restore_best_weights=True)"
      ],
      "metadata": {
        "id": "zjihGRklW_A4"
      },
      "execution_count": 42,
      "outputs": []
    },
    {
      "cell_type": "code",
      "source": [
        "model.fit(x_train_o, y_train_o, batch_size=64, epochs=500, validation_split=0.1, callbacks=[early_stopping_callback])"
      ],
      "metadata": {
        "colab": {
          "base_uri": "https://localhost:8080/"
        },
        "id": "TCwjehNhXFB-",
        "outputId": "c5432c76-0e7c-4643-d2fa-155c4db4b980"
      },
      "execution_count": 43,
      "outputs": [
        {
          "output_type": "stream",
          "name": "stdout",
          "text": [
            "Epoch 1/500\n",
            "19/19 [==============================] - 1s 9ms/step - loss: 365.6723 - mean_squared_error: 365.6723 - val_loss: 315.7062 - val_mean_squared_error: 315.7062\n",
            "Epoch 2/500\n",
            "19/19 [==============================] - 0s 3ms/step - loss: 233.3223 - mean_squared_error: 233.3223 - val_loss: 77.3391 - val_mean_squared_error: 77.3391\n",
            "Epoch 3/500\n",
            "19/19 [==============================] - 0s 3ms/step - loss: 42.1929 - mean_squared_error: 42.1929 - val_loss: 16.8972 - val_mean_squared_error: 16.8972\n",
            "Epoch 4/500\n",
            "19/19 [==============================] - 0s 3ms/step - loss: 20.9933 - mean_squared_error: 20.9933 - val_loss: 12.1611 - val_mean_squared_error: 12.1611\n",
            "Epoch 5/500\n",
            "19/19 [==============================] - 0s 3ms/step - loss: 13.4896 - mean_squared_error: 13.4896 - val_loss: 9.2568 - val_mean_squared_error: 9.2568\n",
            "Epoch 6/500\n",
            "19/19 [==============================] - 0s 3ms/step - loss: 10.3168 - mean_squared_error: 10.3168 - val_loss: 7.3282 - val_mean_squared_error: 7.3282\n",
            "Epoch 7/500\n",
            "19/19 [==============================] - 0s 3ms/step - loss: 8.4258 - mean_squared_error: 8.4258 - val_loss: 6.2289 - val_mean_squared_error: 6.2289\n",
            "Epoch 8/500\n",
            "19/19 [==============================] - 0s 3ms/step - loss: 7.2750 - mean_squared_error: 7.2750 - val_loss: 5.4490 - val_mean_squared_error: 5.4490\n",
            "Epoch 9/500\n",
            "19/19 [==============================] - 0s 3ms/step - loss: 6.3858 - mean_squared_error: 6.3858 - val_loss: 4.8835 - val_mean_squared_error: 4.8835\n",
            "Epoch 10/500\n",
            "19/19 [==============================] - 0s 2ms/step - loss: 5.7167 - mean_squared_error: 5.7167 - val_loss: 4.3240 - val_mean_squared_error: 4.3240\n",
            "Epoch 11/500\n",
            "19/19 [==============================] - 0s 2ms/step - loss: 5.0373 - mean_squared_error: 5.0373 - val_loss: 3.9373 - val_mean_squared_error: 3.9373\n",
            "Epoch 12/500\n",
            "19/19 [==============================] - 0s 3ms/step - loss: 4.5472 - mean_squared_error: 4.5472 - val_loss: 3.6324 - val_mean_squared_error: 3.6324\n",
            "Epoch 13/500\n",
            "19/19 [==============================] - 0s 3ms/step - loss: 4.0834 - mean_squared_error: 4.0834 - val_loss: 3.2262 - val_mean_squared_error: 3.2262\n",
            "Epoch 14/500\n",
            "19/19 [==============================] - 0s 3ms/step - loss: 3.6956 - mean_squared_error: 3.6956 - val_loss: 2.9534 - val_mean_squared_error: 2.9534\n",
            "Epoch 15/500\n",
            "19/19 [==============================] - 0s 3ms/step - loss: 3.2879 - mean_squared_error: 3.2879 - val_loss: 2.7305 - val_mean_squared_error: 2.7305\n",
            "Epoch 16/500\n",
            "19/19 [==============================] - 0s 3ms/step - loss: 2.9857 - mean_squared_error: 2.9857 - val_loss: 2.5191 - val_mean_squared_error: 2.5191\n",
            "Epoch 17/500\n",
            "19/19 [==============================] - 0s 3ms/step - loss: 2.7347 - mean_squared_error: 2.7347 - val_loss: 2.3605 - val_mean_squared_error: 2.3605\n",
            "Epoch 18/500\n",
            "19/19 [==============================] - 0s 3ms/step - loss: 2.4899 - mean_squared_error: 2.4899 - val_loss: 2.2320 - val_mean_squared_error: 2.2320\n",
            "Epoch 19/500\n",
            "19/19 [==============================] - 0s 3ms/step - loss: 2.3030 - mean_squared_error: 2.3030 - val_loss: 2.0872 - val_mean_squared_error: 2.0872\n",
            "Epoch 20/500\n",
            "19/19 [==============================] - 0s 3ms/step - loss: 2.1496 - mean_squared_error: 2.1496 - val_loss: 2.0771 - val_mean_squared_error: 2.0771\n",
            "Epoch 21/500\n",
            "19/19 [==============================] - 0s 3ms/step - loss: 2.0134 - mean_squared_error: 2.0134 - val_loss: 1.8720 - val_mean_squared_error: 1.8720\n",
            "Epoch 22/500\n",
            "19/19 [==============================] - 0s 3ms/step - loss: 1.8414 - mean_squared_error: 1.8414 - val_loss: 1.9078 - val_mean_squared_error: 1.9078\n",
            "Epoch 23/500\n",
            "19/19 [==============================] - 0s 3ms/step - loss: 1.7026 - mean_squared_error: 1.7026 - val_loss: 1.7191 - val_mean_squared_error: 1.7191\n",
            "Epoch 24/500\n",
            "19/19 [==============================] - 0s 3ms/step - loss: 1.5995 - mean_squared_error: 1.5995 - val_loss: 1.6793 - val_mean_squared_error: 1.6793\n",
            "Epoch 25/500\n",
            "19/19 [==============================] - 0s 3ms/step - loss: 1.5017 - mean_squared_error: 1.5017 - val_loss: 1.6307 - val_mean_squared_error: 1.6307\n",
            "Epoch 26/500\n",
            "19/19 [==============================] - 0s 3ms/step - loss: 1.4312 - mean_squared_error: 1.4312 - val_loss: 1.5758 - val_mean_squared_error: 1.5758\n",
            "Epoch 27/500\n",
            "19/19 [==============================] - 0s 3ms/step - loss: 1.3513 - mean_squared_error: 1.3513 - val_loss: 1.4901 - val_mean_squared_error: 1.4901\n",
            "Epoch 28/500\n",
            "19/19 [==============================] - 0s 3ms/step - loss: 1.3015 - mean_squared_error: 1.3015 - val_loss: 1.4689 - val_mean_squared_error: 1.4689\n",
            "Epoch 29/500\n",
            "19/19 [==============================] - 0s 3ms/step - loss: 1.2241 - mean_squared_error: 1.2241 - val_loss: 1.4417 - val_mean_squared_error: 1.4417\n",
            "Epoch 30/500\n",
            "19/19 [==============================] - 0s 3ms/step - loss: 1.1542 - mean_squared_error: 1.1542 - val_loss: 1.3892 - val_mean_squared_error: 1.3892\n",
            "Epoch 31/500\n",
            "19/19 [==============================] - 0s 3ms/step - loss: 1.1217 - mean_squared_error: 1.1217 - val_loss: 1.4576 - val_mean_squared_error: 1.4576\n",
            "Epoch 32/500\n",
            "19/19 [==============================] - 0s 3ms/step - loss: 1.0903 - mean_squared_error: 1.0903 - val_loss: 1.2866 - val_mean_squared_error: 1.2866\n",
            "Epoch 33/500\n",
            "19/19 [==============================] - 0s 3ms/step - loss: 1.0292 - mean_squared_error: 1.0292 - val_loss: 1.3046 - val_mean_squared_error: 1.3046\n",
            "Epoch 34/500\n",
            "19/19 [==============================] - 0s 3ms/step - loss: 1.0020 - mean_squared_error: 1.0020 - val_loss: 1.2438 - val_mean_squared_error: 1.2438\n",
            "Epoch 35/500\n",
            "19/19 [==============================] - 0s 3ms/step - loss: 0.9883 - mean_squared_error: 0.9883 - val_loss: 1.2256 - val_mean_squared_error: 1.2256\n",
            "Epoch 36/500\n",
            "19/19 [==============================] - 0s 3ms/step - loss: 0.9596 - mean_squared_error: 0.9596 - val_loss: 1.3957 - val_mean_squared_error: 1.3957\n",
            "Epoch 37/500\n",
            "19/19 [==============================] - 0s 3ms/step - loss: 0.9484 - mean_squared_error: 0.9484 - val_loss: 1.2308 - val_mean_squared_error: 1.2308\n",
            "Epoch 38/500\n",
            "19/19 [==============================] - 0s 3ms/step - loss: 0.9169 - mean_squared_error: 0.9169 - val_loss: 1.1548 - val_mean_squared_error: 1.1548\n",
            "Epoch 39/500\n",
            "19/19 [==============================] - 0s 3ms/step - loss: 0.8953 - mean_squared_error: 0.8953 - val_loss: 1.2455 - val_mean_squared_error: 1.2455\n",
            "Epoch 40/500\n",
            "19/19 [==============================] - 0s 3ms/step - loss: 0.8686 - mean_squared_error: 0.8686 - val_loss: 1.1539 - val_mean_squared_error: 1.1539\n",
            "Epoch 41/500\n",
            "19/19 [==============================] - 0s 3ms/step - loss: 0.8161 - mean_squared_error: 0.8161 - val_loss: 1.1515 - val_mean_squared_error: 1.1515\n",
            "Epoch 42/500\n",
            "19/19 [==============================] - 0s 3ms/step - loss: 0.8178 - mean_squared_error: 0.8178 - val_loss: 1.2029 - val_mean_squared_error: 1.2029\n",
            "Epoch 43/500\n",
            "19/19 [==============================] - 0s 3ms/step - loss: 0.8116 - mean_squared_error: 0.8116 - val_loss: 1.2434 - val_mean_squared_error: 1.2434\n",
            "Epoch 44/500\n",
            "19/19 [==============================] - 0s 3ms/step - loss: 0.7994 - mean_squared_error: 0.7994 - val_loss: 1.1360 - val_mean_squared_error: 1.1360\n",
            "Epoch 45/500\n",
            "19/19 [==============================] - 0s 3ms/step - loss: 0.7704 - mean_squared_error: 0.7704 - val_loss: 1.1249 - val_mean_squared_error: 1.1249\n",
            "Epoch 46/500\n",
            "19/19 [==============================] - 0s 3ms/step - loss: 0.7390 - mean_squared_error: 0.7390 - val_loss: 1.0853 - val_mean_squared_error: 1.0853\n",
            "Epoch 47/500\n",
            "19/19 [==============================] - 0s 3ms/step - loss: 0.7480 - mean_squared_error: 0.7480 - val_loss: 1.1750 - val_mean_squared_error: 1.1750\n",
            "Epoch 48/500\n",
            "19/19 [==============================] - 0s 4ms/step - loss: 0.7144 - mean_squared_error: 0.7144 - val_loss: 1.0255 - val_mean_squared_error: 1.0255\n",
            "Epoch 49/500\n",
            "19/19 [==============================] - 0s 3ms/step - loss: 0.7006 - mean_squared_error: 0.7006 - val_loss: 1.0520 - val_mean_squared_error: 1.0520\n",
            "Epoch 50/500\n",
            "19/19 [==============================] - 0s 3ms/step - loss: 0.7112 - mean_squared_error: 0.7112 - val_loss: 1.0899 - val_mean_squared_error: 1.0899\n",
            "Epoch 51/500\n",
            "19/19 [==============================] - 0s 3ms/step - loss: 0.6908 - mean_squared_error: 0.6908 - val_loss: 1.0565 - val_mean_squared_error: 1.0565\n",
            "Epoch 52/500\n",
            "19/19 [==============================] - 0s 3ms/step - loss: 0.6871 - mean_squared_error: 0.6871 - val_loss: 1.0524 - val_mean_squared_error: 1.0524\n",
            "Epoch 53/500\n",
            "19/19 [==============================] - 0s 3ms/step - loss: 0.6909 - mean_squared_error: 0.6909 - val_loss: 1.0379 - val_mean_squared_error: 1.0379\n",
            "Epoch 54/500\n",
            "19/19 [==============================] - 0s 3ms/step - loss: 0.6590 - mean_squared_error: 0.6590 - val_loss: 0.9726 - val_mean_squared_error: 0.9726\n",
            "Epoch 55/500\n",
            "19/19 [==============================] - 0s 3ms/step - loss: 0.6360 - mean_squared_error: 0.6360 - val_loss: 1.0097 - val_mean_squared_error: 1.0097\n",
            "Epoch 56/500\n",
            "19/19 [==============================] - 0s 3ms/step - loss: 0.6217 - mean_squared_error: 0.6217 - val_loss: 1.0053 - val_mean_squared_error: 1.0053\n",
            "Epoch 57/500\n",
            "19/19 [==============================] - 0s 3ms/step - loss: 0.6291 - mean_squared_error: 0.6291 - val_loss: 1.0055 - val_mean_squared_error: 1.0055\n",
            "Epoch 58/500\n",
            "19/19 [==============================] - 0s 3ms/step - loss: 0.6091 - mean_squared_error: 0.6091 - val_loss: 0.9471 - val_mean_squared_error: 0.9471\n",
            "Epoch 59/500\n",
            "19/19 [==============================] - 0s 3ms/step - loss: 0.6219 - mean_squared_error: 0.6219 - val_loss: 0.9691 - val_mean_squared_error: 0.9691\n",
            "Epoch 60/500\n",
            "19/19 [==============================] - 0s 3ms/step - loss: 0.5824 - mean_squared_error: 0.5824 - val_loss: 1.0019 - val_mean_squared_error: 1.0019\n",
            "Epoch 61/500\n",
            "19/19 [==============================] - 0s 3ms/step - loss: 0.5691 - mean_squared_error: 0.5691 - val_loss: 0.9595 - val_mean_squared_error: 0.9595\n",
            "Epoch 62/500\n",
            "19/19 [==============================] - 0s 3ms/step - loss: 0.5568 - mean_squared_error: 0.5568 - val_loss: 0.9580 - val_mean_squared_error: 0.9580\n",
            "Epoch 63/500\n",
            "19/19 [==============================] - 0s 3ms/step - loss: 0.5657 - mean_squared_error: 0.5657 - val_loss: 0.9475 - val_mean_squared_error: 0.9475\n",
            "Epoch 64/500\n",
            "19/19 [==============================] - 0s 3ms/step - loss: 0.5436 - mean_squared_error: 0.5436 - val_loss: 1.0873 - val_mean_squared_error: 1.0873\n",
            "Epoch 65/500\n",
            "19/19 [==============================] - 0s 3ms/step - loss: 0.5901 - mean_squared_error: 0.5901 - val_loss: 0.9432 - val_mean_squared_error: 0.9432\n",
            "Epoch 66/500\n",
            "19/19 [==============================] - 0s 3ms/step - loss: 0.5533 - mean_squared_error: 0.5533 - val_loss: 0.9217 - val_mean_squared_error: 0.9217\n",
            "Epoch 67/500\n",
            "19/19 [==============================] - 0s 3ms/step - loss: 0.5390 - mean_squared_error: 0.5390 - val_loss: 1.0770 - val_mean_squared_error: 1.0770\n",
            "Epoch 68/500\n",
            "19/19 [==============================] - 0s 3ms/step - loss: 0.5371 - mean_squared_error: 0.5371 - val_loss: 0.9414 - val_mean_squared_error: 0.9414\n",
            "Epoch 69/500\n",
            "19/19 [==============================] - 0s 3ms/step - loss: 0.5207 - mean_squared_error: 0.5207 - val_loss: 0.9443 - val_mean_squared_error: 0.9443\n",
            "Epoch 70/500\n",
            "19/19 [==============================] - 0s 3ms/step - loss: 0.5094 - mean_squared_error: 0.5094 - val_loss: 0.9223 - val_mean_squared_error: 0.9223\n",
            "Epoch 71/500\n",
            "19/19 [==============================] - 0s 3ms/step - loss: 0.5572 - mean_squared_error: 0.5572 - val_loss: 0.9082 - val_mean_squared_error: 0.9082\n",
            "Epoch 72/500\n",
            "19/19 [==============================] - 0s 4ms/step - loss: 0.5307 - mean_squared_error: 0.5307 - val_loss: 1.0175 - val_mean_squared_error: 1.0175\n",
            "Epoch 73/500\n",
            "19/19 [==============================] - 0s 3ms/step - loss: 0.5567 - mean_squared_error: 0.5567 - val_loss: 0.9070 - val_mean_squared_error: 0.9070\n",
            "Epoch 74/500\n",
            "19/19 [==============================] - 0s 3ms/step - loss: 0.4892 - mean_squared_error: 0.4892 - val_loss: 0.9380 - val_mean_squared_error: 0.9380\n",
            "Epoch 75/500\n",
            "19/19 [==============================] - 0s 3ms/step - loss: 0.4839 - mean_squared_error: 0.4839 - val_loss: 0.8738 - val_mean_squared_error: 0.8738\n",
            "Epoch 76/500\n",
            "19/19 [==============================] - 0s 3ms/step - loss: 0.4823 - mean_squared_error: 0.4823 - val_loss: 0.8945 - val_mean_squared_error: 0.8945\n",
            "Epoch 77/500\n",
            "19/19 [==============================] - 0s 3ms/step - loss: 0.4703 - mean_squared_error: 0.4703 - val_loss: 0.8836 - val_mean_squared_error: 0.8836\n",
            "Epoch 78/500\n",
            "19/19 [==============================] - 0s 3ms/step - loss: 0.4683 - mean_squared_error: 0.4683 - val_loss: 0.9524 - val_mean_squared_error: 0.9524\n",
            "Epoch 79/500\n",
            "19/19 [==============================] - 0s 4ms/step - loss: 0.4810 - mean_squared_error: 0.4810 - val_loss: 0.8805 - val_mean_squared_error: 0.8805\n",
            "Epoch 80/500\n",
            "19/19 [==============================] - 0s 2ms/step - loss: 0.4823 - mean_squared_error: 0.4823 - val_loss: 0.9078 - val_mean_squared_error: 0.9078\n",
            "Epoch 81/500\n",
            "19/19 [==============================] - 0s 2ms/step - loss: 0.4645 - mean_squared_error: 0.4645 - val_loss: 0.8813 - val_mean_squared_error: 0.8813\n",
            "Epoch 82/500\n",
            "19/19 [==============================] - 0s 2ms/step - loss: 0.4501 - mean_squared_error: 0.4501 - val_loss: 0.8935 - val_mean_squared_error: 0.8935\n",
            "Epoch 83/500\n",
            "19/19 [==============================] - 0s 3ms/step - loss: 0.4574 - mean_squared_error: 0.4574 - val_loss: 0.8871 - val_mean_squared_error: 0.8871\n",
            "Epoch 84/500\n",
            "19/19 [==============================] - 0s 2ms/step - loss: 0.4644 - mean_squared_error: 0.4644 - val_loss: 0.8622 - val_mean_squared_error: 0.8622\n",
            "Epoch 85/500\n",
            "19/19 [==============================] - 0s 3ms/step - loss: 0.4450 - mean_squared_error: 0.4450 - val_loss: 0.8472 - val_mean_squared_error: 0.8472\n",
            "Epoch 86/500\n",
            "19/19 [==============================] - 0s 3ms/step - loss: 0.4398 - mean_squared_error: 0.4398 - val_loss: 0.8549 - val_mean_squared_error: 0.8549\n",
            "Epoch 87/500\n",
            "19/19 [==============================] - 0s 3ms/step - loss: 0.4316 - mean_squared_error: 0.4316 - val_loss: 0.8324 - val_mean_squared_error: 0.8324\n",
            "Epoch 88/500\n",
            "19/19 [==============================] - 0s 3ms/step - loss: 0.4540 - mean_squared_error: 0.4540 - val_loss: 0.8754 - val_mean_squared_error: 0.8754\n",
            "Epoch 89/500\n",
            "19/19 [==============================] - 0s 3ms/step - loss: 0.4891 - mean_squared_error: 0.4891 - val_loss: 0.8812 - val_mean_squared_error: 0.8812\n",
            "Epoch 90/500\n",
            "19/19 [==============================] - 0s 3ms/step - loss: 0.4541 - mean_squared_error: 0.4541 - val_loss: 0.8159 - val_mean_squared_error: 0.8159\n",
            "Epoch 91/500\n",
            "19/19 [==============================] - 0s 3ms/step - loss: 0.4154 - mean_squared_error: 0.4154 - val_loss: 0.8802 - val_mean_squared_error: 0.8802\n",
            "Epoch 92/500\n",
            "19/19 [==============================] - 0s 3ms/step - loss: 0.4273 - mean_squared_error: 0.4273 - val_loss: 0.8515 - val_mean_squared_error: 0.8515\n",
            "Epoch 93/500\n",
            "19/19 [==============================] - 0s 3ms/step - loss: 0.3964 - mean_squared_error: 0.3964 - val_loss: 1.0137 - val_mean_squared_error: 1.0137\n",
            "Epoch 94/500\n",
            "19/19 [==============================] - 0s 3ms/step - loss: 0.4323 - mean_squared_error: 0.4323 - val_loss: 0.8826 - val_mean_squared_error: 0.8826\n",
            "Epoch 95/500\n",
            "19/19 [==============================] - 0s 3ms/step - loss: 0.4280 - mean_squared_error: 0.4280 - val_loss: 0.9190 - val_mean_squared_error: 0.9190\n",
            "Epoch 96/500\n",
            "19/19 [==============================] - 0s 3ms/step - loss: 0.4407 - mean_squared_error: 0.4407 - val_loss: 0.8325 - val_mean_squared_error: 0.8325\n",
            "Epoch 97/500\n",
            "19/19 [==============================] - 0s 3ms/step - loss: 0.4131 - mean_squared_error: 0.4131 - val_loss: 0.8502 - val_mean_squared_error: 0.8502\n",
            "Epoch 98/500\n",
            "19/19 [==============================] - 0s 3ms/step - loss: 0.3950 - mean_squared_error: 0.3950 - val_loss: 0.8554 - val_mean_squared_error: 0.8554\n",
            "Epoch 99/500\n",
            "19/19 [==============================] - 0s 3ms/step - loss: 0.4143 - mean_squared_error: 0.4143 - val_loss: 0.8170 - val_mean_squared_error: 0.8170\n",
            "Epoch 100/500\n",
            "19/19 [==============================] - 0s 3ms/step - loss: 0.3973 - mean_squared_error: 0.3973 - val_loss: 0.7854 - val_mean_squared_error: 0.7854\n",
            "Epoch 101/500\n",
            "19/19 [==============================] - 0s 3ms/step - loss: 0.3743 - mean_squared_error: 0.3743 - val_loss: 0.8021 - val_mean_squared_error: 0.8021\n",
            "Epoch 102/500\n",
            "19/19 [==============================] - 0s 3ms/step - loss: 0.3900 - mean_squared_error: 0.3900 - val_loss: 0.7883 - val_mean_squared_error: 0.7883\n",
            "Epoch 103/500\n",
            "19/19 [==============================] - 0s 3ms/step - loss: 0.3761 - mean_squared_error: 0.3761 - val_loss: 0.7931 - val_mean_squared_error: 0.7931\n",
            "Epoch 104/500\n",
            "19/19 [==============================] - 0s 3ms/step - loss: 0.3909 - mean_squared_error: 0.3909 - val_loss: 0.8147 - val_mean_squared_error: 0.8147\n",
            "Epoch 105/500\n",
            "19/19 [==============================] - 0s 3ms/step - loss: 0.3901 - mean_squared_error: 0.3901 - val_loss: 0.8079 - val_mean_squared_error: 0.8079\n",
            "Epoch 106/500\n",
            "19/19 [==============================] - 0s 3ms/step - loss: 0.3917 - mean_squared_error: 0.3917 - val_loss: 0.7910 - val_mean_squared_error: 0.7910\n",
            "Epoch 107/500\n",
            "19/19 [==============================] - 0s 3ms/step - loss: 0.3896 - mean_squared_error: 0.3896 - val_loss: 0.8590 - val_mean_squared_error: 0.8590\n",
            "Epoch 108/500\n",
            "19/19 [==============================] - 0s 4ms/step - loss: 0.3855 - mean_squared_error: 0.3855 - val_loss: 0.8562 - val_mean_squared_error: 0.8562\n",
            "Epoch 109/500\n",
            "19/19 [==============================] - 0s 3ms/step - loss: 0.4071 - mean_squared_error: 0.4071 - val_loss: 0.8081 - val_mean_squared_error: 0.8081\n",
            "Epoch 110/500\n",
            "19/19 [==============================] - 0s 3ms/step - loss: 0.3594 - mean_squared_error: 0.3594 - val_loss: 0.8027 - val_mean_squared_error: 0.8027\n",
            "Epoch 111/500\n",
            "19/19 [==============================] - 0s 3ms/step - loss: 0.3627 - mean_squared_error: 0.3627 - val_loss: 0.7853 - val_mean_squared_error: 0.7853\n",
            "Epoch 112/500\n",
            "19/19 [==============================] - 0s 3ms/step - loss: 0.3640 - mean_squared_error: 0.3640 - val_loss: 0.7945 - val_mean_squared_error: 0.7945\n",
            "Epoch 113/500\n",
            "19/19 [==============================] - 0s 4ms/step - loss: 0.3643 - mean_squared_error: 0.3643 - val_loss: 0.7513 - val_mean_squared_error: 0.7513\n",
            "Epoch 114/500\n",
            "19/19 [==============================] - 0s 4ms/step - loss: 0.3488 - mean_squared_error: 0.3488 - val_loss: 0.7744 - val_mean_squared_error: 0.7744\n",
            "Epoch 115/500\n",
            "19/19 [==============================] - 0s 3ms/step - loss: 0.3402 - mean_squared_error: 0.3402 - val_loss: 0.7715 - val_mean_squared_error: 0.7715\n",
            "Epoch 116/500\n",
            "19/19 [==============================] - 0s 3ms/step - loss: 0.3449 - mean_squared_error: 0.3449 - val_loss: 0.7602 - val_mean_squared_error: 0.7602\n",
            "Epoch 117/500\n",
            "19/19 [==============================] - 0s 3ms/step - loss: 0.3325 - mean_squared_error: 0.3325 - val_loss: 0.7729 - val_mean_squared_error: 0.7729\n",
            "Epoch 118/500\n",
            "19/19 [==============================] - 0s 3ms/step - loss: 0.3312 - mean_squared_error: 0.3312 - val_loss: 0.7637 - val_mean_squared_error: 0.7637\n",
            "Epoch 119/500\n",
            "19/19 [==============================] - 0s 3ms/step - loss: 0.3520 - mean_squared_error: 0.3520 - val_loss: 0.7713 - val_mean_squared_error: 0.7713\n",
            "Epoch 120/500\n",
            "19/19 [==============================] - 0s 3ms/step - loss: 0.3380 - mean_squared_error: 0.3380 - val_loss: 0.7774 - val_mean_squared_error: 0.7774\n",
            "Epoch 121/500\n",
            "19/19 [==============================] - 0s 3ms/step - loss: 0.3239 - mean_squared_error: 0.3239 - val_loss: 0.7421 - val_mean_squared_error: 0.7421\n",
            "Epoch 122/500\n",
            "19/19 [==============================] - 0s 3ms/step - loss: 0.3476 - mean_squared_error: 0.3476 - val_loss: 0.8129 - val_mean_squared_error: 0.8129\n",
            "Epoch 123/500\n",
            "19/19 [==============================] - 0s 3ms/step - loss: 0.3476 - mean_squared_error: 0.3476 - val_loss: 0.7933 - val_mean_squared_error: 0.7933\n",
            "Epoch 124/500\n",
            "19/19 [==============================] - 0s 2ms/step - loss: 0.3405 - mean_squared_error: 0.3405 - val_loss: 0.7613 - val_mean_squared_error: 0.7613\n",
            "Epoch 125/500\n",
            "19/19 [==============================] - 0s 3ms/step - loss: 0.3258 - mean_squared_error: 0.3258 - val_loss: 0.7681 - val_mean_squared_error: 0.7681\n",
            "Epoch 126/500\n",
            "19/19 [==============================] - 0s 3ms/step - loss: 0.3609 - mean_squared_error: 0.3609 - val_loss: 0.7958 - val_mean_squared_error: 0.7958\n",
            "Epoch 127/500\n",
            "19/19 [==============================] - 0s 3ms/step - loss: 0.3527 - mean_squared_error: 0.3527 - val_loss: 0.7427 - val_mean_squared_error: 0.7427\n",
            "Epoch 128/500\n",
            "19/19 [==============================] - 0s 3ms/step - loss: 0.3148 - mean_squared_error: 0.3148 - val_loss: 0.7791 - val_mean_squared_error: 0.7791\n",
            "Epoch 129/500\n",
            "19/19 [==============================] - 0s 3ms/step - loss: 0.3077 - mean_squared_error: 0.3077 - val_loss: 0.7259 - val_mean_squared_error: 0.7259\n",
            "Epoch 130/500\n",
            "19/19 [==============================] - 0s 3ms/step - loss: 0.3336 - mean_squared_error: 0.3336 - val_loss: 0.7658 - val_mean_squared_error: 0.7658\n",
            "Epoch 131/500\n",
            "19/19 [==============================] - 0s 3ms/step - loss: 0.3276 - mean_squared_error: 0.3276 - val_loss: 0.8711 - val_mean_squared_error: 0.8711\n",
            "Epoch 132/500\n",
            "19/19 [==============================] - 0s 3ms/step - loss: 0.3273 - mean_squared_error: 0.3273 - val_loss: 0.7717 - val_mean_squared_error: 0.7717\n",
            "Epoch 133/500\n",
            "19/19 [==============================] - 0s 3ms/step - loss: 0.3324 - mean_squared_error: 0.3324 - val_loss: 0.7361 - val_mean_squared_error: 0.7361\n",
            "Epoch 134/500\n",
            "19/19 [==============================] - 0s 3ms/step - loss: 0.3063 - mean_squared_error: 0.3063 - val_loss: 0.7358 - val_mean_squared_error: 0.7358\n",
            "Epoch 135/500\n",
            "19/19 [==============================] - 0s 3ms/step - loss: 0.3157 - mean_squared_error: 0.3157 - val_loss: 0.7427 - val_mean_squared_error: 0.7427\n",
            "Epoch 136/500\n",
            "19/19 [==============================] - 0s 3ms/step - loss: 0.3095 - mean_squared_error: 0.3095 - val_loss: 0.7136 - val_mean_squared_error: 0.7136\n",
            "Epoch 137/500\n",
            "19/19 [==============================] - 0s 3ms/step - loss: 0.3180 - mean_squared_error: 0.3180 - val_loss: 0.7546 - val_mean_squared_error: 0.7546\n",
            "Epoch 138/500\n",
            "19/19 [==============================] - 0s 3ms/step - loss: 0.3020 - mean_squared_error: 0.3020 - val_loss: 0.7240 - val_mean_squared_error: 0.7240\n",
            "Epoch 139/500\n",
            "19/19 [==============================] - 0s 3ms/step - loss: 0.3061 - mean_squared_error: 0.3061 - val_loss: 0.7488 - val_mean_squared_error: 0.7488\n",
            "Epoch 140/500\n",
            "19/19 [==============================] - 0s 3ms/step - loss: 0.2959 - mean_squared_error: 0.2959 - val_loss: 0.7319 - val_mean_squared_error: 0.7319\n",
            "Epoch 141/500\n",
            "19/19 [==============================] - 0s 3ms/step - loss: 0.2879 - mean_squared_error: 0.2879 - val_loss: 0.7811 - val_mean_squared_error: 0.7811\n",
            "Epoch 142/500\n",
            "19/19 [==============================] - 0s 3ms/step - loss: 0.2940 - mean_squared_error: 0.2940 - val_loss: 0.7545 - val_mean_squared_error: 0.7545\n",
            "Epoch 143/500\n",
            "19/19 [==============================] - 0s 4ms/step - loss: 0.2880 - mean_squared_error: 0.2880 - val_loss: 0.7509 - val_mean_squared_error: 0.7509\n",
            "Epoch 144/500\n",
            "19/19 [==============================] - 0s 3ms/step - loss: 0.3121 - mean_squared_error: 0.3121 - val_loss: 0.8502 - val_mean_squared_error: 0.8502\n",
            "Epoch 145/500\n",
            "19/19 [==============================] - 0s 3ms/step - loss: 0.3385 - mean_squared_error: 0.3385 - val_loss: 0.7677 - val_mean_squared_error: 0.7677\n",
            "Epoch 146/500\n",
            "19/19 [==============================] - 0s 3ms/step - loss: 0.3364 - mean_squared_error: 0.3364 - val_loss: 0.8258 - val_mean_squared_error: 0.8258\n",
            "Epoch 147/500\n",
            "19/19 [==============================] - 0s 3ms/step - loss: 0.3128 - mean_squared_error: 0.3128 - val_loss: 0.7042 - val_mean_squared_error: 0.7042\n",
            "Epoch 148/500\n",
            "19/19 [==============================] - 0s 3ms/step - loss: 0.2691 - mean_squared_error: 0.2691 - val_loss: 0.7157 - val_mean_squared_error: 0.7157\n",
            "Epoch 149/500\n",
            "19/19 [==============================] - 0s 3ms/step - loss: 0.2779 - mean_squared_error: 0.2779 - val_loss: 0.7018 - val_mean_squared_error: 0.7018\n",
            "Epoch 150/500\n",
            "19/19 [==============================] - 0s 3ms/step - loss: 0.2806 - mean_squared_error: 0.2806 - val_loss: 0.7305 - val_mean_squared_error: 0.7305\n",
            "Epoch 151/500\n",
            "19/19 [==============================] - 0s 3ms/step - loss: 0.2818 - mean_squared_error: 0.2818 - val_loss: 0.6642 - val_mean_squared_error: 0.6642\n",
            "Epoch 152/500\n",
            "19/19 [==============================] - 0s 3ms/step - loss: 0.2713 - mean_squared_error: 0.2713 - val_loss: 0.6878 - val_mean_squared_error: 0.6878\n",
            "Epoch 153/500\n",
            "19/19 [==============================] - 0s 3ms/step - loss: 0.2759 - mean_squared_error: 0.2759 - val_loss: 0.7710 - val_mean_squared_error: 0.7710\n",
            "Epoch 154/500\n",
            "19/19 [==============================] - 0s 3ms/step - loss: 0.3262 - mean_squared_error: 0.3262 - val_loss: 0.8070 - val_mean_squared_error: 0.8070\n",
            "Epoch 155/500\n",
            "19/19 [==============================] - 0s 3ms/step - loss: 0.3295 - mean_squared_error: 0.3295 - val_loss: 0.7855 - val_mean_squared_error: 0.7855\n",
            "Epoch 156/500\n",
            "19/19 [==============================] - 0s 3ms/step - loss: 0.3166 - mean_squared_error: 0.3166 - val_loss: 0.8182 - val_mean_squared_error: 0.8182\n",
            "Epoch 157/500\n",
            "19/19 [==============================] - 0s 3ms/step - loss: 0.3314 - mean_squared_error: 0.3314 - val_loss: 0.7019 - val_mean_squared_error: 0.7019\n",
            "Epoch 158/500\n",
            "19/19 [==============================] - 0s 3ms/step - loss: 0.2731 - mean_squared_error: 0.2731 - val_loss: 0.7366 - val_mean_squared_error: 0.7366\n",
            "Epoch 159/500\n",
            "19/19 [==============================] - 0s 3ms/step - loss: 0.2791 - mean_squared_error: 0.2791 - val_loss: 0.6902 - val_mean_squared_error: 0.6902\n",
            "Epoch 160/500\n",
            "19/19 [==============================] - 0s 3ms/step - loss: 0.2529 - mean_squared_error: 0.2529 - val_loss: 0.7032 - val_mean_squared_error: 0.7032\n",
            "Epoch 161/500\n",
            "19/19 [==============================] - 0s 3ms/step - loss: 0.3004 - mean_squared_error: 0.3004 - val_loss: 0.7434 - val_mean_squared_error: 0.7434\n",
            "Epoch 162/500\n",
            "19/19 [==============================] - 0s 3ms/step - loss: 0.2830 - mean_squared_error: 0.2830 - val_loss: 0.7374 - val_mean_squared_error: 0.7374\n",
            "Epoch 163/500\n",
            "19/19 [==============================] - 0s 3ms/step - loss: 0.2500 - mean_squared_error: 0.2500 - val_loss: 0.6874 - val_mean_squared_error: 0.6874\n",
            "Epoch 164/500\n",
            "19/19 [==============================] - 0s 3ms/step - loss: 0.2557 - mean_squared_error: 0.2557 - val_loss: 0.8504 - val_mean_squared_error: 0.8504\n",
            "Epoch 165/500\n",
            "19/19 [==============================] - 0s 3ms/step - loss: 0.2932 - mean_squared_error: 0.2932 - val_loss: 0.7131 - val_mean_squared_error: 0.7131\n",
            "Epoch 166/500\n",
            "19/19 [==============================] - 0s 3ms/step - loss: 0.2797 - mean_squared_error: 0.2797 - val_loss: 0.6842 - val_mean_squared_error: 0.6842\n",
            "Epoch 167/500\n",
            "19/19 [==============================] - 0s 3ms/step - loss: 0.2447 - mean_squared_error: 0.2447 - val_loss: 0.7292 - val_mean_squared_error: 0.7292\n",
            "Epoch 168/500\n",
            "19/19 [==============================] - 0s 3ms/step - loss: 0.2568 - mean_squared_error: 0.2568 - val_loss: 0.6669 - val_mean_squared_error: 0.6669\n",
            "Epoch 169/500\n",
            "19/19 [==============================] - 0s 3ms/step - loss: 0.2499 - mean_squared_error: 0.2499 - val_loss: 0.6735 - val_mean_squared_error: 0.6735\n",
            "Epoch 170/500\n",
            "19/19 [==============================] - 0s 3ms/step - loss: 0.2440 - mean_squared_error: 0.2440 - val_loss: 0.6983 - val_mean_squared_error: 0.6983\n",
            "Epoch 171/500\n",
            "19/19 [==============================] - 0s 3ms/step - loss: 0.2383 - mean_squared_error: 0.2383 - val_loss: 0.7032 - val_mean_squared_error: 0.7032\n"
          ]
        },
        {
          "output_type": "execute_result",
          "data": {
            "text/plain": [
              "<keras.callbacks.History at 0x7ffb02435e90>"
            ]
          },
          "metadata": {},
          "execution_count": 43
        }
      ]
    },
    {
      "cell_type": "code",
      "source": [
        "pred3=model.predict(x_test_o[:1])\n",
        "pred3"
      ],
      "metadata": {
        "colab": {
          "base_uri": "https://localhost:8080/"
        },
        "id": "d-iJiWIXXR1-",
        "outputId": "8c734c6e-9d63-407d-ae05-a27a64cf03be"
      },
      "execution_count": 44,
      "outputs": [
        {
          "output_type": "execute_result",
          "data": {
            "text/plain": [
              "array([[19.639912]], dtype=float32)"
            ]
          },
          "metadata": {},
          "execution_count": 44
        }
      ]
    },
    {
      "cell_type": "code",
      "source": [
        "ora['tempC'].iloc[-1]"
      ],
      "metadata": {
        "colab": {
          "base_uri": "https://localhost:8080/"
        },
        "id": "fr8idpAJ7Yjp",
        "outputId": "239149f0-2512-4b3a-e477-9c34ba78cc0d"
      },
      "execution_count": 45,
      "outputs": [
        {
          "output_type": "execute_result",
          "data": {
            "text/plain": [
              "18"
            ]
          },
          "metadata": {},
          "execution_count": 45
        }
      ]
    }
  ]
}