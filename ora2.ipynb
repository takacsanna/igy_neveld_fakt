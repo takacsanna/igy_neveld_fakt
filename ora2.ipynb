{
  "nbformat": 4,
  "nbformat_minor": 0,
  "metadata": {
    "colab": {
      "name": "ora2.ipynb",
      "provenance": [],
      "authorship_tag": "ABX9TyOb++75WOmNceuIho3EO0PX",
      "include_colab_link": true
    },
    "kernelspec": {
      "name": "python3",
      "display_name": "Python 3"
    },
    "language_info": {
      "name": "python"
    }
  },
  "cells": [
    {
      "cell_type": "markdown",
      "metadata": {
        "id": "view-in-github",
        "colab_type": "text"
      },
      "source": [
        "<a href=\"https://colab.research.google.com/github/takacsanna/igy_neveld_fakt/blob/main/ora2.ipynb\" target=\"_parent\"><img src=\"https://colab.research.google.com/assets/colab-badge.svg\" alt=\"Open In Colab\"/></a>"
      ]
    },
    {
      "cell_type": "code",
      "execution_count": null,
      "metadata": {
        "id": "JgD8zJMRco02"
      },
      "outputs": [],
      "source": [
        ""
      ]
    }
  ]
}